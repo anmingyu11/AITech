{
 "cells": [
  {
   "cell_type": "markdown",
   "metadata": {},
   "source": [
    "# Modified Naive Bayes scores 0.899 LB - Santander\n",
    "\n",
    "In this kernel we demonstrate that unconstrained Naive Bayes can score 0.899 LB. I call it \"unconstrained\" because it doesn't assume that each variable has a Gaussian distribution like typical Naive Bayes. Instead we allow for arbitrary distributions and we plot these distributions below. I called it \"modified\" because we don't reverse the conditional probabilities.\n",
    "\n",
    "This kernel is useful because (1) it shows that an accurate score can be achieved using a simple model that assumes the variables are independent. And (2) this kernel displays interesting EDA which provides insights about the data.\n",
    "\n",
    "> 在这个内核中，我们证明了无约束朴素贝叶斯可以获得0.899 LB的分数。\n",
    ">\n",
    "> 我称之为“无约束”，因为它没有假设每个变量都像典型的朴素贝叶斯那样具有高斯分布。\n",
    ">\n",
    "> 我们允许任意分布我们把这些分布画在下面。我称它为“修改过的”，因为我们没有颠倒条件概率。\n",
    ">\n",
    "> 这个内核是有用的，因为\n",
    "> \n",
    "> (1)它表明，可以使用假定变量独立的简单模型来获得准确的分数。\n",
    "> \n",
    "> (2)该内核显示了有趣的EDA，它提供了关于数据的见解。\n",
    "\n",
    "# Load Data"
   ]
  },
  {
   "cell_type": "code",
   "execution_count": 1,
   "metadata": {
    "_cell_guid": "79c7e3d0-c299-4dcb-8224-4455121ee9b0",
    "_uuid": "d629ff2d2480ee46fbb7e2d37f6b5fab8052498a"
   },
   "outputs": [
    {
     "data": {
      "text/html": [
       "<div>\n",
       "<style scoped>\n",
       "    .dataframe tbody tr th:only-of-type {\n",
       "        vertical-align: middle;\n",
       "    }\n",
       "\n",
       "    .dataframe tbody tr th {\n",
       "        vertical-align: top;\n",
       "    }\n",
       "\n",
       "    .dataframe thead th {\n",
       "        text-align: right;\n",
       "    }\n",
       "</style>\n",
       "<table border=\"1\" class=\"dataframe\">\n",
       "  <thead>\n",
       "    <tr style=\"text-align: right;\">\n",
       "      <th></th>\n",
       "      <th>ID_code</th>\n",
       "      <th>target</th>\n",
       "      <th>var_0</th>\n",
       "      <th>var_1</th>\n",
       "      <th>var_2</th>\n",
       "      <th>var_3</th>\n",
       "      <th>var_4</th>\n",
       "      <th>var_5</th>\n",
       "      <th>var_6</th>\n",
       "      <th>var_7</th>\n",
       "      <th>...</th>\n",
       "      <th>var_190</th>\n",
       "      <th>var_191</th>\n",
       "      <th>var_192</th>\n",
       "      <th>var_193</th>\n",
       "      <th>var_194</th>\n",
       "      <th>var_195</th>\n",
       "      <th>var_196</th>\n",
       "      <th>var_197</th>\n",
       "      <th>var_198</th>\n",
       "      <th>var_199</th>\n",
       "    </tr>\n",
       "  </thead>\n",
       "  <tbody>\n",
       "    <tr>\n",
       "      <td>140015</td>\n",
       "      <td>train_140015</td>\n",
       "      <td>0</td>\n",
       "      <td>8.3052</td>\n",
       "      <td>2.1909</td>\n",
       "      <td>6.8417</td>\n",
       "      <td>6.4624</td>\n",
       "      <td>14.7108</td>\n",
       "      <td>5.1525</td>\n",
       "      <td>4.4309</td>\n",
       "      <td>18.3012</td>\n",
       "      <td>...</td>\n",
       "      <td>5.5245</td>\n",
       "      <td>4.1001</td>\n",
       "      <td>4.5699</td>\n",
       "      <td>-0.6720</td>\n",
       "      <td>18.4472</td>\n",
       "      <td>1.0742</td>\n",
       "      <td>-4.8858</td>\n",
       "      <td>8.6457</td>\n",
       "      <td>11.4497</td>\n",
       "      <td>4.3211</td>\n",
       "    </tr>\n",
       "    <tr>\n",
       "      <td>71286</td>\n",
       "      <td>train_71286</td>\n",
       "      <td>1</td>\n",
       "      <td>7.2312</td>\n",
       "      <td>0.0090</td>\n",
       "      <td>11.9094</td>\n",
       "      <td>8.1665</td>\n",
       "      <td>12.3289</td>\n",
       "      <td>-3.9241</td>\n",
       "      <td>5.9585</td>\n",
       "      <td>16.1397</td>\n",
       "      <td>...</td>\n",
       "      <td>2.5993</td>\n",
       "      <td>12.4236</td>\n",
       "      <td>1.4882</td>\n",
       "      <td>10.2028</td>\n",
       "      <td>14.8218</td>\n",
       "      <td>-0.4951</td>\n",
       "      <td>5.4614</td>\n",
       "      <td>8.8565</td>\n",
       "      <td>14.9512</td>\n",
       "      <td>-13.6681</td>\n",
       "    </tr>\n",
       "    <tr>\n",
       "      <td>128672</td>\n",
       "      <td>train_128672</td>\n",
       "      <td>0</td>\n",
       "      <td>7.6442</td>\n",
       "      <td>-2.5270</td>\n",
       "      <td>11.2167</td>\n",
       "      <td>6.9669</td>\n",
       "      <td>8.3292</td>\n",
       "      <td>-10.9752</td>\n",
       "      <td>5.5517</td>\n",
       "      <td>18.2742</td>\n",
       "      <td>...</td>\n",
       "      <td>9.1370</td>\n",
       "      <td>3.4348</td>\n",
       "      <td>2.0496</td>\n",
       "      <td>7.9973</td>\n",
       "      <td>17.4999</td>\n",
       "      <td>-0.7652</td>\n",
       "      <td>-1.0401</td>\n",
       "      <td>6.8177</td>\n",
       "      <td>16.4237</td>\n",
       "      <td>-9.6524</td>\n",
       "    </tr>\n",
       "    <tr>\n",
       "      <td>131524</td>\n",
       "      <td>train_131524</td>\n",
       "      <td>0</td>\n",
       "      <td>12.9961</td>\n",
       "      <td>-1.8077</td>\n",
       "      <td>13.0703</td>\n",
       "      <td>6.9122</td>\n",
       "      <td>10.6569</td>\n",
       "      <td>-4.4316</td>\n",
       "      <td>6.0126</td>\n",
       "      <td>12.2229</td>\n",
       "      <td>...</td>\n",
       "      <td>4.0374</td>\n",
       "      <td>8.9684</td>\n",
       "      <td>0.0019</td>\n",
       "      <td>4.2150</td>\n",
       "      <td>18.3689</td>\n",
       "      <td>2.0263</td>\n",
       "      <td>-2.1861</td>\n",
       "      <td>6.9883</td>\n",
       "      <td>14.7255</td>\n",
       "      <td>1.8204</td>\n",
       "    </tr>\n",
       "    <tr>\n",
       "      <td>120582</td>\n",
       "      <td>train_120582</td>\n",
       "      <td>0</td>\n",
       "      <td>13.3489</td>\n",
       "      <td>3.8267</td>\n",
       "      <td>10.8418</td>\n",
       "      <td>8.4086</td>\n",
       "      <td>12.0988</td>\n",
       "      <td>1.6460</td>\n",
       "      <td>4.4191</td>\n",
       "      <td>18.3793</td>\n",
       "      <td>...</td>\n",
       "      <td>11.0486</td>\n",
       "      <td>9.1517</td>\n",
       "      <td>1.3193</td>\n",
       "      <td>11.9975</td>\n",
       "      <td>14.6186</td>\n",
       "      <td>0.1950</td>\n",
       "      <td>0.4004</td>\n",
       "      <td>8.4924</td>\n",
       "      <td>17.9153</td>\n",
       "      <td>-31.2632</td>\n",
       "    </tr>\n",
       "  </tbody>\n",
       "</table>\n",
       "<p>5 rows × 202 columns</p>\n",
       "</div>"
      ],
      "text/plain": [
       "             ID_code  target    var_0   var_1    var_2   var_3    var_4  \\\n",
       "140015  train_140015       0   8.3052  2.1909   6.8417  6.4624  14.7108   \n",
       "71286    train_71286       1   7.2312  0.0090  11.9094  8.1665  12.3289   \n",
       "128672  train_128672       0   7.6442 -2.5270  11.2167  6.9669   8.3292   \n",
       "131524  train_131524       0  12.9961 -1.8077  13.0703  6.9122  10.6569   \n",
       "120582  train_120582       0  13.3489  3.8267  10.8418  8.4086  12.0988   \n",
       "\n",
       "          var_5   var_6    var_7  ...  var_190  var_191  var_192  var_193  \\\n",
       "140015   5.1525  4.4309  18.3012  ...   5.5245   4.1001   4.5699  -0.6720   \n",
       "71286   -3.9241  5.9585  16.1397  ...   2.5993  12.4236   1.4882  10.2028   \n",
       "128672 -10.9752  5.5517  18.2742  ...   9.1370   3.4348   2.0496   7.9973   \n",
       "131524  -4.4316  6.0126  12.2229  ...   4.0374   8.9684   0.0019   4.2150   \n",
       "120582   1.6460  4.4191  18.3793  ...  11.0486   9.1517   1.3193  11.9975   \n",
       "\n",
       "        var_194  var_195  var_196  var_197  var_198  var_199  \n",
       "140015  18.4472   1.0742  -4.8858   8.6457  11.4497   4.3211  \n",
       "71286   14.8218  -0.4951   5.4614   8.8565  14.9512 -13.6681  \n",
       "128672  17.4999  -0.7652  -1.0401   6.8177  16.4237  -9.6524  \n",
       "131524  18.3689   2.0263  -2.1861   6.9883  14.7255   1.8204  \n",
       "120582  14.6186   0.1950   0.4004   8.4924  17.9153 -31.2632  \n",
       "\n",
       "[5 rows x 202 columns]"
      ]
     },
     "execution_count": 1,
     "metadata": {},
     "output_type": "execute_result"
    }
   ],
   "source": [
    "import numpy as np, pandas as pd\n",
    "train = pd.read_csv('../data/train.csv')\n",
    "train0 = train[ train['target']==0 ].copy()\n",
    "train1 = train[ train['target']==1 ].copy()\n",
    "train.sample(5)"
   ]
  },
  {
   "cell_type": "markdown",
   "metadata": {},
   "source": [
    "# Statistical Functions\n",
    "Below are functions to calcuate various statistical things."
   ]
  },
  {
   "cell_type": "code",
   "execution_count": 2,
   "metadata": {},
   "outputs": [],
   "source": [
    "# CALCULATE MEANS AND STANDARD DEVIATIONS\n",
    "s = [0] * 200\n",
    "m = [0] * 200\n",
    "for i in range(200):\n",
    "    s[i] = np.std(train['var_'+str(i)]) # 特征i的标准差\n",
    "    m[i] = np.mean(train['var_'+str(i)]) # 特征i的均值\n",
    "    \n",
    "# CALCULATE PROB(TARGET=1 | X)\n",
    "def getp(i,x):\n",
    "    c = 3 #smoothing factor\n",
    "    a = len(\n",
    "        train1[ \n",
    "            (train1['var_' + str(i)] > x - s[i] / c) & (train1['var_' + str(i)] < x + s[i] / c)\n",
    "        ]) \n",
    "    b = len( \n",
    "        train0[ \n",
    "            (train0['var_' + str(i)] > x - s[i] / c)&(train0['var_' + str(i)] < x + s[i] / c)\n",
    "        ])\n",
    "    if a + b < 500 : return 0.1 \n",
    "    # smoothing factor\n",
    "    # RETURN PROBABILITY\n",
    "    return a / (a + b)\n",
    "    # ALTERNATIVELY RETURN ODDS\n",
    "    # return a / b\n",
    "    \n",
    "# SMOOTH A DISCRETE FUNCTION\n",
    "def smooth(x,st=1):\n",
    "    for j in range(st):\n",
    "        x2 = np.ones(len(x)) * 0.1\n",
    "        for i in range(len(x)-2):\n",
    "            x2[i+1] = 0.25*x[i]+0.5*x[i+1]+0.25*x[i+2]\n",
    "        x = x2.copy()\n",
    "    return x"
   ]
  },
  {
   "cell_type": "markdown",
   "metadata": {},
   "source": [
    "# Display Target Density and Target Probability\n",
    "Below are two plots for each of the 200 variables. The first is the density of `target=1` versus `target=0`. The second gives the probability that `target=1` given different values for `var_k`."
   ]
  },
  {
   "cell_type": "code",
   "execution_count": 3,
   "metadata": {},
   "outputs": [
    {
     "data": {
      "text/plain": [
       "(200000, 202)"
      ]
     },
     "execution_count": 3,
     "metadata": {},
     "output_type": "execute_result"
    }
   ],
   "source": [
    "train.shape"
   ]
  },
  {
   "cell_type": "code",
   "execution_count": 4,
   "metadata": {
    "scrolled": false
   },
   "outputs": [
    {
     "name": "stdout",
     "output_type": "stream",
     "text": [
      "Showing vars 0 to 7 ...\n"
     ]
    },
    {
     "data": {
      "text/plain": [
       "<Figure size 1500x800 with 8 Axes>"
      ]
     },
     "metadata": {},
     "output_type": "display_data"
    },
    {
     "data": {
      "text/plain": [
       "<Figure size 1500x800 with 8 Axes>"
      ]
     },
     "metadata": {},
     "output_type": "display_data"
    },
    {
     "name": "stdout",
     "output_type": "stream",
     "text": [
      "Showing vars 8 to 15 ...\n"
     ]
    },
    {
     "data": {
      "text/plain": [
       "<Figure size 1500x800 with 8 Axes>"
      ]
     },
     "metadata": {},
     "output_type": "display_data"
    },
    {
     "data": {
      "text/plain": [
       "<Figure size 1500x800 with 8 Axes>"
      ]
     },
     "metadata": {},
     "output_type": "display_data"
    },
    {
     "name": "stdout",
     "output_type": "stream",
     "text": [
      "Showing vars 16 to 23 ...\n"
     ]
    },
    {
     "data": {
      "text/plain": [
       "<Figure size 1500x800 with 8 Axes>"
      ]
     },
     "metadata": {},
     "output_type": "display_data"
    },
    {
     "data": {
      "text/plain": [
       "<Figure size 1500x800 with 8 Axes>"
      ]
     },
     "metadata": {},
     "output_type": "display_data"
    },
    {
     "name": "stdout",
     "output_type": "stream",
     "text": [
      "Showing vars 24 to 31 ...\n"
     ]
    },
    {
     "data": {
      "text/plain": [
       "<Figure size 1500x800 with 8 Axes>"
      ]
     },
     "metadata": {},
     "output_type": "display_data"
    },
    {
     "data": {
      "text/plain": [
       "<Figure size 1500x800 with 8 Axes>"
      ]
     },
     "metadata": {},
     "output_type": "display_data"
    },
    {
     "name": "stdout",
     "output_type": "stream",
     "text": [
      "Showing vars 32 to 39 ...\n"
     ]
    },
    {
     "data": {
      "text/plain": [
       "<Figure size 1500x800 with 8 Axes>"
      ]
     },
     "metadata": {},
     "output_type": "display_data"
    },
    {
     "data": {
      "text/plain": [
       "<Figure size 1500x800 with 8 Axes>"
      ]
     },
     "metadata": {},
     "output_type": "display_data"
    },
    {
     "name": "stdout",
     "output_type": "stream",
     "text": [
      "Showing vars 40 to 47 ...\n"
     ]
    },
    {
     "data": {
      "text/plain": [
       "<Figure size 1500x800 with 8 Axes>"
      ]
     },
     "metadata": {},
     "output_type": "display_data"
    },
    {
     "data": {
      "text/plain": [
       "<Figure size 1500x800 with 8 Axes>"
      ]
     },
     "metadata": {},
     "output_type": "display_data"
    },
    {
     "name": "stdout",
     "output_type": "stream",
     "text": [
      "Showing vars 48 to 55 ...\n"
     ]
    },
    {
     "data": {
      "text/plain": [
       "<Figure size 1500x800 with 8 Axes>"
      ]
     },
     "metadata": {},
     "output_type": "display_data"
    },
    {
     "data": {
      "text/plain": [
       "<Figure size 1500x800 with 8 Axes>"
      ]
     },
     "metadata": {},
     "output_type": "display_data"
    },
    {
     "name": "stdout",
     "output_type": "stream",
     "text": [
      "Showing vars 56 to 63 ...\n"
     ]
    },
    {
     "data": {
      "text/plain": [
       "<Figure size 1500x800 with 8 Axes>"
      ]
     },
     "metadata": {},
     "output_type": "display_data"
    },
    {
     "data": {
      "text/plain": [
       "<Figure size 1500x800 with 8 Axes>"
      ]
     },
     "metadata": {},
     "output_type": "display_data"
    },
    {
     "name": "stdout",
     "output_type": "stream",
     "text": [
      "Showing vars 64 to 71 ...\n"
     ]
    },
    {
     "data": {
      "text/plain": [
       "<Figure size 1500x800 with 8 Axes>"
      ]
     },
     "metadata": {},
     "output_type": "display_data"
    },
    {
     "data": {
      "text/plain": [
       "<Figure size 1500x800 with 8 Axes>"
      ]
     },
     "metadata": {},
     "output_type": "display_data"
    },
    {
     "name": "stdout",
     "output_type": "stream",
     "text": [
      "Showing vars 72 to 79 ...\n"
     ]
    },
    {
     "data": {
      "text/plain": [
       "<Figure size 1500x800 with 8 Axes>"
      ]
     },
     "metadata": {},
     "output_type": "display_data"
    },
    {
     "data": {
      "text/plain": [
       "<Figure size 1500x800 with 8 Axes>"
      ]
     },
     "metadata": {},
     "output_type": "display_data"
    },
    {
     "name": "stdout",
     "output_type": "stream",
     "text": [
      "Showing vars 80 to 87 ...\n"
     ]
    },
    {
     "data": {
      "text/plain": [
       "<Figure size 1500x800 with 8 Axes>"
      ]
     },
     "metadata": {},
     "output_type": "display_data"
    },
    {
     "data": {
      "text/plain": [
       "<Figure size 1500x800 with 8 Axes>"
      ]
     },
     "metadata": {},
     "output_type": "display_data"
    },
    {
     "name": "stdout",
     "output_type": "stream",
     "text": [
      "Showing vars 88 to 95 ...\n"
     ]
    },
    {
     "data": {
      "text/plain": [
       "<Figure size 1500x800 with 8 Axes>"
      ]
     },
     "metadata": {},
     "output_type": "display_data"
    },
    {
     "data": {
      "text/plain": [
       "<Figure size 1500x800 with 8 Axes>"
      ]
     },
     "metadata": {},
     "output_type": "display_data"
    },
    {
     "name": "stdout",
     "output_type": "stream",
     "text": [
      "Showing vars 96 to 103 ...\n"
     ]
    },
    {
     "data": {
      "text/plain": [
       "<Figure size 1500x800 with 8 Axes>"
      ]
     },
     "metadata": {},
     "output_type": "display_data"
    },
    {
     "data": {
      "text/plain": [
       "<Figure size 1500x800 with 8 Axes>"
      ]
     },
     "metadata": {},
     "output_type": "display_data"
    },
    {
     "name": "stdout",
     "output_type": "stream",
     "text": [
      "Showing vars 104 to 111 ...\n"
     ]
    },
    {
     "data": {
      "text/plain": [
       "<Figure size 1500x800 with 8 Axes>"
      ]
     },
     "metadata": {},
     "output_type": "display_data"
    },
    {
     "data": {
      "text/plain": [
       "<Figure size 1500x800 with 8 Axes>"
      ]
     },
     "metadata": {},
     "output_type": "display_data"
    },
    {
     "name": "stdout",
     "output_type": "stream",
     "text": [
      "Showing vars 112 to 119 ...\n"
     ]
    },
    {
     "data": {
      "text/plain": [
       "<Figure size 1500x800 with 8 Axes>"
      ]
     },
     "metadata": {},
     "output_type": "display_data"
    },
    {
     "data": {
      "text/plain": [
       "<Figure size 1500x800 with 8 Axes>"
      ]
     },
     "metadata": {},
     "output_type": "display_data"
    },
    {
     "name": "stdout",
     "output_type": "stream",
     "text": [
      "Showing vars 120 to 127 ...\n"
     ]
    },
    {
     "data": {
      "text/plain": [
       "<Figure size 1500x800 with 8 Axes>"
      ]
     },
     "metadata": {},
     "output_type": "display_data"
    },
    {
     "data": {
      "text/plain": [
       "<Figure size 1500x800 with 8 Axes>"
      ]
     },
     "metadata": {},
     "output_type": "display_data"
    },
    {
     "name": "stdout",
     "output_type": "stream",
     "text": [
      "Showing vars 128 to 135 ...\n"
     ]
    },
    {
     "data": {
      "text/plain": [
       "<Figure size 1500x800 with 8 Axes>"
      ]
     },
     "metadata": {},
     "output_type": "display_data"
    },
    {
     "data": {
      "text/plain": [
       "<Figure size 1500x800 with 8 Axes>"
      ]
     },
     "metadata": {},
     "output_type": "display_data"
    },
    {
     "name": "stdout",
     "output_type": "stream",
     "text": [
      "Showing vars 136 to 143 ...\n"
     ]
    },
    {
     "data": {
      "text/plain": [
       "<Figure size 1500x800 with 8 Axes>"
      ]
     },
     "metadata": {},
     "output_type": "display_data"
    },
    {
     "data": {
      "text/plain": [
       "<Figure size 1500x800 with 8 Axes>"
      ]
     },
     "metadata": {},
     "output_type": "display_data"
    },
    {
     "name": "stdout",
     "output_type": "stream",
     "text": [
      "Showing vars 144 to 151 ...\n"
     ]
    },
    {
     "data": {
      "text/plain": [
       "<Figure size 1500x800 with 8 Axes>"
      ]
     },
     "metadata": {},
     "output_type": "display_data"
    },
    {
     "data": {
      "text/plain": [
       "<Figure size 1500x800 with 8 Axes>"
      ]
     },
     "metadata": {},
     "output_type": "display_data"
    },
    {
     "name": "stdout",
     "output_type": "stream",
     "text": [
      "Showing vars 152 to 159 ...\n"
     ]
    },
    {
     "data": {
      "text/plain": [
       "<Figure size 1500x800 with 8 Axes>"
      ]
     },
     "metadata": {},
     "output_type": "display_data"
    },
    {
     "data": {
      "text/plain": [
       "<Figure size 1500x800 with 8 Axes>"
      ]
     },
     "metadata": {},
     "output_type": "display_data"
    },
    {
     "name": "stdout",
     "output_type": "stream",
     "text": [
      "Showing vars 160 to 167 ...\n"
     ]
    },
    {
     "data": {
      "text/plain": [
       "<Figure size 1500x800 with 8 Axes>"
      ]
     },
     "metadata": {},
     "output_type": "display_data"
    },
    {
     "data": {
      "text/plain": [
       "<Figure size 1500x800 with 8 Axes>"
      ]
     },
     "metadata": {},
     "output_type": "display_data"
    },
    {
     "name": "stdout",
     "output_type": "stream",
     "text": [
      "Showing vars 168 to 175 ...\n"
     ]
    },
    {
     "data": {
      "text/plain": [
       "<Figure size 1500x800 with 8 Axes>"
      ]
     },
     "metadata": {},
     "output_type": "display_data"
    },
    {
     "data": {
      "text/plain": [
       "<Figure size 1500x800 with 8 Axes>"
      ]
     },
     "metadata": {},
     "output_type": "display_data"
    },
    {
     "name": "stdout",
     "output_type": "stream",
     "text": [
      "Showing vars 176 to 183 ...\n"
     ]
    },
    {
     "data": {
      "text/plain": [
       "<Figure size 1500x800 with 8 Axes>"
      ]
     },
     "metadata": {},
     "output_type": "display_data"
    },
    {
     "data": {
      "text/plain": [
       "<Figure size 1500x800 with 8 Axes>"
      ]
     },
     "metadata": {},
     "output_type": "display_data"
    },
    {
     "name": "stdout",
     "output_type": "stream",
     "text": [
      "Showing vars 184 to 191 ...\n"
     ]
    },
    {
     "data": {
      "text/plain": [
       "<Figure size 1500x800 with 8 Axes>"
      ]
     },
     "metadata": {},
     "output_type": "display_data"
    },
    {
     "data": {
      "text/plain": [
       "<Figure size 1500x800 with 8 Axes>"
      ]
     },
     "metadata": {},
     "output_type": "display_data"
    },
    {
     "name": "stdout",
     "output_type": "stream",
     "text": [
      "Showing vars 192 to 199 ...\n"
     ]
    },
    {
     "data": {
      "text/plain": [
       "<Figure size 1500x800 with 8 Axes>"
      ]
     },
     "metadata": {},
     "output_type": "display_data"
    },
    {
     "data": {
      "text/plain": [
       "<Figure size 1500x800 with 8 Axes>"
      ]
     },
     "metadata": {},
     "output_type": "display_data"
    }
   ],
   "source": [
    "import matplotlib.pyplot as plt\n",
    "import seaborn as sns\n",
    "import warnings\n",
    "warnings.filterwarnings(\"ignore\")\n",
    "\n",
    "# DRAW PLOTS, YES OR NO\n",
    "Picture = True\n",
    "# DATA HAS Z-SCORE RANGE OF -4.5 TO 4.5\n",
    "rmin = -5; rmax = 5; \n",
    "# CALCULATE PROBABILITIES FOR 501 BINS\n",
    "res = 501\n",
    "# STORE PROBABILITIES IN PR\n",
    "pr = 0.1 * np.ones((200,res))\n",
    "pr2 = pr.copy()\n",
    "xr = np.zeros((200,res))\n",
    "xr2 = xr.copy()\n",
    "ct2 = 0\n",
    "for j in range(50):\n",
    "    if Picture: \n",
    "        plt.figure(figsize=(15,8))\n",
    "    for v in range(4):\n",
    "        ct = 0\n",
    "        # CALCULATE PROBABILITY FUNCTION FOR VAR\n",
    "        for i in np.linspace(rmin,rmax,res):\n",
    "            pr[v+4*j,ct] = getp(v+4*j,m[v+4*j]+i*s[v+4*j])\n",
    "            xr[v+4*j,ct] = m[v+4*j]+i*s[v+4*j]\n",
    "            xr2[v+4*j,ct] = i\n",
    "            ct += 1\n",
    "        if Picture:\n",
    "            # SMOOTH FUNCTION FOR PRETTIER DISPLAY\n",
    "            # BUT USE UNSMOOTHED FUNCTION FOR PREDICTION\n",
    "            pr2[v+4*j,:] = smooth(pr[v+4*j,:],res//10)\n",
    "            # DISPLAY PROBABILITY FUNCTION\n",
    "            plt.subplot(2, 4, ct2%4+5)\n",
    "            plt.plot(xr[v+4*j,:],pr2[v+4*j,:],'-')\n",
    "            plt.title('P( t=1 | var_'+str(v+4*j)+' )')\n",
    "            xx = plt.xlim()\n",
    "            # DISPLAY TARGET DENSITIES\n",
    "            plt.subplot(2, 4, ct2%4+1)            \n",
    "            sns.distplot(train0['var_'+str(v+4*j)], label = 't=0')\n",
    "            sns.distplot(train1['var_'+str(v+4*j)], label = 't=1')\n",
    "            plt.title('var_'+str(v+4*j))\n",
    "            plt.legend()\n",
    "            plt.xlim(xx)\n",
    "            plt.xlabel('')\n",
    "        if (ct2%8==0): \n",
    "            print('Showing vars',ct2,'to',ct2+7,'...')\n",
    "        ct2 += 1\n",
    "    if Picture : \n",
    "        plt.show()"
   ]
  },
  {
   "cell_type": "markdown",
   "metadata": {},
   "source": [
    "# Target Probability Function\n",
    "Above, the target probability function was calculated for each variable with resolution equal to `standard deviation / 50` from -5 to 5. For example, we know the `Probability ( target=1 | var=x )` for `z-score = -5.00, -4.98, ..., -0.02, 0, 0.02, ..., 4.98, 5.00` where `z-score = (x - var_mean) / (var_standard_deviation)`. The python function below accesses these pre-calculated values from their numpy array."
   ]
  },
  {
   "cell_type": "code",
   "execution_count": null,
   "metadata": {},
   "outputs": [],
   "source": [
    "def getp2(i,x):\n",
    "    z = (x-m[i])/s[i]\n",
    "    ss = (rmax-rmin)/(res-1)\n",
    "    if res%2==0: idx = min( (res+1)//2 + z//ss, res-1)\n",
    "    else: idx = min( (res+1)//2 + (z-ss/2)//ss, res-1)\n",
    "    idx = max(idx,0)\n",
    "    return pr[i,int(idx)]"
   ]
  },
  {
   "cell_type": "markdown",
   "metadata": {},
   "source": [
    "# Validation\n",
    "We will ignore the training data's target and make our own prediction for each training observation. Then using our predictions and the true value, we will calculate validation AUC. (There is a leak in this validation method but none-the-less it gives an approximation of CV score. If you wish to tune this model, you should use a proper validation set. Current actual 5-fold CV is 0.8995)"
   ]
  },
  {
   "cell_type": "code",
   "execution_count": null,
   "metadata": {},
   "outputs": [],
   "source": [
    "from sklearn.metrics import roc_auc_score\n",
    "print('Calculating 200000 predictions and displaying a few examples...')\n",
    "pred = [0]*200000; ct = 0\n",
    "for r in train.index:\n",
    "    p = 0.1\n",
    "    for i in range(200):\n",
    "        p *= 10*getp2(i,train.iloc[r,2+i])\n",
    "    if ct%25000==0: print('train',r,'has target =',train.iloc[r,1],'and prediction =',p)\n",
    "    pred[ct]=p; ct += 1\n",
    "print('###############')\n",
    "print('Validation AUC =',roc_auc_score(train['target'], pred))"
   ]
  },
  {
   "cell_type": "code",
   "execution_count": null,
   "metadata": {
    "_kg_hide-input": true
   },
   "outputs": [],
   "source": [
    "#https://stackoverflow.com/questions/25009284/how-to-plot-roc-curve-in-python\n",
    "from sklearn import metrics\n",
    "fpr, tpr, threshold = metrics.roc_curve(train['target'], pred)\n",
    "roc_auc = metrics.auc(fpr, tpr)\n",
    "\n",
    "plt.figure(figsize=(6,6))\n",
    "plt.title('Validation ROC')\n",
    "plt.plot(fpr, tpr, 'b', label = 'Val AUC = %0.3f' % roc_auc)\n",
    "plt.legend(loc = 'lower right')\n",
    "plt.plot([0, 1], [0, 1],'r--')\n",
    "plt.xlim([0, 1])\n",
    "plt.ylim([0, 1])\n",
    "plt.ylabel('True Positive Rate')\n",
    "plt.xlabel('False Positive Rate')\n",
    "plt.show()"
   ]
  },
  {
   "cell_type": "markdown",
   "metadata": {},
   "source": [
    "# Predict Test and Submit\n",
    "Naive Bayes is a simple model. Given observation with `var_0 = 15`, `var_1 = 5`, `var_2 = 10`, etc. We compute the probability that `target=1` by calculating `P(t=1) * P(t=1 | var_0=15)/P(t=1) * P(t=1 | var_1=5)/P(t=1) * P(t=1 | var_2=10)/P(t=1) * ...` where `P(t=1)=0.1` and the other probabilities are computed above by counting occurences in the training data. So each observation has 200 variables and we simply multiply together the 200 target probabilities given by each variable. (In typical Naive Bayes, you use Bayes formula, reverse the probabilities, and find `P(var_0=15 | t=1)`. This is modified Naive Bayes and more intuitive.)"
   ]
  },
  {
   "cell_type": "code",
   "execution_count": null,
   "metadata": {},
   "outputs": [],
   "source": [
    "test = pd.read_csv('../input/test.csv')\n",
    "print('Calculating 200000 predictions and displaying a few examples...')\n",
    "pred = [0]*200000; ct = 0\n",
    "for r in test.index:\n",
    "    p = 0.1\n",
    "    for i in range(200):\n",
    "        p *= 10*getp2(i,test.iloc[r,1+i])\n",
    "    if ct%25000==0: print('test',r,'has prediction =',p)\n",
    "    pred[ct]=p\n",
    "    ct += 1\n",
    "sub = pd.read_csv('../input/sample_submission.csv')\n",
    "sub['target'] = pred\n",
    "sub.to_csv('submission.csv',index=False)\n",
    "print('###############')\n",
    "print('Finished. Wrote predictions to submission.csv')"
   ]
  },
  {
   "cell_type": "markdown",
   "metadata": {},
   "source": [
    "# Plot Predictions"
   ]
  },
  {
   "cell_type": "code",
   "execution_count": null,
   "metadata": {},
   "outputs": [],
   "source": [
    "sub.loc[ sub['target']>1 , 'target'] = 1\n",
    "b = plt.hist(sub['target'], bins=200)"
   ]
  },
  {
   "cell_type": "markdown",
   "metadata": {},
   "source": [
    "# Conclusion\n",
    "In conclusion we used modified Naive Bayes to predict Santander Customer transactions. Since we achieved an accurate score of 0.899 LB (which rivals other methods that capture interactions), this demonstrates that there is little or no interaction between the 200 variables. Additionally in this kernel we observed some fascinating EDA which provide insights about the variables. Can this method be improved? Perhaps by tuning this model better (adjust smoothing, resolution, etc) we can increase validation AUC and increase LB AUC but I don't think we can score over 0.902 with this method. There are other secrets hiding in the Santander data.\n",
    "![image](http://playagricola.com/Kaggle/score32319.png)"
   ]
  }
 ],
 "metadata": {
  "kernelspec": {
   "display_name": "Python 3",
   "language": "python",
   "name": "python3"
  },
  "language_info": {
   "codemirror_mode": {
    "name": "ipython",
    "version": 3
   },
   "file_extension": ".py",
   "mimetype": "text/x-python",
   "name": "python",
   "nbconvert_exporter": "python",
   "pygments_lexer": "ipython3",
   "version": "3.7.4"
  }
 },
 "nbformat": 4,
 "nbformat_minor": 1
}
