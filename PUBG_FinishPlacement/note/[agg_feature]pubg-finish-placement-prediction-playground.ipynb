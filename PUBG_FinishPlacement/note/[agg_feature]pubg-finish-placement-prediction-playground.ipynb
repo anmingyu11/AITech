{
 "cells": [
  {
   "cell_type": "code",
   "execution_count": 1,
   "metadata": {
    "_cell_guid": "b1076dfc-b9ad-4769-8c92-a6c4dae69d19",
    "_kg_hide-input": false,
    "_kg_hide-output": false,
    "_uuid": "8f2839f25d086af736a60e9eeb907d3b93b6e0e5"
   },
   "outputs": [
    {
     "name": "stdout",
     "output_type": "stream",
     "text": [
      "['.DS_Store', 'test_V2.csv', 'train_V2.csv', '.ipynb_checkpoints']\n"
     ]
    }
   ],
   "source": [
    "import pandas as pd\n",
    "import numpy as np\n",
    "import matplotlib.pyplot as plt\n",
    "import seaborn as sns\n",
    "import itertools\n",
    "import gc\n",
    "import os\n",
    "import sys\n",
    "\n",
    "sns.set_style('darkgrid')\n",
    "sns.set_palette('bone')\n",
    "\n",
    "#pd.options.display.float_format = '{:.5g}'.format\n",
    "pd.options.display.float_format = '{:,.3f}'.format\n",
    "\n",
    "print(os.listdir(\"../data\"))"
   ]
  },
  {
   "cell_type": "code",
   "execution_count": 2,
   "metadata": {
    "_kg_hide-input": true,
    "_kg_hide-output": false,
    "_uuid": "1b7c01604a8239f1222e7a7dc9d8562af10881f0"
   },
   "outputs": [],
   "source": [
    "def toTapleList(list1,list2):\n",
    "    return list(itertools.product(list1,list2))"
   ]
  },
  {
   "cell_type": "code",
   "execution_count": 3,
   "metadata": {
    "_kg_hide-input": true,
    "_kg_hide-output": false,
    "_uuid": "3519f56ce1cefbb965fc84b4890b5093f0f3d05f"
   },
   "outputs": [],
   "source": [
    "# Memory saving function credit to https://www.kaggle.com/gemartin/load-data-reduce-memory-usage\n",
    "def reduce_mem_usage(df):\n",
    "    \"\"\" iterate through all the columns of a dataframe and modify the data type\n",
    "        to reduce memory usage.\n",
    "    \"\"\"\n",
    "    start_mem = df.memory_usage().sum() / 1024**2\n",
    "    \n",
    "    for col in df.columns:\n",
    "        col_type = df[col].dtype\n",
    "        \n",
    "        if col_type != object:\n",
    "            c_min = df[col].min()\n",
    "            c_max = df[col].max()\n",
    "            if str(col_type)[:3] == 'int':\n",
    "                if c_min > np.iinfo(np.int8).min and c_max < np.iinfo(np.int8).max:\n",
    "                    df[col] = df[col].astype(np.int8)\n",
    "                elif c_min > np.iinfo(np.int16).min and c_max < np.iinfo(np.int16).max:\n",
    "                    df[col] = df[col].astype(np.int16)\n",
    "                elif c_min > np.iinfo(np.int32).min and c_max < np.iinfo(np.int32).max:\n",
    "                    df[col] = df[col].astype(np.int32)\n",
    "                elif c_min > np.iinfo(np.int64).min and c_max < np.iinfo(np.int64).max:\n",
    "                    df[col] = df[col].astype(np.int64)  \n",
    "            else:\n",
    "                #if c_min > np.finfo(np.float16).min and c_max < np.finfo(np.float16).max:\n",
    "                #    df[col] = df[col].astype(np.float16)\n",
    "                #el\n",
    "                if c_min > np.finfo(np.float32).min and c_max < np.finfo(np.float32).max:\n",
    "                    df[col] = df[col].astype(np.float32)\n",
    "                else:\n",
    "                    df[col] = df[col].astype(np.float64)\n",
    "        #else:\n",
    "            #df[col] = df[col].astype('category')\n",
    "\n",
    "    end_mem = df.memory_usage().sum() / 1024**2\n",
    "    print('Memory usage of dataframe is {:.2f} MB --> {:.2f} MB (Decreased by {:.1f}%)'.format(\n",
    "        start_mem, end_mem, 100 * (start_mem - end_mem) / start_mem))\n",
    "    return df"
   ]
  },
  {
   "cell_type": "markdown",
   "metadata": {
    "_uuid": "e220d486a8b54f0ae23d9136c40a7c6b428dd95b"
   },
   "source": [
    "# Load data"
   ]
  },
  {
   "cell_type": "code",
   "execution_count": 4,
   "metadata": {
    "_cell_guid": "79c7e3d0-c299-4dcb-8224-4455121ee9b0",
    "_uuid": "d629ff2d2480ee46fbb7e2d37f6b5fab8052498a"
   },
   "outputs": [
    {
     "name": "stdout",
     "output_type": "stream",
     "text": [
      "Memory usage of dataframe is 983.90 MB --> 339.28 MB (Decreased by 65.5%)\n",
      "Memory usage of dataframe is 413.18 MB --> 140.19 MB (Decreased by 66.1%)\n",
      "(4446966, 29) (1934174, 28)\n",
      "CPU times: user 39.4 s, sys: 11 s, total: 50.4 s\n",
      "Wall time: 46.3 s\n"
     ]
    }
   ],
   "source": [
    "%%time\n",
    "train = pd.read_csv('../data/train_V2.csv')\n",
    "train = reduce_mem_usage(train)\n",
    "test = pd.read_csv('../data/test_V2.csv')\n",
    "test = reduce_mem_usage(test)\n",
    "print(train.shape, test.shape)"
   ]
  },
  {
   "cell_type": "code",
   "execution_count": 5,
   "metadata": {
    "_kg_hide-input": true,
    "_uuid": "fbe4879dd44a73edffdc100d0158e551bf8edcb3"
   },
   "outputs": [
    {
     "name": "stdout",
     "output_type": "stream",
     "text": [
      "<class 'pandas.core.frame.DataFrame'>\n",
      "RangeIndex: 4446966 entries, 0 to 4446965\n",
      "Data columns (total 29 columns):\n",
      "Id                 object\n",
      "groupId            object\n",
      "matchId            object\n",
      "assists            int8\n",
      "boosts             int8\n",
      "damageDealt        float32\n",
      "DBNOs              int8\n",
      "headshotKills      int8\n",
      "heals              int8\n",
      "killPlace          int8\n",
      "killPoints         int16\n",
      "kills              int8\n",
      "killStreaks        int8\n",
      "longestKill        float32\n",
      "matchDuration      int16\n",
      "matchType          object\n",
      "maxPlace           int8\n",
      "numGroups          int8\n",
      "rankPoints         int16\n",
      "revives            int8\n",
      "rideDistance       float32\n",
      "roadKills          int8\n",
      "swimDistance       float32\n",
      "teamKills          int8\n",
      "vehicleDestroys    int8\n",
      "walkDistance       float32\n",
      "weaponsAcquired    int16\n",
      "winPoints          int16\n",
      "winPlacePerc       float32\n",
      "dtypes: float32(6), int16(5), int8(14), object(4)\n",
      "memory usage: 339.3+ MB\n"
     ]
    }
   ],
   "source": [
    "train.info()"
   ]
  },
  {
   "cell_type": "code",
   "execution_count": 6,
   "metadata": {
    "_kg_hide-input": true,
    "_uuid": "ed20e8129574689a336d934a5ee6ecbabcfb0186"
   },
   "outputs": [
    {
     "name": "stdout",
     "output_type": "stream",
     "text": [
      "null count: winPlacePerc    1\n",
      "dtype: int64\n"
     ]
    }
   ],
   "source": [
    "null_cnt = train.isnull().sum().sort_values()\n",
    "print('null count:', null_cnt[null_cnt > 0])\n",
    "# dropna\n",
    "train.dropna(inplace=True)"
   ]
  },
  {
   "cell_type": "code",
   "execution_count": 7,
   "metadata": {
    "_kg_hide-input": true,
    "_uuid": "10f263d9520b1041fea4184892e2c66ecbd7087f",
    "scrolled": false
   },
   "outputs": [
    {
     "data": {
      "text/html": [
       "<div>\n",
       "<style scoped>\n",
       "    .dataframe tbody tr th:only-of-type {\n",
       "        vertical-align: middle;\n",
       "    }\n",
       "\n",
       "    .dataframe tbody tr th {\n",
       "        vertical-align: top;\n",
       "    }\n",
       "\n",
       "    .dataframe thead th {\n",
       "        text-align: right;\n",
       "    }\n",
       "</style>\n",
       "<table border=\"1\" class=\"dataframe\">\n",
       "  <thead>\n",
       "    <tr style=\"text-align: right;\">\n",
       "      <th></th>\n",
       "      <th>mean</th>\n",
       "      <th>std</th>\n",
       "      <th>min</th>\n",
       "      <th>25%</th>\n",
       "      <th>50%</th>\n",
       "      <th>75%</th>\n",
       "      <th>max</th>\n",
       "    </tr>\n",
       "  </thead>\n",
       "  <tbody>\n",
       "    <tr>\n",
       "      <th>assists</th>\n",
       "      <td>0.234</td>\n",
       "      <td>0.589</td>\n",
       "      <td>0.000</td>\n",
       "      <td>0.000</td>\n",
       "      <td>0.000</td>\n",
       "      <td>0.000</td>\n",
       "      <td>22.000</td>\n",
       "    </tr>\n",
       "    <tr>\n",
       "      <th>boosts</th>\n",
       "      <td>1.107</td>\n",
       "      <td>1.716</td>\n",
       "      <td>0.000</td>\n",
       "      <td>0.000</td>\n",
       "      <td>0.000</td>\n",
       "      <td>2.000</td>\n",
       "      <td>33.000</td>\n",
       "    </tr>\n",
       "    <tr>\n",
       "      <th>damageDealt</th>\n",
       "      <td>130.633</td>\n",
       "      <td>169.887</td>\n",
       "      <td>0.000</td>\n",
       "      <td>0.000</td>\n",
       "      <td>84.240</td>\n",
       "      <td>186.000</td>\n",
       "      <td>6,616.000</td>\n",
       "    </tr>\n",
       "    <tr>\n",
       "      <th>DBNOs</th>\n",
       "      <td>0.658</td>\n",
       "      <td>1.146</td>\n",
       "      <td>0.000</td>\n",
       "      <td>0.000</td>\n",
       "      <td>0.000</td>\n",
       "      <td>1.000</td>\n",
       "      <td>53.000</td>\n",
       "    </tr>\n",
       "    <tr>\n",
       "      <th>headshotKills</th>\n",
       "      <td>0.227</td>\n",
       "      <td>0.602</td>\n",
       "      <td>0.000</td>\n",
       "      <td>0.000</td>\n",
       "      <td>0.000</td>\n",
       "      <td>0.000</td>\n",
       "      <td>64.000</td>\n",
       "    </tr>\n",
       "    <tr>\n",
       "      <th>heals</th>\n",
       "      <td>1.370</td>\n",
       "      <td>2.680</td>\n",
       "      <td>0.000</td>\n",
       "      <td>0.000</td>\n",
       "      <td>0.000</td>\n",
       "      <td>2.000</td>\n",
       "      <td>80.000</td>\n",
       "    </tr>\n",
       "    <tr>\n",
       "      <th>killPlace</th>\n",
       "      <td>47.599</td>\n",
       "      <td>27.463</td>\n",
       "      <td>1.000</td>\n",
       "      <td>24.000</td>\n",
       "      <td>47.000</td>\n",
       "      <td>71.000</td>\n",
       "      <td>101.000</td>\n",
       "    </tr>\n",
       "    <tr>\n",
       "      <th>killPoints</th>\n",
       "      <td>505.006</td>\n",
       "      <td>627.505</td>\n",
       "      <td>0.000</td>\n",
       "      <td>0.000</td>\n",
       "      <td>0.000</td>\n",
       "      <td>1,172.000</td>\n",
       "      <td>2,170.000</td>\n",
       "    </tr>\n",
       "    <tr>\n",
       "      <th>kills</th>\n",
       "      <td>0.925</td>\n",
       "      <td>1.558</td>\n",
       "      <td>0.000</td>\n",
       "      <td>0.000</td>\n",
       "      <td>0.000</td>\n",
       "      <td>1.000</td>\n",
       "      <td>72.000</td>\n",
       "    </tr>\n",
       "    <tr>\n",
       "      <th>killStreaks</th>\n",
       "      <td>0.544</td>\n",
       "      <td>0.711</td>\n",
       "      <td>0.000</td>\n",
       "      <td>0.000</td>\n",
       "      <td>0.000</td>\n",
       "      <td>1.000</td>\n",
       "      <td>20.000</td>\n",
       "    </tr>\n",
       "    <tr>\n",
       "      <th>longestKill</th>\n",
       "      <td>22.993</td>\n",
       "      <td>51.476</td>\n",
       "      <td>0.000</td>\n",
       "      <td>0.000</td>\n",
       "      <td>0.000</td>\n",
       "      <td>21.320</td>\n",
       "      <td>1,094.000</td>\n",
       "    </tr>\n",
       "    <tr>\n",
       "      <th>matchDuration</th>\n",
       "      <td>1,579.507</td>\n",
       "      <td>258.739</td>\n",
       "      <td>133.000</td>\n",
       "      <td>1,367.000</td>\n",
       "      <td>1,438.000</td>\n",
       "      <td>1,851.000</td>\n",
       "      <td>2,237.000</td>\n",
       "    </tr>\n",
       "    <tr>\n",
       "      <th>maxPlace</th>\n",
       "      <td>44.505</td>\n",
       "      <td>23.828</td>\n",
       "      <td>2.000</td>\n",
       "      <td>28.000</td>\n",
       "      <td>30.000</td>\n",
       "      <td>49.000</td>\n",
       "      <td>100.000</td>\n",
       "    </tr>\n",
       "    <tr>\n",
       "      <th>numGroups</th>\n",
       "      <td>43.008</td>\n",
       "      <td>23.289</td>\n",
       "      <td>1.000</td>\n",
       "      <td>27.000</td>\n",
       "      <td>30.000</td>\n",
       "      <td>47.000</td>\n",
       "      <td>100.000</td>\n",
       "    </tr>\n",
       "    <tr>\n",
       "      <th>rankPoints</th>\n",
       "      <td>892.010</td>\n",
       "      <td>736.648</td>\n",
       "      <td>-1.000</td>\n",
       "      <td>-1.000</td>\n",
       "      <td>1,443.000</td>\n",
       "      <td>1,500.000</td>\n",
       "      <td>5,910.000</td>\n",
       "    </tr>\n",
       "    <tr>\n",
       "      <th>revives</th>\n",
       "      <td>0.165</td>\n",
       "      <td>0.472</td>\n",
       "      <td>0.000</td>\n",
       "      <td>0.000</td>\n",
       "      <td>0.000</td>\n",
       "      <td>0.000</td>\n",
       "      <td>39.000</td>\n",
       "    </tr>\n",
       "    <tr>\n",
       "      <th>rideDistance</th>\n",
       "      <td>606.092</td>\n",
       "      <td>1,496.471</td>\n",
       "      <td>0.000</td>\n",
       "      <td>0.000</td>\n",
       "      <td>0.000</td>\n",
       "      <td>0.191</td>\n",
       "      <td>40,710.000</td>\n",
       "    </tr>\n",
       "    <tr>\n",
       "      <th>roadKills</th>\n",
       "      <td>0.003</td>\n",
       "      <td>0.073</td>\n",
       "      <td>0.000</td>\n",
       "      <td>0.000</td>\n",
       "      <td>0.000</td>\n",
       "      <td>0.000</td>\n",
       "      <td>18.000</td>\n",
       "    </tr>\n",
       "    <tr>\n",
       "      <th>swimDistance</th>\n",
       "      <td>4.509</td>\n",
       "      <td>30.238</td>\n",
       "      <td>0.000</td>\n",
       "      <td>0.000</td>\n",
       "      <td>0.000</td>\n",
       "      <td>0.000</td>\n",
       "      <td>3,823.000</td>\n",
       "    </tr>\n",
       "    <tr>\n",
       "      <th>teamKills</th>\n",
       "      <td>0.024</td>\n",
       "      <td>0.167</td>\n",
       "      <td>0.000</td>\n",
       "      <td>0.000</td>\n",
       "      <td>0.000</td>\n",
       "      <td>0.000</td>\n",
       "      <td>12.000</td>\n",
       "    </tr>\n",
       "    <tr>\n",
       "      <th>vehicleDestroys</th>\n",
       "      <td>0.008</td>\n",
       "      <td>0.093</td>\n",
       "      <td>0.000</td>\n",
       "      <td>0.000</td>\n",
       "      <td>0.000</td>\n",
       "      <td>0.000</td>\n",
       "      <td>5.000</td>\n",
       "    </tr>\n",
       "    <tr>\n",
       "      <th>walkDistance</th>\n",
       "      <td>1,148.517</td>\n",
       "      <td>1,180.553</td>\n",
       "      <td>0.000</td>\n",
       "      <td>155.100</td>\n",
       "      <td>685.600</td>\n",
       "      <td>1,976.000</td>\n",
       "      <td>25,780.000</td>\n",
       "    </tr>\n",
       "    <tr>\n",
       "      <th>weaponsAcquired</th>\n",
       "      <td>3.660</td>\n",
       "      <td>2.457</td>\n",
       "      <td>0.000</td>\n",
       "      <td>2.000</td>\n",
       "      <td>3.000</td>\n",
       "      <td>5.000</td>\n",
       "      <td>236.000</td>\n",
       "    </tr>\n",
       "    <tr>\n",
       "      <th>winPoints</th>\n",
       "      <td>606.460</td>\n",
       "      <td>739.700</td>\n",
       "      <td>0.000</td>\n",
       "      <td>0.000</td>\n",
       "      <td>0.000</td>\n",
       "      <td>1,495.000</td>\n",
       "      <td>2,013.000</td>\n",
       "    </tr>\n",
       "    <tr>\n",
       "      <th>winPlacePerc</th>\n",
       "      <td>0.473</td>\n",
       "      <td>0.307</td>\n",
       "      <td>0.000</td>\n",
       "      <td>0.200</td>\n",
       "      <td>0.458</td>\n",
       "      <td>0.741</td>\n",
       "      <td>1.000</td>\n",
       "    </tr>\n",
       "  </tbody>\n",
       "</table>\n",
       "</div>"
      ],
      "text/plain": [
       "                     mean       std     min       25%       50%       75%  \\\n",
       "assists             0.234     0.589   0.000     0.000     0.000     0.000   \n",
       "boosts              1.107     1.716   0.000     0.000     0.000     2.000   \n",
       "damageDealt       130.633   169.887   0.000     0.000    84.240   186.000   \n",
       "DBNOs               0.658     1.146   0.000     0.000     0.000     1.000   \n",
       "headshotKills       0.227     0.602   0.000     0.000     0.000     0.000   \n",
       "heals               1.370     2.680   0.000     0.000     0.000     2.000   \n",
       "killPlace          47.599    27.463   1.000    24.000    47.000    71.000   \n",
       "killPoints        505.006   627.505   0.000     0.000     0.000 1,172.000   \n",
       "kills               0.925     1.558   0.000     0.000     0.000     1.000   \n",
       "killStreaks         0.544     0.711   0.000     0.000     0.000     1.000   \n",
       "longestKill        22.993    51.476   0.000     0.000     0.000    21.320   \n",
       "matchDuration   1,579.507   258.739 133.000 1,367.000 1,438.000 1,851.000   \n",
       "maxPlace           44.505    23.828   2.000    28.000    30.000    49.000   \n",
       "numGroups          43.008    23.289   1.000    27.000    30.000    47.000   \n",
       "rankPoints        892.010   736.648  -1.000    -1.000 1,443.000 1,500.000   \n",
       "revives             0.165     0.472   0.000     0.000     0.000     0.000   \n",
       "rideDistance      606.092 1,496.471   0.000     0.000     0.000     0.191   \n",
       "roadKills           0.003     0.073   0.000     0.000     0.000     0.000   \n",
       "swimDistance        4.509    30.238   0.000     0.000     0.000     0.000   \n",
       "teamKills           0.024     0.167   0.000     0.000     0.000     0.000   \n",
       "vehicleDestroys     0.008     0.093   0.000     0.000     0.000     0.000   \n",
       "walkDistance    1,148.517 1,180.553   0.000   155.100   685.600 1,976.000   \n",
       "weaponsAcquired     3.660     2.457   0.000     2.000     3.000     5.000   \n",
       "winPoints         606.460   739.700   0.000     0.000     0.000 1,495.000   \n",
       "winPlacePerc        0.473     0.307   0.000     0.200     0.458     0.741   \n",
       "\n",
       "                       max  \n",
       "assists             22.000  \n",
       "boosts              33.000  \n",
       "damageDealt      6,616.000  \n",
       "DBNOs               53.000  \n",
       "headshotKills       64.000  \n",
       "heals               80.000  \n",
       "killPlace          101.000  \n",
       "killPoints       2,170.000  \n",
       "kills               72.000  \n",
       "killStreaks         20.000  \n",
       "longestKill      1,094.000  \n",
       "matchDuration    2,237.000  \n",
       "maxPlace           100.000  \n",
       "numGroups          100.000  \n",
       "rankPoints       5,910.000  \n",
       "revives             39.000  \n",
       "rideDistance    40,710.000  \n",
       "roadKills           18.000  \n",
       "swimDistance     3,823.000  \n",
       "teamKills           12.000  \n",
       "vehicleDestroys      5.000  \n",
       "walkDistance    25,780.000  \n",
       "weaponsAcquired    236.000  \n",
       "winPoints        2,013.000  \n",
       "winPlacePerc         1.000  "
      ]
     },
     "execution_count": 7,
     "metadata": {},
     "output_type": "execute_result"
    }
   ],
   "source": [
    "train.describe(include=np.number).drop('count').T"
   ]
  },
  {
   "cell_type": "markdown",
   "metadata": {
    "_uuid": "7a8d77fb314e7963f7c1b0eb0199526fc04aab06"
   },
   "source": [
    "# Data Analysis"
   ]
  },
  {
   "cell_type": "markdown",
   "metadata": {
    "_uuid": "fbf113c1d0676e8cfda4bfb093ce8063d07f1876"
   },
   "source": [
    "## Id, groupId, matchId"
   ]
  },
  {
   "cell_type": "code",
   "execution_count": 8,
   "metadata": {
    "_kg_hide-input": true,
    "_uuid": "bf02e313add83cd8bcd4c71224d3d718ebbe3014",
    "scrolled": true
   },
   "outputs": [
    {
     "name": "stdout",
     "output_type": "stream",
     "text": [
      "unique [Id] count: 4446965\n",
      "unique [groupId] count: 2026744\n",
      "unique [matchId] count: 47964\n"
     ]
    }
   ],
   "source": [
    "for c in ['Id','groupId','matchId']:\n",
    "    print(f'unique [{c}] count:', train[c].nunique())"
   ]
  },
  {
   "cell_type": "markdown",
   "metadata": {
    "_uuid": "771420660fb64d6243864874a7db5b1e6fad6f55"
   },
   "source": [
    "## matchType\n",
    "\n",
    "There are 3 game modes in the game.  One can play solo, or with a friend (duo), or with 3 other friends (squad)."
   ]
  },
  {
   "cell_type": "code",
   "execution_count": 9,
   "metadata": {
    "_kg_hide-input": true,
    "_uuid": "1c3d16b066144c94a23b5f73126d04937bcfdc2b"
   },
   "outputs": [
    {
     "data": {
      "text/plain": [
       "<matplotlib.axes._subplots.AxesSubplot at 0x1a1d5f3978>"
      ]
     },
     "execution_count": 9,
     "metadata": {},
     "output_type": "execute_result"
    },
    {
     "data": {
      "image/png": "[encoded data removed]",
      "text/plain": [
       "<Figure size 864x288 with 2 Axes>"
      ]
     },
     "metadata": {
      "needs_background": "light"
     },
     "output_type": "display_data"
    }
   ],
   "source": [
    "fig, ax = plt.subplots(1, 2, figsize=(12, 4))\n",
    "\n",
    "train.groupby('matchId')['matchType'].first().value_counts().plot.bar(ax=ax[0])\n",
    "\n",
    "'''\n",
    "solo  <-- solo,solo-fpp,normal-solo,normal-solo-fpp\n",
    "duo   <-- duo,duo-fpp,normal-duo,normal-duo-fpp,crashfpp,crashtpp\n",
    "squad <-- squad,squad-fpp,normal-squad,normal-squad-fpp,flarefpp,flaretpp\n",
    "'''\n",
    "mapper = lambda x: 'solo' if ('solo' in x) else 'duo' if ('duo' in x) or ('crash' in x) else 'squad'\n",
    "train['matchType'] = train['matchType'].apply(mapper)\n",
    "train.groupby('matchId')['matchType'].first().value_counts().plot.bar(ax=ax[1])"
   ]
  },
  {
   "cell_type": "markdown",
   "metadata": {
    "_uuid": "797e5c138b0b926f80a24021c0c7c48f5be6f3d5"
   },
   "source": [
    "## maxPlace, numGroups"
   ]
  },
  {
   "cell_type": "markdown",
   "metadata": {
    "_uuid": "4a6891afa34e2d77a8e55eee4cabd67cb3a23282"
   },
   "source": [
    "- cause by computer only groups?"
   ]
  },
  {
   "cell_type": "code",
   "execution_count": 10,
   "metadata": {
    "_kg_hide-input": true,
    "_uuid": "b828eb6b2e01b23d492f8bfed58904fa1561efe8"
   },
   "outputs": [
    {
     "name": "stdout",
     "output_type": "stream",
     "text": [
      "numGroups == maxPlace : 1241089\n",
      "numGroups != maxPlace : 3205876\n"
     ]
    }
   ],
   "source": [
    "for q in ['numGroups == maxPlace','numGroups != maxPlace']:\n",
    "    print(q, ':', len(train.query(q)))"
   ]
  },
  {
   "cell_type": "markdown",
   "metadata": {
    "_uuid": "f08a3137f65dbf960d1e495cb908a8e8a329a6f8"
   },
   "source": [
    "- groups in match"
   ]
  },
  {
   "cell_type": "code",
   "execution_count": 11,
   "metadata": {
    "_kg_hide-input": true,
    "_uuid": "46beba207d9c864fef7afbbb42678ae2fdcdb19a"
   },
   "outputs": [
    {
     "data": {
      "text/html": [
       "<div>\n",
       "<style scoped>\n",
       "    .dataframe tbody tr th:only-of-type {\n",
       "        vertical-align: middle;\n",
       "    }\n",
       "\n",
       "    .dataframe tbody tr th {\n",
       "        vertical-align: top;\n",
       "    }\n",
       "\n",
       "    .dataframe thead tr th {\n",
       "        text-align: left;\n",
       "    }\n",
       "\n",
       "    .dataframe thead tr:last-of-type th {\n",
       "        text-align: right;\n",
       "    }\n",
       "</style>\n",
       "<table border=\"1\" class=\"dataframe\">\n",
       "  <thead>\n",
       "    <tr>\n",
       "      <th></th>\n",
       "      <th colspan=\"3\" halign=\"left\">numGroups</th>\n",
       "      <th colspan=\"3\" halign=\"left\">maxPlace</th>\n",
       "      <th colspan=\"3\" halign=\"left\">groups in match</th>\n",
       "    </tr>\n",
       "    <tr>\n",
       "      <th></th>\n",
       "      <th>min</th>\n",
       "      <th>mean</th>\n",
       "      <th>max</th>\n",
       "      <th>min</th>\n",
       "      <th>mean</th>\n",
       "      <th>max</th>\n",
       "      <th>min</th>\n",
       "      <th>mean</th>\n",
       "      <th>max</th>\n",
       "    </tr>\n",
       "    <tr>\n",
       "      <th>matchType</th>\n",
       "      <th></th>\n",
       "      <th></th>\n",
       "      <th></th>\n",
       "      <th></th>\n",
       "      <th></th>\n",
       "      <th></th>\n",
       "      <th></th>\n",
       "      <th></th>\n",
       "      <th></th>\n",
       "    </tr>\n",
       "  </thead>\n",
       "  <tbody>\n",
       "    <tr>\n",
       "      <th>duo</th>\n",
       "      <td>1.000</td>\n",
       "      <td>45.812</td>\n",
       "      <td>52.000</td>\n",
       "      <td>3.000</td>\n",
       "      <td>47.609</td>\n",
       "      <td>52.000</td>\n",
       "      <td>1.000</td>\n",
       "      <td>45.349</td>\n",
       "      <td>52.000</td>\n",
       "    </tr>\n",
       "    <tr>\n",
       "      <th>solo</th>\n",
       "      <td>1.000</td>\n",
       "      <td>91.115</td>\n",
       "      <td>100.000</td>\n",
       "      <td>2.000</td>\n",
       "      <td>93.909</td>\n",
       "      <td>100.000</td>\n",
       "      <td>1.000</td>\n",
       "      <td>85.680</td>\n",
       "      <td>100.000</td>\n",
       "    </tr>\n",
       "    <tr>\n",
       "      <th>squad</th>\n",
       "      <td>2.000</td>\n",
       "      <td>27.039</td>\n",
       "      <td>37.000</td>\n",
       "      <td>2.000</td>\n",
       "      <td>27.983</td>\n",
       "      <td>37.000</td>\n",
       "      <td>2.000</td>\n",
       "      <td>26.835</td>\n",
       "      <td>37.000</td>\n",
       "    </tr>\n",
       "  </tbody>\n",
       "</table>\n",
       "</div>"
      ],
      "text/plain": [
       "          numGroups                maxPlace                groups in match  \\\n",
       "                min   mean     max      min   mean     max             min   \n",
       "matchType                                                                    \n",
       "duo           1.000 45.812  52.000    3.000 47.609  52.000           1.000   \n",
       "solo          1.000 91.115 100.000    2.000 93.909 100.000           1.000   \n",
       "squad         2.000 27.039  37.000    2.000 27.983  37.000           2.000   \n",
       "\n",
       "                          \n",
       "            mean     max  \n",
       "matchType                 \n",
       "duo       45.349  52.000  \n",
       "solo      85.680 100.000  \n",
       "squad     26.835  37.000  "
      ]
     },
     "execution_count": 11,
     "metadata": {},
     "output_type": "execute_result"
    }
   ],
   "source": [
    "# describe\n",
    "cols = ['numGroups','maxPlace']\n",
    "desc1 = train.groupby('matchType')[cols].describe()[toTapleList(cols,['min','mean','max'])]\n",
    "\n",
    "# groups in match\n",
    "group = train.groupby(['matchType','matchId','groupId']).count().groupby(['matchType','matchId']).size().to_frame('groups in match') # 第二部将matchType 对应的matchId 对应的\n",
    "desc2 = group.groupby('matchType').describe()[toTapleList(['groups in match'],['min','mean','max'])]\n",
    "\n",
    "pd.concat([desc1, desc2], axis=1)"
   ]
  },
  {
   "cell_type": "markdown",
   "metadata": {
    "_uuid": "f88049232bd6389c77bfd62355fe5f817ae7b231"
   },
   "source": [
    "## players"
   ]
  },
  {
   "cell_type": "markdown",
   "metadata": {
    "_uuid": "8d8f0ea30c0b7834d55c670ff6d25ae6b07fd739"
   },
   "source": [
    "- players in match, group\n",
    "\n",
    "100 players join the same server,  so in the case of duos the max teams are 50 and in the case of squads the max teams are 25.\n"
   ]
  },
  {
   "cell_type": "code",
   "execution_count": 12,
   "metadata": {
    "_kg_hide-input": true,
    "_uuid": "5650fd5b5388d3e9a3d4756a2580c3927d33e170"
   },
   "outputs": [
    {
     "data": {
      "text/html": [
       "<div>\n",
       "<style scoped>\n",
       "    .dataframe tbody tr th:only-of-type {\n",
       "        vertical-align: middle;\n",
       "    }\n",
       "\n",
       "    .dataframe tbody tr th {\n",
       "        vertical-align: top;\n",
       "    }\n",
       "\n",
       "    .dataframe thead tr th {\n",
       "        text-align: left;\n",
       "    }\n",
       "\n",
       "    .dataframe thead tr:last-of-type th {\n",
       "        text-align: right;\n",
       "    }\n",
       "</style>\n",
       "<table border=\"1\" class=\"dataframe\">\n",
       "  <thead>\n",
       "    <tr>\n",
       "      <th></th>\n",
       "      <th colspan=\"3\" halign=\"left\">players in match</th>\n",
       "      <th colspan=\"3\" halign=\"left\">players in group</th>\n",
       "    </tr>\n",
       "    <tr>\n",
       "      <th></th>\n",
       "      <th>min</th>\n",
       "      <th>mean</th>\n",
       "      <th>max</th>\n",
       "      <th>min</th>\n",
       "      <th>mean</th>\n",
       "      <th>max</th>\n",
       "    </tr>\n",
       "    <tr>\n",
       "      <th>matchType</th>\n",
       "      <th></th>\n",
       "      <th></th>\n",
       "      <th></th>\n",
       "      <th></th>\n",
       "      <th></th>\n",
       "      <th></th>\n",
       "    </tr>\n",
       "  </thead>\n",
       "  <tbody>\n",
       "    <tr>\n",
       "      <th>duo</th>\n",
       "      <td>7.000</td>\n",
       "      <td>92.986</td>\n",
       "      <td>100.000</td>\n",
       "      <td>1.000</td>\n",
       "      <td>2.050</td>\n",
       "      <td>72.000</td>\n",
       "    </tr>\n",
       "    <tr>\n",
       "      <th>solo</th>\n",
       "      <td>2.000</td>\n",
       "      <td>89.043</td>\n",
       "      <td>100.000</td>\n",
       "      <td>1.000</td>\n",
       "      <td>1.039</td>\n",
       "      <td>64.000</td>\n",
       "    </tr>\n",
       "    <tr>\n",
       "      <th>squad</th>\n",
       "      <td>5.000</td>\n",
       "      <td>93.723</td>\n",
       "      <td>100.000</td>\n",
       "      <td>1.000</td>\n",
       "      <td>3.493</td>\n",
       "      <td>74.000</td>\n",
       "    </tr>\n",
       "  </tbody>\n",
       "</table>\n",
       "</div>"
      ],
      "text/plain": [
       "          players in match                players in group             \n",
       "                       min   mean     max              min  mean    max\n",
       "matchType                                                              \n",
       "duo                  7.000 92.986 100.000            1.000 2.050 72.000\n",
       "solo                 2.000 89.043 100.000            1.000 1.039 64.000\n",
       "squad                5.000 93.723 100.000            1.000 3.493 74.000"
      ]
     },
     "execution_count": 12,
     "metadata": {},
     "output_type": "execute_result"
    }
   ],
   "source": [
    "match = train.groupby(['matchType','matchId']).size().to_frame('players in match')\n",
    "group = train.groupby(['matchType','matchId','groupId']).size().to_frame('players in group')\n",
    "pd.concat([match.groupby('matchType').describe()[toTapleList(['players in match'],['min','mean','max'])], \n",
    "           group.groupby('matchType').describe()[toTapleList(['players in group'],['min','mean','max'])]], axis=1)"
   ]
  },
  {
   "cell_type": "markdown",
   "metadata": {
    "_uuid": "4b871c68982738d262d857b1c56e567999601def"
   },
   "source": [
    "- Too many group players"
   ]
  },
  {
   "cell_type": "code",
   "execution_count": 13,
   "metadata": {
    "_kg_hide-input": true,
    "_uuid": "63939fc19ce9c5a969ad6e70d36dc085135315ec"
   },
   "outputs": [
    {
     "name": "stdout",
     "output_type": "stream",
     "text": [
      "matchType  matchId         groupId       \n",
      "squad      b30f3d87189aa6  14d6b54cdec6bc    74\n",
      "duo        3e029737889ce9  b8275198faa03b    72\n",
      "solo       41a634f62f86b7  128b07271aa012    64\n",
      "duo        7e93ce71ac6f61  7385e5fe214021    49\n",
      "squad      3c2531adf5b942  e52a2e6ca30474    36\n",
      "Name: players in group, dtype: int64\n"
     ]
    }
   ],
   "source": [
    "print(group['players in group'].nlargest(5))\n",
    "del match,group"
   ]
  },
  {
   "cell_type": "code",
   "execution_count": 14,
   "metadata": {
    "_kg_hide-input": true,
    "_uuid": "1c2f2acedc09e8dbef7e88efeabb80150d645ecd"
   },
   "outputs": [
    {
     "name": "stdout",
     "output_type": "stream",
     "text": [
      "matchId=='41a634f62f86b7' & groupId=='128b07271aa012'\n",
      "--------------------------------------------------\n",
      "players: 97\n",
      "groups: 34\n",
      "numGroups: [34]\n",
      "maxPlace: [97]\n",
      "--------------------------------------------------\n",
      "max-group players: 64\n",
      "max-group winPlacePerc: [0.28119999]\n",
      "--------------------------------------------------\n",
      "winPlacePerc: [0.         0.0104     0.0208     0.0312     0.0417     0.0521\n",
      " 0.0625     0.0729     0.0833     0.0938     0.1042     0.1146\n",
      " 0.125      0.1354     0.14579999 0.15620001 0.16670001 0.1771\n",
      " 0.1875     0.1979     0.20829999 0.21879999 0.22920001 0.2396\n",
      " 0.25       0.2604     0.27079999 0.28119999 0.7604     0.77079999\n",
      " 0.89579999 0.91670001 0.9896     1.        ]\n"
     ]
    }
   ],
   "source": [
    "''' ex) matchId=='41a634f62f86b7', groupId=='128b07271aa012'\n",
    "'''\n",
    "subset = train[train['matchId']=='41a634f62f86b7']\n",
    "sub_grp = subset[subset['groupId']=='128b07271aa012']\n",
    "\n",
    "print('matchId==\\'41a634f62f86b7\\' & groupId==\\'128b07271aa012\\'')\n",
    "print('-'*50)\n",
    "print('players:',len(subset))\n",
    "print('groups:',subset['groupId'].nunique())\n",
    "print('numGroups:',subset['numGroups'].unique())\n",
    "print('maxPlace:',subset['maxPlace'].unique())\n",
    "print('-'*50)\n",
    "print('max-group players:',len(sub_grp))\n",
    "print('max-group winPlacePerc:',sub_grp['winPlacePerc'].unique())\n",
    "print('-'*50)\n",
    "print('winPlacePerc:',subset['winPlacePerc'].sort_values().unique())"
   ]
  },
  {
   "cell_type": "markdown",
   "metadata": {
    "_uuid": "34db65cb30aa671ed74331380a085b21f99abf66"
   },
   "source": [
    "- Plot players in group"
   ]
  },
  {
   "cell_type": "code",
   "execution_count": 15,
   "metadata": {
    "_kg_hide-input": true,
    "_uuid": "3ac309b68b45220a79c72630e75a809b36b5ca49"
   },
   "outputs": [
    {
     "data": {
      "image/png": "[encoded data removed]",
      "text/plain": [
       "<Figure size 1152x288 with 3 Axes>"
      ]
     },
     "metadata": {
      "needs_background": "light"
     },
     "output_type": "display_data"
    }
   ],
   "source": [
    "group = train.groupby(['matchId','groupId','matchType'])['Id'].count().to_frame('players').reset_index()\n",
    "group.loc[group['players'] > 4, 'players'] = '5+'\n",
    "group['players'] = group['players'].astype(str)\n",
    "\n",
    "fig, ax = plt.subplots(1, 3, figsize=(16, 4))\n",
    "for mt, ax in zip(['solo','duo','squad'], ax.ravel()):\n",
    "    ax.set_xlabel(mt)\n",
    "    group[group['matchType'] == mt]['players'].value_counts().sort_index().plot.bar(ax=ax)"
   ]
  },
  {
   "cell_type": "markdown",
   "metadata": {
    "_uuid": "64d44e2b846e2bbe2d8484659476ac7b0898bcfb"
   },
   "source": [
    "## matchDuration"
   ]
  },
  {
   "cell_type": "code",
   "execution_count": 16,
   "metadata": {
    "_kg_hide-input": true,
    "_uuid": "4947bf31728d208c7e1057f0c2625564ceab23ab"
   },
   "outputs": [
    {
     "data": {
      "text/plain": [
       "<matplotlib.axes._subplots.AxesSubplot at 0x1a1e516b70>"
      ]
     },
     "execution_count": 16,
     "metadata": {},
     "output_type": "execute_result"
    },
    {
     "data": {
      "image/png": "[encoded data removed]",
      "text/plain": [
       "<Figure size 864x288 with 2 Axes>"
      ]
     },
     "metadata": {
      "needs_background": "light"
     },
     "output_type": "display_data"
    }
   ],
   "source": [
    "fig, ax = plt.subplots(1, 2, figsize=(12, 4))\n",
    "# there are two types of maps?\n",
    "train['matchDuration'].hist(bins=50, ax=ax[0])\n",
    "train.query('matchDuration >= 1400 & matchDuration <= 1800')['matchDuration'].hist(bins=50, ax=ax[1])"
   ]
  },
  {
   "cell_type": "markdown",
   "metadata": {
    "_uuid": "d0989a3e39d80be33b664cf128514da3e2b47480"
   },
   "source": [
    "- min matchDuration"
   ]
  },
  {
   "cell_type": "code",
   "execution_count": 17,
   "metadata": {
    "_kg_hide-input": true,
    "_uuid": "151179b5ff1e18ba9eb300238afba9eda1a448e7"
   },
   "outputs": [
    {
     "data": {
      "text/html": [
       "<div>\n",
       "<style scoped>\n",
       "    .dataframe tbody tr th:only-of-type {\n",
       "        vertical-align: middle;\n",
       "    }\n",
       "\n",
       "    .dataframe tbody tr th {\n",
       "        vertical-align: top;\n",
       "    }\n",
       "\n",
       "    .dataframe thead th {\n",
       "        text-align: right;\n",
       "    }\n",
       "</style>\n",
       "<table border=\"1\" class=\"dataframe\">\n",
       "  <thead>\n",
       "    <tr style=\"text-align: right;\">\n",
       "      <th></th>\n",
       "      <th>Id</th>\n",
       "      <th>groupId</th>\n",
       "      <th>matchId</th>\n",
       "      <th>assists</th>\n",
       "      <th>boosts</th>\n",
       "      <th>damageDealt</th>\n",
       "      <th>DBNOs</th>\n",
       "      <th>headshotKills</th>\n",
       "      <th>heals</th>\n",
       "      <th>killPlace</th>\n",
       "      <th>...</th>\n",
       "      <th>revives</th>\n",
       "      <th>rideDistance</th>\n",
       "      <th>roadKills</th>\n",
       "      <th>swimDistance</th>\n",
       "      <th>teamKills</th>\n",
       "      <th>vehicleDestroys</th>\n",
       "      <th>walkDistance</th>\n",
       "      <th>weaponsAcquired</th>\n",
       "      <th>winPoints</th>\n",
       "      <th>winPlacePerc</th>\n",
       "    </tr>\n",
       "  </thead>\n",
       "  <tbody>\n",
       "    <tr>\n",
       "      <th>1206365</th>\n",
       "      <td>28f2bb56074e95</td>\n",
       "      <td>311a5a9adf1a96</td>\n",
       "      <td>e5a77433bc436f</td>\n",
       "      <td>0</td>\n",
       "      <td>0</td>\n",
       "      <td>100.000</td>\n",
       "      <td>0</td>\n",
       "      <td>1</td>\n",
       "      <td>0</td>\n",
       "      <td>1</td>\n",
       "      <td>...</td>\n",
       "      <td>0</td>\n",
       "      <td>0.000</td>\n",
       "      <td>0</td>\n",
       "      <td>0.000</td>\n",
       "      <td>0</td>\n",
       "      <td>0</td>\n",
       "      <td>0.280</td>\n",
       "      <td>2</td>\n",
       "      <td>0</td>\n",
       "      <td>1.000</td>\n",
       "    </tr>\n",
       "    <tr>\n",
       "      <th>2109739</th>\n",
       "      <td>2a5f4f18fe9e86</td>\n",
       "      <td>f290930a32548a</td>\n",
       "      <td>e5a77433bc436f</td>\n",
       "      <td>0</td>\n",
       "      <td>0</td>\n",
       "      <td>0.000</td>\n",
       "      <td>0</td>\n",
       "      <td>0</td>\n",
       "      <td>0</td>\n",
       "      <td>2</td>\n",
       "      <td>...</td>\n",
       "      <td>0</td>\n",
       "      <td>0.000</td>\n",
       "      <td>0</td>\n",
       "      <td>0.000</td>\n",
       "      <td>0</td>\n",
       "      <td>0</td>\n",
       "      <td>0.000</td>\n",
       "      <td>2</td>\n",
       "      <td>0</td>\n",
       "      <td>0.000</td>\n",
       "    </tr>\n",
       "  </tbody>\n",
       "</table>\n",
       "<p>2 rows × 29 columns</p>\n",
       "</div>"
      ],
      "text/plain": [
       "                     Id         groupId         matchId  assists  boosts  \\\n",
       "1206365  28f2bb56074e95  311a5a9adf1a96  e5a77433bc436f        0       0   \n",
       "2109739  2a5f4f18fe9e86  f290930a32548a  e5a77433bc436f        0       0   \n",
       "\n",
       "         damageDealt  DBNOs  headshotKills  heals  killPlace  ...  revives  \\\n",
       "1206365      100.000      0              1      0          1  ...        0   \n",
       "2109739        0.000      0              0      0          2  ...        0   \n",
       "\n",
       "         rideDistance  roadKills  swimDistance  teamKills vehicleDestroys  \\\n",
       "1206365         0.000          0         0.000          0               0   \n",
       "2109739         0.000          0         0.000          0               0   \n",
       "\n",
       "         walkDistance  weaponsAcquired  winPoints  winPlacePerc  \n",
       "1206365         0.280                2          0         1.000  \n",
       "2109739         0.000                2          0         0.000  \n",
       "\n",
       "[2 rows x 29 columns]"
      ]
     },
     "execution_count": 17,
     "metadata": {},
     "output_type": "execute_result"
    }
   ],
   "source": [
    "train[train['matchDuration'] == train['matchDuration'].min()].head()"
   ]
  },
  {
   "cell_type": "markdown",
   "metadata": {
    "_uuid": "df108d80df0e1946028fff4201d15527d0165ef4"
   },
   "source": [
    "- max matchDuration"
   ]
  },
  {
   "cell_type": "code",
   "execution_count": 18,
   "metadata": {
    "_kg_hide-input": true,
    "_uuid": "a402b610e4defdd74b9f6d8a8fa6787b9872e0d7"
   },
   "outputs": [
    {
     "data": {
      "text/html": [
       "<div>\n",
       "<style scoped>\n",
       "    .dataframe tbody tr th:only-of-type {\n",
       "        vertical-align: middle;\n",
       "    }\n",
       "\n",
       "    .dataframe tbody tr th {\n",
       "        vertical-align: top;\n",
       "    }\n",
       "\n",
       "    .dataframe thead th {\n",
       "        text-align: right;\n",
       "    }\n",
       "</style>\n",
       "<table border=\"1\" class=\"dataframe\">\n",
       "  <thead>\n",
       "    <tr style=\"text-align: right;\">\n",
       "      <th></th>\n",
       "      <th>Id</th>\n",
       "      <th>groupId</th>\n",
       "      <th>matchId</th>\n",
       "      <th>assists</th>\n",
       "      <th>boosts</th>\n",
       "      <th>damageDealt</th>\n",
       "      <th>DBNOs</th>\n",
       "      <th>headshotKills</th>\n",
       "      <th>heals</th>\n",
       "      <th>killPlace</th>\n",
       "      <th>...</th>\n",
       "      <th>revives</th>\n",
       "      <th>rideDistance</th>\n",
       "      <th>roadKills</th>\n",
       "      <th>swimDistance</th>\n",
       "      <th>teamKills</th>\n",
       "      <th>vehicleDestroys</th>\n",
       "      <th>walkDistance</th>\n",
       "      <th>weaponsAcquired</th>\n",
       "      <th>winPoints</th>\n",
       "      <th>winPlacePerc</th>\n",
       "    </tr>\n",
       "  </thead>\n",
       "  <tbody>\n",
       "    <tr>\n",
       "      <th>130663</th>\n",
       "      <td>8089c9ef1fa09e</td>\n",
       "      <td>3c909156e89431</td>\n",
       "      <td>f8e02cb4c82d7d</td>\n",
       "      <td>0</td>\n",
       "      <td>0</td>\n",
       "      <td>0.000</td>\n",
       "      <td>0</td>\n",
       "      <td>0</td>\n",
       "      <td>0</td>\n",
       "      <td>72</td>\n",
       "      <td>...</td>\n",
       "      <td>0</td>\n",
       "      <td>0.000</td>\n",
       "      <td>0</td>\n",
       "      <td>0.000</td>\n",
       "      <td>0</td>\n",
       "      <td>0</td>\n",
       "      <td>231.800</td>\n",
       "      <td>3</td>\n",
       "      <td>0</td>\n",
       "      <td>0.260</td>\n",
       "    </tr>\n",
       "    <tr>\n",
       "      <th>139317</th>\n",
       "      <td>3049d51e07bab3</td>\n",
       "      <td>4086a790e99513</td>\n",
       "      <td>f8e02cb4c82d7d</td>\n",
       "      <td>0</td>\n",
       "      <td>0</td>\n",
       "      <td>100.000</td>\n",
       "      <td>0</td>\n",
       "      <td>0</td>\n",
       "      <td>0</td>\n",
       "      <td>34</td>\n",
       "      <td>...</td>\n",
       "      <td>0</td>\n",
       "      <td>0.000</td>\n",
       "      <td>0</td>\n",
       "      <td>0.000</td>\n",
       "      <td>0</td>\n",
       "      <td>0</td>\n",
       "      <td>696.000</td>\n",
       "      <td>7</td>\n",
       "      <td>0</td>\n",
       "      <td>0.458</td>\n",
       "    </tr>\n",
       "    <tr>\n",
       "      <th>146220</th>\n",
       "      <td>cb3902c30f688c</td>\n",
       "      <td>65400d5cf84ead</td>\n",
       "      <td>f8e02cb4c82d7d</td>\n",
       "      <td>0</td>\n",
       "      <td>0</td>\n",
       "      <td>0.000</td>\n",
       "      <td>0</td>\n",
       "      <td>0</td>\n",
       "      <td>0</td>\n",
       "      <td>85</td>\n",
       "      <td>...</td>\n",
       "      <td>0</td>\n",
       "      <td>0.000</td>\n",
       "      <td>0</td>\n",
       "      <td>0.000</td>\n",
       "      <td>0</td>\n",
       "      <td>0</td>\n",
       "      <td>99.950</td>\n",
       "      <td>1</td>\n",
       "      <td>0</td>\n",
       "      <td>0.125</td>\n",
       "    </tr>\n",
       "    <tr>\n",
       "      <th>246201</th>\n",
       "      <td>80e022ce3a64ff</td>\n",
       "      <td>b668e37229bb2d</td>\n",
       "      <td>f8e02cb4c82d7d</td>\n",
       "      <td>0</td>\n",
       "      <td>1</td>\n",
       "      <td>96.250</td>\n",
       "      <td>0</td>\n",
       "      <td>1</td>\n",
       "      <td>0</td>\n",
       "      <td>35</td>\n",
       "      <td>...</td>\n",
       "      <td>0</td>\n",
       "      <td>0.000</td>\n",
       "      <td>0</td>\n",
       "      <td>0.000</td>\n",
       "      <td>0</td>\n",
       "      <td>0</td>\n",
       "      <td>1,395.000</td>\n",
       "      <td>6</td>\n",
       "      <td>0</td>\n",
       "      <td>0.375</td>\n",
       "    </tr>\n",
       "    <tr>\n",
       "      <th>268239</th>\n",
       "      <td>0e50a3a859d3ab</td>\n",
       "      <td>9dcca2c1beb072</td>\n",
       "      <td>f8e02cb4c82d7d</td>\n",
       "      <td>0</td>\n",
       "      <td>0</td>\n",
       "      <td>0.000</td>\n",
       "      <td>0</td>\n",
       "      <td>0</td>\n",
       "      <td>0</td>\n",
       "      <td>41</td>\n",
       "      <td>...</td>\n",
       "      <td>0</td>\n",
       "      <td>0.000</td>\n",
       "      <td>0</td>\n",
       "      <td>0.000</td>\n",
       "      <td>0</td>\n",
       "      <td>0</td>\n",
       "      <td>121.700</td>\n",
       "      <td>3</td>\n",
       "      <td>0</td>\n",
       "      <td>0.906</td>\n",
       "    </tr>\n",
       "  </tbody>\n",
       "</table>\n",
       "<p>5 rows × 29 columns</p>\n",
       "</div>"
      ],
      "text/plain": [
       "                    Id         groupId         matchId  assists  boosts  \\\n",
       "130663  8089c9ef1fa09e  3c909156e89431  f8e02cb4c82d7d        0       0   \n",
       "139317  3049d51e07bab3  4086a790e99513  f8e02cb4c82d7d        0       0   \n",
       "146220  cb3902c30f688c  65400d5cf84ead  f8e02cb4c82d7d        0       0   \n",
       "246201  80e022ce3a64ff  b668e37229bb2d  f8e02cb4c82d7d        0       1   \n",
       "268239  0e50a3a859d3ab  9dcca2c1beb072  f8e02cb4c82d7d        0       0   \n",
       "\n",
       "        damageDealt  DBNOs  headshotKills  heals  killPlace  ...  revives  \\\n",
       "130663        0.000      0              0      0         72  ...        0   \n",
       "139317      100.000      0              0      0         34  ...        0   \n",
       "146220        0.000      0              0      0         85  ...        0   \n",
       "246201       96.250      0              1      0         35  ...        0   \n",
       "268239        0.000      0              0      0         41  ...        0   \n",
       "\n",
       "        rideDistance  roadKills  swimDistance  teamKills vehicleDestroys  \\\n",
       "130663         0.000          0         0.000          0               0   \n",
       "139317         0.000          0         0.000          0               0   \n",
       "146220         0.000          0         0.000          0               0   \n",
       "246201         0.000          0         0.000          0               0   \n",
       "268239         0.000          0         0.000          0               0   \n",
       "\n",
       "        walkDistance  weaponsAcquired  winPoints  winPlacePerc  \n",
       "130663       231.800                3          0         0.260  \n",
       "139317       696.000                7          0         0.458  \n",
       "146220        99.950                1          0         0.125  \n",
       "246201     1,395.000                6          0         0.375  \n",
       "268239       121.700                3          0         0.906  \n",
       "\n",
       "[5 rows x 29 columns]"
      ]
     },
     "execution_count": 18,
     "metadata": {},
     "output_type": "execute_result"
    }
   ],
   "source": [
    "train[train['matchDuration'] == train['matchDuration'].max()].head()"
   ]
  },
  {
   "cell_type": "markdown",
   "metadata": {
    "_uuid": "1711ddc151f08056d3a654df2bb3a1aefaf67b3e"
   },
   "source": [
    "- same match is same duration"
   ]
  },
  {
   "cell_type": "code",
   "execution_count": 19,
   "metadata": {
    "_kg_hide-input": true,
    "_kg_hide-output": true,
    "_uuid": "6f7fea9acc18c283286415f3838c2403e3003bcd"
   },
   "outputs": [
    {
     "data": {
      "text/plain": [
       "False"
      ]
     },
     "execution_count": 19,
     "metadata": {},
     "output_type": "execute_result"
    }
   ],
   "source": [
    "(train.groupby('matchId')['matchDuration'].nunique() > 1).any()"
   ]
  },
  {
   "cell_type": "markdown",
   "metadata": {
    "_uuid": "8293c7ea5ccac5b8b20b9376e65e4fb7797ac529"
   },
   "source": [
    "## boosts, heals"
   ]
  },
  {
   "cell_type": "code",
   "execution_count": 20,
   "metadata": {
    "_kg_hide-input": true,
    "_uuid": "27903ba5acea63d4a2185cb35f352a4f27ca2091"
   },
   "outputs": [
    {
     "data": {
      "image/png": "[encoded data removed]",
      "text/plain": [
       "<Figure size 1152x576 with 4 Axes>"
      ]
     },
     "metadata": {
      "needs_background": "light"
     },
     "output_type": "display_data"
    }
   ],
   "source": [
    "fig, ax = plt.subplots(2, 2, figsize=(16, 8))\n",
    "\n",
    "cols = ['boosts','heals']\n",
    "for col, ax in zip(cols, ax):\n",
    "    sub = train[['winPlacePerc',col]].copy()\n",
    "    mv = (sub[col].max() // 5) + 1\n",
    "    sub[col] = pd.cut(sub[col], [5*x for x in range(0,mv)], right=False)\n",
    "    sub.groupby(col).mean()['winPlacePerc'].plot.bar(ax=ax[0])\n",
    "    train[col].hist(bins=20, ax=ax[1])"
   ]
  },
  {
   "cell_type": "markdown",
   "metadata": {
    "_uuid": "9d83d88bc5d7dda0866d06e78b0b11930d9fb5b0"
   },
   "source": [
    "## revives"
   ]
  },
  {
   "cell_type": "code",
   "execution_count": 21,
   "metadata": {
    "_kg_hide-input": true,
    "_uuid": "e1f8bb67fb89b4e8bdbeecd26d958bac7ce39120"
   },
   "outputs": [
    {
     "name": "stdout",
     "output_type": "stream",
     "text": [
      "solo player has revives: False\n"
     ]
    }
   ],
   "source": [
    "print('solo player has revives:', 'solo' in train.query('revives > 0')['matchType'].unique())"
   ]
  },
  {
   "cell_type": "code",
   "execution_count": 22,
   "metadata": {
    "_kg_hide-input": true,
    "_uuid": "f85fe165d01e4323c8f9d93234508ed47cc84f1a"
   },
   "outputs": [
    {
     "data": {
      "text/plain": [
       "<matplotlib.axes._subplots.AxesSubplot at 0x1a1f0fe3c8>"
      ]
     },
     "execution_count": 22,
     "metadata": {},
     "output_type": "execute_result"
    },
    {
     "data": {
      "image/png": "[encoded data removed]",
      "text/plain": [
       "<Figure size 1152x288 with 2 Axes>"
      ]
     },
     "metadata": {
      "needs_background": "light"
     },
     "output_type": "display_data"
    }
   ],
   "source": [
    "fig, ax = plt.subplots(1, 2, figsize=(16, 4))\n",
    "col = 'revives'\n",
    "sub = train.loc[~train['matchType'].str.contains('solo'),['winPlacePerc',col]].copy()\n",
    "sub[col] = pd.cut(sub[col], [5 * x for x in range(0,8)], right=False)\n",
    "sub.groupby(col).mean()['winPlacePerc'].plot.bar(ax=ax[0])\n",
    "train[col].hist(bins=20, ax=ax[1])"
   ]
  },
  {
   "cell_type": "markdown",
   "metadata": {
    "_uuid": "2c49e506d2d0dea09f172220f056309cfdfd34eb"
   },
   "source": [
    "## killPlace"
   ]
  },
  {
   "cell_type": "code",
   "execution_count": 23,
   "metadata": {
    "_kg_hide-input": true,
    "_uuid": "270ae3ba67c40f85eb8e2789f6e6db2eb5856412"
   },
   "outputs": [
    {
     "data": {
      "text/html": [
       "<div>\n",
       "<style scoped>\n",
       "    .dataframe tbody tr th:only-of-type {\n",
       "        vertical-align: middle;\n",
       "    }\n",
       "\n",
       "    .dataframe tbody tr th {\n",
       "        vertical-align: top;\n",
       "    }\n",
       "\n",
       "    .dataframe thead th {\n",
       "        text-align: right;\n",
       "    }\n",
       "</style>\n",
       "<table border=\"1\" class=\"dataframe\">\n",
       "  <thead>\n",
       "    <tr style=\"text-align: right;\">\n",
       "      <th></th>\n",
       "      <th>min</th>\n",
       "      <th>mean</th>\n",
       "      <th>max</th>\n",
       "    </tr>\n",
       "    <tr>\n",
       "      <th>matchType</th>\n",
       "      <th></th>\n",
       "      <th></th>\n",
       "      <th></th>\n",
       "    </tr>\n",
       "  </thead>\n",
       "  <tbody>\n",
       "    <tr>\n",
       "      <th>duo</th>\n",
       "      <td>1.000</td>\n",
       "      <td>47.471</td>\n",
       "      <td>100.000</td>\n",
       "    </tr>\n",
       "    <tr>\n",
       "      <th>solo</th>\n",
       "      <td>1.000</td>\n",
       "      <td>47.458</td>\n",
       "      <td>100.000</td>\n",
       "    </tr>\n",
       "    <tr>\n",
       "      <th>squad</th>\n",
       "      <td>1.000</td>\n",
       "      <td>47.712</td>\n",
       "      <td>101.000</td>\n",
       "    </tr>\n",
       "  </tbody>\n",
       "</table>\n",
       "</div>"
      ],
      "text/plain": [
       "            min   mean     max\n",
       "matchType                     \n",
       "duo       1.000 47.471 100.000\n",
       "solo      1.000 47.458 100.000\n",
       "squad     1.000 47.712 101.000"
      ]
     },
     "execution_count": 23,
     "metadata": {},
     "output_type": "execute_result"
    }
   ],
   "source": [
    "train.groupby(['matchType'])['killPlace'].describe()[['min','mean','max']]"
   ]
  },
  {
   "cell_type": "code",
   "execution_count": 24,
   "metadata": {
    "_kg_hide-input": true,
    "_uuid": "270797674b71d3ed3b6137b8bd891fb385e4271c"
   },
   "outputs": [
    {
     "data": {
      "text/plain": [
       "<matplotlib.axes._subplots.AxesSubplot at 0x1a35997e10>"
      ]
     },
     "execution_count": 24,
     "metadata": {},
     "output_type": "execute_result"
    },
    {
     "data": {
      "image/png": "[encoded data removed]",
      "text/plain": [
       "<Figure size 576x288 with 1 Axes>"
      ]
     },
     "metadata": {
      "needs_background": "light"
     },
     "output_type": "display_data"
    }
   ],
   "source": [
    "plt.figure(figsize=(8,4))\n",
    "col = 'killPlace'\n",
    "sub = train[['winPlacePerc',col]].copy()\n",
    "sub[col] = pd.cut(sub[col], [10*x for x in range(0,11)], right=False)\n",
    "sub.groupby(col).mean()['winPlacePerc'].plot.bar()"
   ]
  },
  {
   "cell_type": "markdown",
   "metadata": {
    "_uuid": "c88288bc129ffdc44362db52301d665501e4481f"
   },
   "source": [
    "- killPlace is a sorted ranking of kills and winPlacePerc in each match"
   ]
  },
  {
   "cell_type": "code",
   "execution_count": 25,
   "metadata": {
    "_kg_hide-input": true,
    "_uuid": "a9f7983ad901e6a0c548d9208eb345983843ae32"
   },
   "outputs": [
    {
     "data": {
      "text/html": [
       "<div>\n",
       "<style scoped>\n",
       "    .dataframe tbody tr th:only-of-type {\n",
       "        vertical-align: middle;\n",
       "    }\n",
       "\n",
       "    .dataframe tbody tr th {\n",
       "        vertical-align: top;\n",
       "    }\n",
       "\n",
       "    .dataframe thead th {\n",
       "        text-align: right;\n",
       "    }\n",
       "</style>\n",
       "<table border=\"1\" class=\"dataframe\">\n",
       "  <thead>\n",
       "    <tr style=\"text-align: right;\">\n",
       "      <th></th>\n",
       "      <th>groupId</th>\n",
       "      <th>kills</th>\n",
       "      <th>winPlacePerc</th>\n",
       "      <th>killPlace</th>\n",
       "    </tr>\n",
       "  </thead>\n",
       "  <tbody>\n",
       "    <tr>\n",
       "      <th>3895898</th>\n",
       "      <td>3a6addfa0df938</td>\n",
       "      <td>0</td>\n",
       "      <td>0.000</td>\n",
       "      <td>94</td>\n",
       "    </tr>\n",
       "    <tr>\n",
       "      <th>3599150</th>\n",
       "      <td>3a6addfa0df938</td>\n",
       "      <td>0</td>\n",
       "      <td>0.000</td>\n",
       "      <td>95</td>\n",
       "    </tr>\n",
       "    <tr>\n",
       "      <th>4367296</th>\n",
       "      <td>236ab9e9c081b9</td>\n",
       "      <td>0</td>\n",
       "      <td>0.037</td>\n",
       "      <td>88</td>\n",
       "    </tr>\n",
       "    <tr>\n",
       "      <th>4131025</th>\n",
       "      <td>236ab9e9c081b9</td>\n",
       "      <td>0</td>\n",
       "      <td>0.037</td>\n",
       "      <td>89</td>\n",
       "    </tr>\n",
       "    <tr>\n",
       "      <th>3088817</th>\n",
       "      <td>236ab9e9c081b9</td>\n",
       "      <td>0</td>\n",
       "      <td>0.037</td>\n",
       "      <td>90</td>\n",
       "    </tr>\n",
       "    <tr>\n",
       "      <th>2290792</th>\n",
       "      <td>236ab9e9c081b9</td>\n",
       "      <td>0</td>\n",
       "      <td>0.037</td>\n",
       "      <td>91</td>\n",
       "    </tr>\n",
       "    <tr>\n",
       "      <th>1998699</th>\n",
       "      <td>236ab9e9c081b9</td>\n",
       "      <td>0</td>\n",
       "      <td>0.037</td>\n",
       "      <td>92</td>\n",
       "    </tr>\n",
       "    <tr>\n",
       "      <th>1425950</th>\n",
       "      <td>236ab9e9c081b9</td>\n",
       "      <td>0</td>\n",
       "      <td>0.037</td>\n",
       "      <td>93</td>\n",
       "    </tr>\n",
       "    <tr>\n",
       "      <th>329124</th>\n",
       "      <td>e8ff1c0fe7f6aa</td>\n",
       "      <td>0</td>\n",
       "      <td>0.074</td>\n",
       "      <td>84</td>\n",
       "    </tr>\n",
       "    <tr>\n",
       "      <th>729840</th>\n",
       "      <td>e8ff1c0fe7f6aa</td>\n",
       "      <td>0</td>\n",
       "      <td>0.074</td>\n",
       "      <td>85</td>\n",
       "    </tr>\n",
       "    <tr>\n",
       "      <th>609078</th>\n",
       "      <td>e8ff1c0fe7f6aa</td>\n",
       "      <td>0</td>\n",
       "      <td>0.074</td>\n",
       "      <td>86</td>\n",
       "    </tr>\n",
       "    <tr>\n",
       "      <th>3961031</th>\n",
       "      <td>e8ff1c0fe7f6aa</td>\n",
       "      <td>0</td>\n",
       "      <td>0.074</td>\n",
       "      <td>87</td>\n",
       "    </tr>\n",
       "    <tr>\n",
       "      <th>134000</th>\n",
       "      <td>97364d4199bf30</td>\n",
       "      <td>0</td>\n",
       "      <td>0.111</td>\n",
       "      <td>78</td>\n",
       "    </tr>\n",
       "    <tr>\n",
       "      <th>4064127</th>\n",
       "      <td>97364d4199bf30</td>\n",
       "      <td>0</td>\n",
       "      <td>0.111</td>\n",
       "      <td>79</td>\n",
       "    </tr>\n",
       "    <tr>\n",
       "      <th>3557894</th>\n",
       "      <td>97364d4199bf30</td>\n",
       "      <td>0</td>\n",
       "      <td>0.111</td>\n",
       "      <td>80</td>\n",
       "    </tr>\n",
       "    <tr>\n",
       "      <th>2876513</th>\n",
       "      <td>97364d4199bf30</td>\n",
       "      <td>0</td>\n",
       "      <td>0.111</td>\n",
       "      <td>81</td>\n",
       "    </tr>\n",
       "    <tr>\n",
       "      <th>2368895</th>\n",
       "      <td>97364d4199bf30</td>\n",
       "      <td>0</td>\n",
       "      <td>0.111</td>\n",
       "      <td>82</td>\n",
       "    </tr>\n",
       "    <tr>\n",
       "      <th>2043479</th>\n",
       "      <td>97364d4199bf30</td>\n",
       "      <td>0</td>\n",
       "      <td>0.111</td>\n",
       "      <td>83</td>\n",
       "    </tr>\n",
       "    <tr>\n",
       "      <th>2850875</th>\n",
       "      <td>dc8f83946f97a9</td>\n",
       "      <td>0</td>\n",
       "      <td>0.148</td>\n",
       "      <td>75</td>\n",
       "    </tr>\n",
       "    <tr>\n",
       "      <th>3996954</th>\n",
       "      <td>dc8f83946f97a9</td>\n",
       "      <td>0</td>\n",
       "      <td>0.148</td>\n",
       "      <td>76</td>\n",
       "    </tr>\n",
       "    <tr>\n",
       "      <th>1136390</th>\n",
       "      <td>dc8f83946f97a9</td>\n",
       "      <td>0</td>\n",
       "      <td>0.148</td>\n",
       "      <td>77</td>\n",
       "    </tr>\n",
       "    <tr>\n",
       "      <th>90709</th>\n",
       "      <td>909fe185a8cdec</td>\n",
       "      <td>1</td>\n",
       "      <td>0.185</td>\n",
       "      <td>34</td>\n",
       "    </tr>\n",
       "    <tr>\n",
       "      <th>3924168</th>\n",
       "      <td>909fe185a8cdec</td>\n",
       "      <td>1</td>\n",
       "      <td>0.185</td>\n",
       "      <td>35</td>\n",
       "    </tr>\n",
       "    <tr>\n",
       "      <th>1847687</th>\n",
       "      <td>909fe185a8cdec</td>\n",
       "      <td>0</td>\n",
       "      <td>0.185</td>\n",
       "      <td>71</td>\n",
       "    </tr>\n",
       "    <tr>\n",
       "      <th>2841348</th>\n",
       "      <td>909fe185a8cdec</td>\n",
       "      <td>0</td>\n",
       "      <td>0.185</td>\n",
       "      <td>72</td>\n",
       "    </tr>\n",
       "    <tr>\n",
       "      <th>485219</th>\n",
       "      <td>909fe185a8cdec</td>\n",
       "      <td>0</td>\n",
       "      <td>0.185</td>\n",
       "      <td>73</td>\n",
       "    </tr>\n",
       "    <tr>\n",
       "      <th>2082031</th>\n",
       "      <td>909fe185a8cdec</td>\n",
       "      <td>0</td>\n",
       "      <td>0.185</td>\n",
       "      <td>74</td>\n",
       "    </tr>\n",
       "    <tr>\n",
       "      <th>3573456</th>\n",
       "      <td>e84bd83822d783</td>\n",
       "      <td>4</td>\n",
       "      <td>0.222</td>\n",
       "      <td>10</td>\n",
       "    </tr>\n",
       "    <tr>\n",
       "      <th>1535038</th>\n",
       "      <td>e84bd83822d783</td>\n",
       "      <td>2</td>\n",
       "      <td>0.222</td>\n",
       "      <td>22</td>\n",
       "    </tr>\n",
       "    <tr>\n",
       "      <th>3372754</th>\n",
       "      <td>e84bd83822d783</td>\n",
       "      <td>0</td>\n",
       "      <td>0.222</td>\n",
       "      <td>69</td>\n",
       "    </tr>\n",
       "    <tr>\n",
       "      <th>...</th>\n",
       "      <td>...</td>\n",
       "      <td>...</td>\n",
       "      <td>...</td>\n",
       "      <td>...</td>\n",
       "    </tr>\n",
       "    <tr>\n",
       "      <th>7931</th>\n",
       "      <td>7bd08592bb25e2</td>\n",
       "      <td>0</td>\n",
       "      <td>0.667</td>\n",
       "      <td>41</td>\n",
       "    </tr>\n",
       "    <tr>\n",
       "      <th>3488471</th>\n",
       "      <td>7bd08592bb25e2</td>\n",
       "      <td>0</td>\n",
       "      <td>0.667</td>\n",
       "      <td>42</td>\n",
       "    </tr>\n",
       "    <tr>\n",
       "      <th>3253562</th>\n",
       "      <td>7bd08592bb25e2</td>\n",
       "      <td>0</td>\n",
       "      <td>0.667</td>\n",
       "      <td>43</td>\n",
       "    </tr>\n",
       "    <tr>\n",
       "      <th>1333814</th>\n",
       "      <td>7bd08592bb25e2</td>\n",
       "      <td>0</td>\n",
       "      <td>0.667</td>\n",
       "      <td>44</td>\n",
       "    </tr>\n",
       "    <tr>\n",
       "      <th>1330902</th>\n",
       "      <td>6c44ef4381fe8d</td>\n",
       "      <td>6</td>\n",
       "      <td>0.704</td>\n",
       "      <td>4</td>\n",
       "    </tr>\n",
       "    <tr>\n",
       "      <th>3832684</th>\n",
       "      <td>6c44ef4381fe8d</td>\n",
       "      <td>2</td>\n",
       "      <td>0.704</td>\n",
       "      <td>17</td>\n",
       "    </tr>\n",
       "    <tr>\n",
       "      <th>4124552</th>\n",
       "      <td>6c44ef4381fe8d</td>\n",
       "      <td>2</td>\n",
       "      <td>0.704</td>\n",
       "      <td>18</td>\n",
       "    </tr>\n",
       "    <tr>\n",
       "      <th>1159129</th>\n",
       "      <td>b947dfc5cf2d02</td>\n",
       "      <td>1</td>\n",
       "      <td>0.741</td>\n",
       "      <td>28</td>\n",
       "    </tr>\n",
       "    <tr>\n",
       "      <th>518453</th>\n",
       "      <td>b947dfc5cf2d02</td>\n",
       "      <td>0</td>\n",
       "      <td>0.741</td>\n",
       "      <td>39</td>\n",
       "    </tr>\n",
       "    <tr>\n",
       "      <th>2785098</th>\n",
       "      <td>6620b219ed2ee2</td>\n",
       "      <td>2</td>\n",
       "      <td>0.778</td>\n",
       "      <td>15</td>\n",
       "    </tr>\n",
       "    <tr>\n",
       "      <th>3737125</th>\n",
       "      <td>6620b219ed2ee2</td>\n",
       "      <td>2</td>\n",
       "      <td>0.778</td>\n",
       "      <td>16</td>\n",
       "    </tr>\n",
       "    <tr>\n",
       "      <th>2251382</th>\n",
       "      <td>6620b219ed2ee2</td>\n",
       "      <td>0</td>\n",
       "      <td>0.778</td>\n",
       "      <td>37</td>\n",
       "    </tr>\n",
       "    <tr>\n",
       "      <th>1185914</th>\n",
       "      <td>6620b219ed2ee2</td>\n",
       "      <td>0</td>\n",
       "      <td>0.778</td>\n",
       "      <td>38</td>\n",
       "    </tr>\n",
       "    <tr>\n",
       "      <th>1311431</th>\n",
       "      <td>bf80d0d49c12dc</td>\n",
       "      <td>2</td>\n",
       "      <td>0.815</td>\n",
       "      <td>14</td>\n",
       "    </tr>\n",
       "    <tr>\n",
       "      <th>116020</th>\n",
       "      <td>a572193b2af137</td>\n",
       "      <td>7</td>\n",
       "      <td>0.852</td>\n",
       "      <td>1</td>\n",
       "    </tr>\n",
       "    <tr>\n",
       "      <th>2929488</th>\n",
       "      <td>a572193b2af137</td>\n",
       "      <td>4</td>\n",
       "      <td>0.852</td>\n",
       "      <td>9</td>\n",
       "    </tr>\n",
       "    <tr>\n",
       "      <th>799262</th>\n",
       "      <td>a572193b2af137</td>\n",
       "      <td>1</td>\n",
       "      <td>0.852</td>\n",
       "      <td>27</td>\n",
       "    </tr>\n",
       "    <tr>\n",
       "      <th>2313767</th>\n",
       "      <td>c0f2e306380d3c</td>\n",
       "      <td>2</td>\n",
       "      <td>0.889</td>\n",
       "      <td>13</td>\n",
       "    </tr>\n",
       "    <tr>\n",
       "      <th>4367691</th>\n",
       "      <td>c0f2e306380d3c</td>\n",
       "      <td>1</td>\n",
       "      <td>0.889</td>\n",
       "      <td>25</td>\n",
       "    </tr>\n",
       "    <tr>\n",
       "      <th>3852802</th>\n",
       "      <td>c0f2e306380d3c</td>\n",
       "      <td>1</td>\n",
       "      <td>0.889</td>\n",
       "      <td>26</td>\n",
       "    </tr>\n",
       "    <tr>\n",
       "      <th>2782793</th>\n",
       "      <td>c0f2e306380d3c</td>\n",
       "      <td>0</td>\n",
       "      <td>0.889</td>\n",
       "      <td>36</td>\n",
       "    </tr>\n",
       "    <tr>\n",
       "      <th>869835</th>\n",
       "      <td>e3c34468e32d8c</td>\n",
       "      <td>4</td>\n",
       "      <td>0.926</td>\n",
       "      <td>7</td>\n",
       "    </tr>\n",
       "    <tr>\n",
       "      <th>2437212</th>\n",
       "      <td>e3c34468e32d8c</td>\n",
       "      <td>4</td>\n",
       "      <td>0.926</td>\n",
       "      <td>8</td>\n",
       "    </tr>\n",
       "    <tr>\n",
       "      <th>2858339</th>\n",
       "      <td>e3c34468e32d8c</td>\n",
       "      <td>3</td>\n",
       "      <td>0.926</td>\n",
       "      <td>11</td>\n",
       "    </tr>\n",
       "    <tr>\n",
       "      <th>2075379</th>\n",
       "      <td>ca058240046b4c</td>\n",
       "      <td>6</td>\n",
       "      <td>0.963</td>\n",
       "      <td>2</td>\n",
       "    </tr>\n",
       "    <tr>\n",
       "      <th>1303528</th>\n",
       "      <td>ca058240046b4c</td>\n",
       "      <td>6</td>\n",
       "      <td>0.963</td>\n",
       "      <td>3</td>\n",
       "    </tr>\n",
       "    <tr>\n",
       "      <th>3637258</th>\n",
       "      <td>ca058240046b4c</td>\n",
       "      <td>5</td>\n",
       "      <td>0.963</td>\n",
       "      <td>6</td>\n",
       "    </tr>\n",
       "    <tr>\n",
       "      <th>2351120</th>\n",
       "      <td>ca058240046b4c</td>\n",
       "      <td>1</td>\n",
       "      <td>0.963</td>\n",
       "      <td>24</td>\n",
       "    </tr>\n",
       "    <tr>\n",
       "      <th>2848198</th>\n",
       "      <td>4d1bbbc19b9084</td>\n",
       "      <td>5</td>\n",
       "      <td>1.000</td>\n",
       "      <td>5</td>\n",
       "    </tr>\n",
       "    <tr>\n",
       "      <th>20251</th>\n",
       "      <td>4d1bbbc19b9084</td>\n",
       "      <td>1</td>\n",
       "      <td>1.000</td>\n",
       "      <td>23</td>\n",
       "    </tr>\n",
       "  </tbody>\n",
       "</table>\n",
       "<p>95 rows × 4 columns</p>\n",
       "</div>"
      ],
      "text/plain": [
       "                groupId  kills  winPlacePerc  killPlace\n",
       "3895898  3a6addfa0df938      0         0.000         94\n",
       "3599150  3a6addfa0df938      0         0.000         95\n",
       "4367296  236ab9e9c081b9      0         0.037         88\n",
       "4131025  236ab9e9c081b9      0         0.037         89\n",
       "3088817  236ab9e9c081b9      0         0.037         90\n",
       "2290792  236ab9e9c081b9      0         0.037         91\n",
       "1998699  236ab9e9c081b9      0         0.037         92\n",
       "1425950  236ab9e9c081b9      0         0.037         93\n",
       "329124   e8ff1c0fe7f6aa      0         0.074         84\n",
       "729840   e8ff1c0fe7f6aa      0         0.074         85\n",
       "609078   e8ff1c0fe7f6aa      0         0.074         86\n",
       "3961031  e8ff1c0fe7f6aa      0         0.074         87\n",
       "134000   97364d4199bf30      0         0.111         78\n",
       "4064127  97364d4199bf30      0         0.111         79\n",
       "3557894  97364d4199bf30      0         0.111         80\n",
       "2876513  97364d4199bf30      0         0.111         81\n",
       "2368895  97364d4199bf30      0         0.111         82\n",
       "2043479  97364d4199bf30      0         0.111         83\n",
       "2850875  dc8f83946f97a9      0         0.148         75\n",
       "3996954  dc8f83946f97a9      0         0.148         76\n",
       "1136390  dc8f83946f97a9      0         0.148         77\n",
       "90709    909fe185a8cdec      1         0.185         34\n",
       "3924168  909fe185a8cdec      1         0.185         35\n",
       "1847687  909fe185a8cdec      0         0.185         71\n",
       "2841348  909fe185a8cdec      0         0.185         72\n",
       "485219   909fe185a8cdec      0         0.185         73\n",
       "2082031  909fe185a8cdec      0         0.185         74\n",
       "3573456  e84bd83822d783      4         0.222         10\n",
       "1535038  e84bd83822d783      2         0.222         22\n",
       "3372754  e84bd83822d783      0         0.222         69\n",
       "...                 ...    ...           ...        ...\n",
       "7931     7bd08592bb25e2      0         0.667         41\n",
       "3488471  7bd08592bb25e2      0         0.667         42\n",
       "3253562  7bd08592bb25e2      0         0.667         43\n",
       "1333814  7bd08592bb25e2      0         0.667         44\n",
       "1330902  6c44ef4381fe8d      6         0.704          4\n",
       "3832684  6c44ef4381fe8d      2         0.704         17\n",
       "4124552  6c44ef4381fe8d      2         0.704         18\n",
       "1159129  b947dfc5cf2d02      1         0.741         28\n",
       "518453   b947dfc5cf2d02      0         0.741         39\n",
       "2785098  6620b219ed2ee2      2         0.778         15\n",
       "3737125  6620b219ed2ee2      2         0.778         16\n",
       "2251382  6620b219ed2ee2      0         0.778         37\n",
       "1185914  6620b219ed2ee2      0         0.778         38\n",
       "1311431  bf80d0d49c12dc      2         0.815         14\n",
       "116020   a572193b2af137      7         0.852          1\n",
       "2929488  a572193b2af137      4         0.852          9\n",
       "799262   a572193b2af137      1         0.852         27\n",
       "2313767  c0f2e306380d3c      2         0.889         13\n",
       "4367691  c0f2e306380d3c      1         0.889         25\n",
       "3852802  c0f2e306380d3c      1         0.889         26\n",
       "2782793  c0f2e306380d3c      0         0.889         36\n",
       "869835   e3c34468e32d8c      4         0.926          7\n",
       "2437212  e3c34468e32d8c      4         0.926          8\n",
       "2858339  e3c34468e32d8c      3         0.926         11\n",
       "2075379  ca058240046b4c      6         0.963          2\n",
       "1303528  ca058240046b4c      6         0.963          3\n",
       "3637258  ca058240046b4c      5         0.963          6\n",
       "2351120  ca058240046b4c      1         0.963         24\n",
       "2848198  4d1bbbc19b9084      5         1.000          5\n",
       "20251    4d1bbbc19b9084      1         1.000         23\n",
       "\n",
       "[95 rows x 4 columns]"
      ]
     },
     "execution_count": 25,
     "metadata": {},
     "output_type": "execute_result"
    }
   ],
   "source": [
    "''' \n",
    "important \n",
    "'''\n",
    "subMatch = train[train['matchId'] == train['matchId'].min()].sort_values(['winPlacePerc','killPlace'])\n",
    "cols = ['groupId','kills','winPlacePerc','killPlace']\n",
    "subMatch[cols]"
   ]
  },
  {
   "cell_type": "markdown",
   "metadata": {
    "_uuid": "fd774f711f8be9d9734fff0157eda3a7d9c0347d"
   },
   "source": [
    "## kills"
   ]
  },
  {
   "cell_type": "code",
   "execution_count": 26,
   "metadata": {
    "_kg_hide-input": true,
    "_uuid": "f32040cd1566907e961c8e3d1633c63b6931c79c"
   },
   "outputs": [
    {
     "data": {
      "text/plain": [
       "<matplotlib.axes._subplots.AxesSubplot at 0x1a1f626c18>"
      ]
     },
     "execution_count": 26,
     "metadata": {},
     "output_type": "execute_result"
    },
    {
     "data": {
      "image/png": "[encoded data removed]",
      "text/plain": [
       "<Figure size 1152x288 with 2 Axes>"
      ]
     },
     "metadata": {
      "needs_background": "light"
     },
     "output_type": "display_data"
    }
   ],
   "source": [
    "fig, ax = plt.subplots(1, 2, figsize=(16, 4))\n",
    "\n",
    "col = 'kills'\n",
    "sub = train[['winPlacePerc',col]].copy()\n",
    "sub[col] = pd.cut(sub[col], [5*x for x in range(0,20)], right=False)\n",
    "sub.groupby(col).mean()['winPlacePerc'].plot.bar(ax=ax[0])\n",
    "train[train['kills'] < 20][col].hist(bins=20, ax=ax[1])"
   ]
  },
  {
   "cell_type": "markdown",
   "metadata": {
    "_uuid": "e48300aa31d99c0e10a0a6c45059d2ad4e404782"
   },
   "source": [
    "- kills summary of match"
   ]
  },
  {
   "cell_type": "code",
   "execution_count": 27,
   "metadata": {
    "_kg_hide-input": true,
    "_uuid": "ae41a9139949cf721bea7322ed0b9dec542197a8"
   },
   "outputs": [
    {
     "data": {
      "text/html": [
       "<div>\n",
       "<style scoped>\n",
       "    .dataframe tbody tr th:only-of-type {\n",
       "        vertical-align: middle;\n",
       "    }\n",
       "\n",
       "    .dataframe tbody tr th {\n",
       "        vertical-align: top;\n",
       "    }\n",
       "\n",
       "    .dataframe thead th {\n",
       "        text-align: right;\n",
       "    }\n",
       "</style>\n",
       "<table border=\"1\" class=\"dataframe\">\n",
       "  <thead>\n",
       "    <tr style=\"text-align: right;\">\n",
       "      <th></th>\n",
       "      <th>count</th>\n",
       "      <th>mean</th>\n",
       "      <th>std</th>\n",
       "      <th>min</th>\n",
       "      <th>25%</th>\n",
       "      <th>50%</th>\n",
       "      <th>75%</th>\n",
       "      <th>max</th>\n",
       "    </tr>\n",
       "  </thead>\n",
       "  <tbody>\n",
       "    <tr>\n",
       "      <th>solo</th>\n",
       "      <td>8,094.000</td>\n",
       "      <td>83.421</td>\n",
       "      <td>27.592</td>\n",
       "      <td>0.000</td>\n",
       "      <td>84.000</td>\n",
       "      <td>89.000</td>\n",
       "      <td>92.000</td>\n",
       "      <td>786.000</td>\n",
       "    </tr>\n",
       "    <tr>\n",
       "      <th>team</th>\n",
       "      <td>39,870.000</td>\n",
       "      <td>86.212</td>\n",
       "      <td>17.269</td>\n",
       "      <td>0.000</td>\n",
       "      <td>83.000</td>\n",
       "      <td>87.000</td>\n",
       "      <td>90.000</td>\n",
       "      <td>687.000</td>\n",
       "    </tr>\n",
       "  </tbody>\n",
       "</table>\n",
       "</div>"
      ],
      "text/plain": [
       "          count   mean    std   min    25%    50%    75%     max\n",
       "solo  8,094.000 83.421 27.592 0.000 84.000 89.000 92.000 786.000\n",
       "team 39,870.000 86.212 17.269 0.000 83.000 87.000 90.000 687.000"
      ]
     },
     "execution_count": 27,
     "metadata": {},
     "output_type": "execute_result"
    }
   ],
   "source": [
    "sub = train['matchType'].str.contains('solo')\n",
    "pd.concat([train.loc[sub].groupby('matchId')['kills'].sum().describe(),\n",
    "         train.loc[~sub].groupby('matchId')['kills'].sum().describe()], keys=['solo','team'], axis=1).T"
   ]
  },
  {
   "cell_type": "markdown",
   "metadata": {
    "_uuid": "32f059cc20c3af30993ff8f010d3cffca70e5003"
   },
   "source": [
    "## killStreaks, DBNOs"
   ]
  },
  {
   "cell_type": "code",
   "execution_count": 28,
   "metadata": {
    "_kg_hide-input": true,
    "_uuid": "5e24cf0eba5ffcdd994af579819367ecfc9b01ca"
   },
   "outputs": [
    {
     "data": {
      "image/png": "[encoded data removed]",
      "text/plain": [
       "<Figure size 1152x576 with 4 Axes>"
      ]
     },
     "metadata": {
      "needs_background": "light"
     },
     "output_type": "display_data"
    }
   ],
   "source": [
    "fig, ax = plt.subplots(2, 2, figsize=(16, 8))\n",
    "\n",
    "cols = ['killStreaks','DBNOs']\n",
    "for col, ax in zip(cols, ax):\n",
    "    sub = train[['winPlacePerc',col]].copy()\n",
    "    sub[col] = pd.cut(sub[col], 6)\n",
    "    sub.groupby(col).mean()['winPlacePerc'].plot.bar(ax=ax[0])\n",
    "    train[col].hist(bins=20, ax=ax[1])"
   ]
  },
  {
   "cell_type": "markdown",
   "metadata": {
    "_uuid": "281bcfb733aa487dc295fd6c7ae77010935d4ebb"
   },
   "source": [
    "## headshotKills, roadKills, teamKills"
   ]
  },
  {
   "cell_type": "code",
   "execution_count": 29,
   "metadata": {
    "_kg_hide-input": true,
    "_uuid": "a8ec84b911841c12a022ee4ba7cbfd4bfdc53d63",
    "scrolled": false
   },
   "outputs": [
    {
     "data": {
      "image/png": "[encoded data removed]",
      "text/plain": [
       "<Figure size 1152x864 with 6 Axes>"
      ]
     },
     "metadata": {
      "needs_background": "light"
     },
     "output_type": "display_data"
    }
   ],
   "source": [
    "fig, ax = plt.subplots(3, 2, figsize=(16, 12))\n",
    "\n",
    "cols = ['headshotKills','roadKills','teamKills']\n",
    "for col, ax in zip(cols, ax):\n",
    "    sub = train[['winPlacePerc',col]].copy()\n",
    "    sub.loc[sub[col] >= 5, col] = '5+'\n",
    "    sub[col] = sub[col].astype(str)\n",
    "    sub.groupby(col).mean()['winPlacePerc'].plot.bar(ax=ax[0])\n",
    "    train[col].hist(bins=20, ax=ax[1])"
   ]
  },
  {
   "cell_type": "markdown",
   "metadata": {
    "_uuid": "905140da6a58f2025da6ad4c1ba5a87b45843770"
   },
   "source": [
    "## assists"
   ]
  },
  {
   "cell_type": "code",
   "execution_count": 30,
   "metadata": {
    "_kg_hide-input": true,
    "_uuid": "1be1f6336f7682d452c6dc9e995c68d194f7d2d0"
   },
   "outputs": [
    {
     "data": {
      "text/plain": [
       "<matplotlib.axes._subplots.AxesSubplot at 0x1a37d18748>"
      ]
     },
     "execution_count": 30,
     "metadata": {},
     "output_type": "execute_result"
    },
    {
     "data": {
      "image/png": "[encoded data removed]",
      "text/plain": [
       "<Figure size 1152x288 with 2 Axes>"
      ]
     },
     "metadata": {
      "needs_background": "light"
     },
     "output_type": "display_data"
    }
   ],
   "source": [
    "fig, ax = plt.subplots(1, 2, figsize=(16, 4))\n",
    "\n",
    "col = 'assists'\n",
    "sub = train[['winPlacePerc',col]].copy()\n",
    "sub.loc[sub[col] >= 5, col] = '5+'  \n",
    "sub[col] = sub[col].astype(str)\n",
    "sub.groupby(col).mean()['winPlacePerc'].plot.bar(ax=ax[0])\n",
    "train[col].hist(bins=20, ax=ax[1])"
   ]
  },
  {
   "cell_type": "code",
   "execution_count": 31,
   "metadata": {
    "_kg_hide-input": true,
    "_uuid": "d3513b32bbf28a9c229db3ff70d75042017acb80"
   },
   "outputs": [
    {
     "data": {
      "text/html": [
       "<div>\n",
       "<style scoped>\n",
       "    .dataframe tbody tr th:only-of-type {\n",
       "        vertical-align: middle;\n",
       "    }\n",
       "\n",
       "    .dataframe tbody tr th {\n",
       "        vertical-align: top;\n",
       "    }\n",
       "\n",
       "    .dataframe thead th {\n",
       "        text-align: right;\n",
       "    }\n",
       "</style>\n",
       "<table border=\"1\" class=\"dataframe\">\n",
       "  <thead>\n",
       "    <tr style=\"text-align: right;\">\n",
       "      <th></th>\n",
       "      <th>count</th>\n",
       "      <th>mean</th>\n",
       "      <th>std</th>\n",
       "      <th>min</th>\n",
       "      <th>25%</th>\n",
       "      <th>50%</th>\n",
       "      <th>75%</th>\n",
       "      <th>max</th>\n",
       "    </tr>\n",
       "  </thead>\n",
       "  <tbody>\n",
       "    <tr>\n",
       "      <th>solo</th>\n",
       "      <td>720,712.000</td>\n",
       "      <td>0.062</td>\n",
       "      <td>0.298</td>\n",
       "      <td>0.000</td>\n",
       "      <td>0.000</td>\n",
       "      <td>0.000</td>\n",
       "      <td>0.000</td>\n",
       "      <td>22.000</td>\n",
       "    </tr>\n",
       "    <tr>\n",
       "      <th>team</th>\n",
       "      <td>3,726,253.000</td>\n",
       "      <td>0.267</td>\n",
       "      <td>0.624</td>\n",
       "      <td>0.000</td>\n",
       "      <td>0.000</td>\n",
       "      <td>0.000</td>\n",
       "      <td>0.000</td>\n",
       "      <td>17.000</td>\n",
       "    </tr>\n",
       "  </tbody>\n",
       "</table>\n",
       "</div>"
      ],
      "text/plain": [
       "             count  mean   std   min   25%   50%   75%    max\n",
       "solo   720,712.000 0.062 0.298 0.000 0.000 0.000 0.000 22.000\n",
       "team 3,726,253.000 0.267 0.624 0.000 0.000 0.000 0.000 17.000"
      ]
     },
     "execution_count": 31,
     "metadata": {},
     "output_type": "execute_result"
    }
   ],
   "source": [
    "pd.concat([train[train['matchType'] == 'solo'].describe()['assists'],\n",
    "           train[train['matchType'] != 'solo'].describe()['assists']],\n",
    "          keys=['solo','team'], axis=1).T"
   ]
  },
  {
   "cell_type": "markdown",
   "metadata": {
    "_uuid": "93680bf02b122dc7365842e860a4018d3d0c1986"
   },
   "source": [
    "## longestKill"
   ]
  },
  {
   "cell_type": "code",
   "execution_count": 32,
   "metadata": {
    "_kg_hide-input": true,
    "_uuid": "92e38545e3a2c16ec5d6cedd0a365f4c524dafc0"
   },
   "outputs": [
    {
     "data": {
      "text/plain": [
       "<matplotlib.axes._subplots.AxesSubplot at 0x1a3c022f60>"
      ]
     },
     "execution_count": 32,
     "metadata": {},
     "output_type": "execute_result"
    },
    {
     "data": {
      "image/png": "[encoded data removed]",
      "text/plain": [
       "<Figure size 1152x288 with 2 Axes>"
      ]
     },
     "metadata": {
      "needs_background": "light"
     },
     "output_type": "display_data"
    }
   ],
   "source": [
    "fig, ax = plt.subplots(1, 2, figsize=(16, 4))\n",
    "\n",
    "col = 'longestKill'\n",
    "sub = train[['winPlacePerc',col]].copy()\n",
    "sub[col] = pd.cut(sub[col], 6)\n",
    "sub.groupby(col).mean()['winPlacePerc'].plot.bar(ax=ax[0])\n",
    "train[col].hist(bins=20, ax=ax[1])"
   ]
  },
  {
   "cell_type": "markdown",
   "metadata": {
    "_uuid": "39fe90f8a4ea70c69ed5c1b4244c9d60a3b3a67a"
   },
   "source": [
    "## damageDealt"
   ]
  },
  {
   "cell_type": "code",
   "execution_count": 33,
   "metadata": {
    "_kg_hide-input": true,
    "_uuid": "983db28e531a4b0957ff5a8669ae9decdf88d937"
   },
   "outputs": [
    {
     "data": {
      "text/plain": [
       "<matplotlib.axes._subplots.AxesSubplot at 0x1a3bc65390>"
      ]
     },
     "execution_count": 33,
     "metadata": {},
     "output_type": "execute_result"
    },
    {
     "data": {
      "image/png": "[encoded data removed]",
      "text/plain": [
       "<Figure size 1152x288 with 2 Axes>"
      ]
     },
     "metadata": {
      "needs_background": "light"
     },
     "output_type": "display_data"
    }
   ],
   "source": [
    "fig, ax = plt.subplots(1, 2, figsize=(16, 4))\n",
    "\n",
    "col = 'damageDealt'\n",
    "sub = train[['winPlacePerc',col]].copy()\n",
    "sub[col] = pd.cut(sub[col], 6)\n",
    "sub.groupby(col).mean()['winPlacePerc'].plot.bar(ax=ax[0])\n",
    "train[col].hist(bins=20, ax=ax[1])"
   ]
  },
  {
   "cell_type": "markdown",
   "metadata": {
    "_uuid": "4dd4917df4b52a3c32f7c18834f30abc666992ff"
   },
   "source": [
    "- what this mean?"
   ]
  },
  {
   "cell_type": "code",
   "execution_count": 34,
   "metadata": {
    "_kg_hide-input": true,
    "_uuid": "77c0061120e28f0436f15213f445d6938c3460b2"
   },
   "outputs": [
    {
     "data": {
      "text/html": [
       "<div>\n",
       "<style scoped>\n",
       "    .dataframe tbody tr th:only-of-type {\n",
       "        vertical-align: middle;\n",
       "    }\n",
       "\n",
       "    .dataframe tbody tr th {\n",
       "        vertical-align: top;\n",
       "    }\n",
       "\n",
       "    .dataframe thead th {\n",
       "        text-align: right;\n",
       "    }\n",
       "</style>\n",
       "<table border=\"1\" class=\"dataframe\">\n",
       "  <thead>\n",
       "    <tr style=\"text-align: right;\">\n",
       "      <th></th>\n",
       "      <th>damageDealt</th>\n",
       "      <th>kills</th>\n",
       "      <th>DBNOs</th>\n",
       "      <th>headshotKills</th>\n",
       "      <th>roadKills</th>\n",
       "      <th>teamKills</th>\n",
       "    </tr>\n",
       "  </thead>\n",
       "  <tbody>\n",
       "    <tr>\n",
       "      <th>150</th>\n",
       "      <td>0.000</td>\n",
       "      <td>0</td>\n",
       "      <td>1</td>\n",
       "      <td>0</td>\n",
       "      <td>0</td>\n",
       "      <td>1</td>\n",
       "    </tr>\n",
       "    <tr>\n",
       "      <th>589</th>\n",
       "      <td>0.000</td>\n",
       "      <td>0</td>\n",
       "      <td>1</td>\n",
       "      <td>0</td>\n",
       "      <td>0</td>\n",
       "      <td>0</td>\n",
       "    </tr>\n",
       "    <tr>\n",
       "      <th>707</th>\n",
       "      <td>0.000</td>\n",
       "      <td>0</td>\n",
       "      <td>1</td>\n",
       "      <td>0</td>\n",
       "      <td>0</td>\n",
       "      <td>0</td>\n",
       "    </tr>\n",
       "    <tr>\n",
       "      <th>892</th>\n",
       "      <td>0.000</td>\n",
       "      <td>1</td>\n",
       "      <td>0</td>\n",
       "      <td>0</td>\n",
       "      <td>0</td>\n",
       "      <td>0</td>\n",
       "    </tr>\n",
       "    <tr>\n",
       "      <th>942</th>\n",
       "      <td>0.000</td>\n",
       "      <td>1</td>\n",
       "      <td>0</td>\n",
       "      <td>0</td>\n",
       "      <td>0</td>\n",
       "      <td>0</td>\n",
       "    </tr>\n",
       "    <tr>\n",
       "      <th>949</th>\n",
       "      <td>0.000</td>\n",
       "      <td>0</td>\n",
       "      <td>1</td>\n",
       "      <td>0</td>\n",
       "      <td>0</td>\n",
       "      <td>2</td>\n",
       "    </tr>\n",
       "    <tr>\n",
       "      <th>1011</th>\n",
       "      <td>0.000</td>\n",
       "      <td>0</td>\n",
       "      <td>1</td>\n",
       "      <td>0</td>\n",
       "      <td>0</td>\n",
       "      <td>0</td>\n",
       "    </tr>\n",
       "    <tr>\n",
       "      <th>1468</th>\n",
       "      <td>0.000</td>\n",
       "      <td>0</td>\n",
       "      <td>2</td>\n",
       "      <td>0</td>\n",
       "      <td>0</td>\n",
       "      <td>1</td>\n",
       "    </tr>\n",
       "    <tr>\n",
       "      <th>1625</th>\n",
       "      <td>0.000</td>\n",
       "      <td>0</td>\n",
       "      <td>1</td>\n",
       "      <td>0</td>\n",
       "      <td>0</td>\n",
       "      <td>1</td>\n",
       "    </tr>\n",
       "    <tr>\n",
       "      <th>2111</th>\n",
       "      <td>0.000</td>\n",
       "      <td>0</td>\n",
       "      <td>1</td>\n",
       "      <td>0</td>\n",
       "      <td>0</td>\n",
       "      <td>1</td>\n",
       "    </tr>\n",
       "    <tr>\n",
       "      <th>2356</th>\n",
       "      <td>0.000</td>\n",
       "      <td>0</td>\n",
       "      <td>1</td>\n",
       "      <td>0</td>\n",
       "      <td>0</td>\n",
       "      <td>1</td>\n",
       "    </tr>\n",
       "    <tr>\n",
       "      <th>2411</th>\n",
       "      <td>0.000</td>\n",
       "      <td>0</td>\n",
       "      <td>1</td>\n",
       "      <td>0</td>\n",
       "      <td>0</td>\n",
       "      <td>1</td>\n",
       "    </tr>\n",
       "    <tr>\n",
       "      <th>2448</th>\n",
       "      <td>0.000</td>\n",
       "      <td>1</td>\n",
       "      <td>0</td>\n",
       "      <td>0</td>\n",
       "      <td>0</td>\n",
       "      <td>1</td>\n",
       "    </tr>\n",
       "    <tr>\n",
       "      <th>2822</th>\n",
       "      <td>0.000</td>\n",
       "      <td>0</td>\n",
       "      <td>1</td>\n",
       "      <td>0</td>\n",
       "      <td>0</td>\n",
       "      <td>0</td>\n",
       "    </tr>\n",
       "    <tr>\n",
       "      <th>2837</th>\n",
       "      <td>0.000</td>\n",
       "      <td>0</td>\n",
       "      <td>1</td>\n",
       "      <td>0</td>\n",
       "      <td>0</td>\n",
       "      <td>0</td>\n",
       "    </tr>\n",
       "    <tr>\n",
       "      <th>2849</th>\n",
       "      <td>0.000</td>\n",
       "      <td>0</td>\n",
       "      <td>1</td>\n",
       "      <td>0</td>\n",
       "      <td>0</td>\n",
       "      <td>2</td>\n",
       "    </tr>\n",
       "    <tr>\n",
       "      <th>2850</th>\n",
       "      <td>0.000</td>\n",
       "      <td>1</td>\n",
       "      <td>0</td>\n",
       "      <td>1</td>\n",
       "      <td>0</td>\n",
       "      <td>0</td>\n",
       "    </tr>\n",
       "    <tr>\n",
       "      <th>2984</th>\n",
       "      <td>0.000</td>\n",
       "      <td>0</td>\n",
       "      <td>1</td>\n",
       "      <td>0</td>\n",
       "      <td>0</td>\n",
       "      <td>0</td>\n",
       "    </tr>\n",
       "    <tr>\n",
       "      <th>3011</th>\n",
       "      <td>0.000</td>\n",
       "      <td>1</td>\n",
       "      <td>0</td>\n",
       "      <td>0</td>\n",
       "      <td>0</td>\n",
       "      <td>0</td>\n",
       "    </tr>\n",
       "    <tr>\n",
       "      <th>3042</th>\n",
       "      <td>0.000</td>\n",
       "      <td>0</td>\n",
       "      <td>1</td>\n",
       "      <td>0</td>\n",
       "      <td>0</td>\n",
       "      <td>1</td>\n",
       "    </tr>\n",
       "  </tbody>\n",
       "</table>\n",
       "</div>"
      ],
      "text/plain": [
       "      damageDealt  kills  DBNOs  headshotKills  roadKills  teamKills\n",
       "150         0.000      0      1              0          0          1\n",
       "589         0.000      0      1              0          0          0\n",
       "707         0.000      0      1              0          0          0\n",
       "892         0.000      1      0              0          0          0\n",
       "942         0.000      1      0              0          0          0\n",
       "949         0.000      0      1              0          0          2\n",
       "1011        0.000      0      1              0          0          0\n",
       "1468        0.000      0      2              0          0          1\n",
       "1625        0.000      0      1              0          0          1\n",
       "2111        0.000      0      1              0          0          1\n",
       "2356        0.000      0      1              0          0          1\n",
       "2411        0.000      0      1              0          0          1\n",
       "2448        0.000      1      0              0          0          1\n",
       "2822        0.000      0      1              0          0          0\n",
       "2837        0.000      0      1              0          0          0\n",
       "2849        0.000      0      1              0          0          2\n",
       "2850        0.000      1      0              1          0          0\n",
       "2984        0.000      0      1              0          0          0\n",
       "3011        0.000      1      0              0          0          0\n",
       "3042        0.000      0      1              0          0          1"
      ]
     },
     "execution_count": 34,
     "metadata": {},
     "output_type": "execute_result"
    }
   ],
   "source": [
    "train.query('damageDealt == 0 & (kills > 0 | DBNOs > 0)')[\n",
    "    ['damageDealt','kills','DBNOs','headshotKills','roadKills','teamKills']].head(20)"
   ]
  },
  {
   "cell_type": "markdown",
   "metadata": {
    "_uuid": "708d19f28c02cfecdbab1f7931b356b53a4c2f93"
   },
   "source": [
    "## walkDistance, rideDistance, swimDistance"
   ]
  },
  {
   "cell_type": "code",
   "execution_count": 35,
   "metadata": {
    "_kg_hide-input": true,
    "_uuid": "d98bfd64fcad40057d37c844b2e15227a3a1f533",
    "scrolled": false
   },
   "outputs": [
    {
     "data": {
      "image/png": "[encoded data removed]",
      "text/plain": [
       "<Figure size 1152x864 with 6 Axes>"
      ]
     },
     "metadata": {
      "needs_background": "light"
     },
     "output_type": "display_data"
    }
   ],
   "source": [
    "fig, ax = plt.subplots(3, 2, figsize=(16, 12))\n",
    "\n",
    "cols = ['walkDistance', 'rideDistance', 'swimDistance']\n",
    "for col, ax in zip(cols, ax):\n",
    "    sub = train[['winPlacePerc',col]].copy()\n",
    "    sub[col] = pd.cut(sub[col], 6)\n",
    "    sub.groupby(col).mean()['winPlacePerc'].plot.bar(ax=ax[0])\n",
    "    train[col].hist(bins=20, ax=ax[1])"
   ]
  },
  {
   "cell_type": "code",
   "execution_count": 36,
   "metadata": {
    "_uuid": "faf0a97a077763ea107632602f99032c732d1b24"
   },
   "outputs": [
    {
     "data": {
      "image/png": "[encoded data removed]",
      "text/plain": [
       "<Figure size 1152x216 with 3 Axes>"
      ]
     },
     "metadata": {
      "needs_background": "light"
     },
     "output_type": "display_data"
    }
   ],
   "source": [
    "sub = train[['walkDistance','rideDistance','swimDistance','winPlacePerc']].copy()\n",
    "walk = train['walkDistance']\n",
    "sub['walkDistanceBin'] = pd.cut(walk, [0, 0.001, walk.quantile(.25), walk.quantile(.5), walk.quantile(.75), 99999])\n",
    "sub['rideDistanceBin'] = (train['rideDistance'] > 0).astype(int)\n",
    "sub['swimDistanceBin'] = (train['swimDistance'] > 0).astype(int)\n",
    "\n",
    "fig, ax = plt.subplots(1, 3, figsize=(16, 3), sharey=True)\n",
    "sub.groupby('walkDistanceBin').mean()['winPlacePerc'].plot.bar(ax=ax[0])\n",
    "sub.groupby('rideDistanceBin').mean()['winPlacePerc'].plot.bar(ax=ax[1])\n",
    "sub.groupby('swimDistanceBin').mean()['winPlacePerc'].plot.bar(ax=ax[2])\n",
    "del sub, walk"
   ]
  },
  {
   "cell_type": "markdown",
   "metadata": {
    "_uuid": "3107e0712d5f220bcd2eb9586f11d3343e0a1afb"
   },
   "source": [
    "- zombie"
   ]
  },
  {
   "cell_type": "code",
   "execution_count": 37,
   "metadata": {
    "_kg_hide-input": true,
    "_uuid": "656276bccea729c3c9a3e20fc2589cd3d998e77e"
   },
   "outputs": [
    {
     "name": "stdout",
     "output_type": "stream",
     "text": [
      "count: 18154  winPlacePerc: 0.053\n"
     ]
    }
   ],
   "source": [
    "# zombie\n",
    "sub = train.query('walkDistance == 0 & kills == 0 & weaponsAcquired == 0 & \\'solo\\' in matchType')\n",
    "print('count:', len(sub), ' winPlacePerc:', round(sub['winPlacePerc'].mean(),3))"
   ]
  },
  {
   "cell_type": "markdown",
   "metadata": {
    "_uuid": "641cae9aee47772770a90d80b915a3623627073d"
   },
   "source": [
    "- cheater?"
   ]
  },
  {
   "cell_type": "code",
   "execution_count": 38,
   "metadata": {
    "_uuid": "54b83208f3a897dd176a86b8512abf33c23f98fe"
   },
   "outputs": [
    {
     "name": "stdout",
     "output_type": "stream",
     "text": [
      "kills > 3 & (headshotKills / kills) >= 0.8 \n",
      " count: 3859  winPlacePerc: 0.824\n"
     ]
    }
   ],
   "source": [
    "sq = 'kills > 3 & (headshotKills / kills) >= 0.8'\n",
    "sub = train.query(sq)\n",
    "print(sq, '\\n count:', len(sub), ' winPlacePerc:', round(sub['winPlacePerc'].mean(),3))"
   ]
  },
  {
   "cell_type": "markdown",
   "metadata": {
    "_uuid": "270e1c7daa3be61565bf14e5b319bcd85bee48ea"
   },
   "source": [
    "## killPoints, rankPoints, winPoints"
   ]
  },
  {
   "cell_type": "code",
   "execution_count": 39,
   "metadata": {
    "_kg_hide-input": true,
    "_uuid": "997850b697fc55534fbbb6516a200c6e5865ac29"
   },
   "outputs": [
    {
     "name": "stderr",
     "output_type": "stream",
     "text": [
      "'c' argument looks like a single numeric RGB or RGBA sequence, which should be avoided as value-mapping will have precedence in case its length matches with 'x' & 'y'.  Please use a 2-D array with a single row if you really want to specify the same RGB or RGBA value for all points.\n",
      "'c' argument looks like a single numeric RGB or RGBA sequence, which should be avoided as value-mapping will have precedence in case its length matches with 'x' & 'y'.  Please use a 2-D array with a single row if you really want to specify the same RGB or RGBA value for all points.\n",
      "'c' argument looks like a single numeric RGB or RGBA sequence, which should be avoided as value-mapping will have precedence in case its length matches with 'x' & 'y'.  Please use a 2-D array with a single row if you really want to specify the same RGB or RGBA value for all points.\n"
     ]
    },
    {
     "data": {
      "image/png": "[encoded data removed]",
      "text/plain": [
       "<Figure size 1152x288 with 3 Axes>"
      ]
     },
     "metadata": {
      "needs_background": "light"
     },
     "output_type": "display_data"
    }
   ],
   "source": [
    "fig, ax = plt.subplots(1, 3, figsize=(16, 4), sharey=True)\n",
    "\n",
    "cols = ['killPoints','rankPoints','winPoints']\n",
    "for col, ax in zip(cols, ax.ravel()): \n",
    "    train.plot.scatter(x=col, y='winPlacePerc', ax=ax)"
   ]
  },
  {
   "cell_type": "code",
   "execution_count": 40,
   "metadata": {
    "_kg_hide-input": true,
    "_uuid": "ac3eeb2c687d4cbb96d6bc4226ead457735e160e"
   },
   "outputs": [
    {
     "data": {
      "text/html": [
       "<div>\n",
       "<style scoped>\n",
       "    .dataframe tbody tr th:only-of-type {\n",
       "        vertical-align: middle;\n",
       "    }\n",
       "\n",
       "    .dataframe tbody tr th {\n",
       "        vertical-align: top;\n",
       "    }\n",
       "\n",
       "    .dataframe thead tr th {\n",
       "        text-align: left;\n",
       "    }\n",
       "\n",
       "    .dataframe thead tr:last-of-type th {\n",
       "        text-align: right;\n",
       "    }\n",
       "</style>\n",
       "<table border=\"1\" class=\"dataframe\">\n",
       "  <thead>\n",
       "    <tr>\n",
       "      <th></th>\n",
       "      <th colspan=\"2\" halign=\"left\">winPoints</th>\n",
       "      <th colspan=\"2\" halign=\"left\">killPoints</th>\n",
       "    </tr>\n",
       "    <tr>\n",
       "      <th>winPoints</th>\n",
       "      <th>p&lt;=0</th>\n",
       "      <th>p&gt;0</th>\n",
       "      <th>p&lt;=0</th>\n",
       "      <th>p&gt;0</th>\n",
       "    </tr>\n",
       "    <tr>\n",
       "      <th>rankPoints</th>\n",
       "      <th></th>\n",
       "      <th></th>\n",
       "      <th></th>\n",
       "      <th></th>\n",
       "    </tr>\n",
       "  </thead>\n",
       "  <tbody>\n",
       "    <tr>\n",
       "      <th>p&lt;=0</th>\n",
       "      <td>0</td>\n",
       "      <td>1791319</td>\n",
       "      <td>0</td>\n",
       "      <td>1791319</td>\n",
       "    </tr>\n",
       "    <tr>\n",
       "      <th>p&gt;0</th>\n",
       "      <td>2655646</td>\n",
       "      <td>0</td>\n",
       "      <td>2655646</td>\n",
       "      <td>0</td>\n",
       "    </tr>\n",
       "  </tbody>\n",
       "</table>\n",
       "</div>"
      ],
      "text/plain": [
       "           winPoints          killPoints         \n",
       "winPoints       p<=0      p>0       p<=0      p>0\n",
       "rankPoints                                       \n",
       "p<=0               0  1791319          0  1791319\n",
       "p>0          2655646        0    2655646        0"
      ]
     },
     "execution_count": 40,
     "metadata": {},
     "output_type": "execute_result"
    }
   ],
   "source": [
    "# rankPoint: being deprecated\n",
    "# killPoints,winPoints: If there is a value other than -1 in rankPoints, then any 0 should be treated as a “None”.\n",
    "sign = lambda x: 'p<=0' if x <= 0 else 'p>0'\n",
    "pd.concat([\n",
    "    pd.crosstab(train['rankPoints'].apply(sign), train['winPoints'].apply(sign), margins=False),\n",
    "    pd.crosstab(train['rankPoints'].apply(sign), train['killPoints'].apply(sign), margins=False)\n",
    "], keys=['winPoints','killPoints'], axis=1)"
   ]
  },
  {
   "cell_type": "markdown",
   "metadata": {
    "_uuid": "7c9024771402b09edb4dc991aefe8421576ba07d"
   },
   "source": [
    "## winPlacePerc"
   ]
  },
  {
   "cell_type": "code",
   "execution_count": 41,
   "metadata": {
    "_kg_hide-input": true,
    "_uuid": "7c3a22f6ca74dc93fefbe3400f393b491bfc92bd"
   },
   "outputs": [
    {
     "data": {
      "text/plain": [
       "count   4,446,965.000\n",
       "mean            0.473\n",
       "std             0.307\n",
       "min             0.000\n",
       "25%             0.200\n",
       "50%             0.458\n",
       "75%             0.741\n",
       "max             1.000\n",
       "Name: winPlacePerc, dtype: float64"
      ]
     },
     "execution_count": 41,
     "metadata": {},
     "output_type": "execute_result"
    }
   ],
   "source": [
    "train['winPlacePerc'].describe()"
   ]
  },
  {
   "cell_type": "code",
   "execution_count": 42,
   "metadata": {
    "_kg_hide-input": true,
    "_uuid": "edbbc24da205a3e7beac13a2a3529f44757e7811"
   },
   "outputs": [],
   "source": [
    "# confirm unique winPlace in group\n",
    "#nuniquePlace = train.groupby(['matchId','groupId'])['winPlacePerc'].nunique()\n",
    "#print('not unique winPlace in group:', len(nuniquePlace[nuniquePlace > 1]))\n",
    "#del nuniquePlace"
   ]
  },
  {
   "cell_type": "code",
   "execution_count": 43,
   "metadata": {
    "_kg_hide-input": true,
    "_uuid": "411952c44b24343084542d2cc64d381f762652d0"
   },
   "outputs": [
    {
     "name": "stdout",
     "output_type": "stream",
     "text": [
      "match count: 47964\n",
      "match [not contains 1st place]: 74\n",
      "match [maxPlace>1 & numGroups==1]: 68\n",
      " - unique winPlacePerc: [0.]\n"
     ]
    }
   ],
   "source": [
    "print('match count:', train['matchId'].nunique())\n",
    "\n",
    "# not contains 1st place\n",
    "maxPlacePerc = train.groupby('matchId')['winPlacePerc'].max()\n",
    "print('match [not contains 1st place]:', len(maxPlacePerc[maxPlacePerc != 1]))\n",
    "del maxPlacePerc\n",
    "\n",
    "# edge case\n",
    "sub = train[(train['maxPlace'] > 1) & (train['numGroups'] == 1)]\n",
    "print('match [maxPlace>1 & numGroups==1]:', len(sub.groupby('matchId')))\n",
    "print(' - unique winPlacePerc:', sub['winPlacePerc'].unique())"
   ]
  },
  {
   "cell_type": "code",
   "execution_count": 44,
   "metadata": {
    "_kg_hide-input": true,
    "_uuid": "6d40a2e73f25c471bba19840dca1d59a82339f58"
   },
   "outputs": [
    {
     "data": {
      "text/html": [
       "<div>\n",
       "<style scoped>\n",
       "    .dataframe tbody tr th:only-of-type {\n",
       "        vertical-align: middle;\n",
       "    }\n",
       "\n",
       "    .dataframe tbody tr th {\n",
       "        vertical-align: top;\n",
       "    }\n",
       "\n",
       "    .dataframe thead th {\n",
       "        text-align: right;\n",
       "    }\n",
       "</style>\n",
       "<table border=\"1\" class=\"dataframe\">\n",
       "  <thead>\n",
       "    <tr style=\"text-align: right;\">\n",
       "      <th></th>\n",
       "      <th></th>\n",
       "      <th>Id</th>\n",
       "      <th>groupId</th>\n",
       "      <th>matchId</th>\n",
       "      <th>assists</th>\n",
       "      <th>boosts</th>\n",
       "      <th>damageDealt</th>\n",
       "      <th>DBNOs</th>\n",
       "      <th>headshotKills</th>\n",
       "      <th>heals</th>\n",
       "      <th>killPlace</th>\n",
       "      <th>...</th>\n",
       "      <th>revives</th>\n",
       "      <th>rideDistance</th>\n",
       "      <th>roadKills</th>\n",
       "      <th>swimDistance</th>\n",
       "      <th>teamKills</th>\n",
       "      <th>vehicleDestroys</th>\n",
       "      <th>walkDistance</th>\n",
       "      <th>weaponsAcquired</th>\n",
       "      <th>winPoints</th>\n",
       "      <th>winPlacePerc</th>\n",
       "    </tr>\n",
       "  </thead>\n",
       "  <tbody>\n",
       "    <tr>\n",
       "      <th rowspan=\"5\" valign=\"top\">winPlacePerc_1</th>\n",
       "      <th>67</th>\n",
       "      <td>22252be49d4419</td>\n",
       "      <td>37fa7583da2fa2</td>\n",
       "      <td>1ce1cb998f75c7</td>\n",
       "      <td>1</td>\n",
       "      <td>5</td>\n",
       "      <td>378.800</td>\n",
       "      <td>2</td>\n",
       "      <td>3</td>\n",
       "      <td>6</td>\n",
       "      <td>4</td>\n",
       "      <td>...</td>\n",
       "      <td>0</td>\n",
       "      <td>317.700</td>\n",
       "      <td>0</td>\n",
       "      <td>0.000</td>\n",
       "      <td>0</td>\n",
       "      <td>1</td>\n",
       "      <td>3,120.000</td>\n",
       "      <td>4</td>\n",
       "      <td>0</td>\n",
       "      <td>1.000</td>\n",
       "    </tr>\n",
       "    <tr>\n",
       "      <th>107</th>\n",
       "      <td>7970b4ea89e81e</td>\n",
       "      <td>abf9e2780b9f48</td>\n",
       "      <td>04832cfd74ff30</td>\n",
       "      <td>1</td>\n",
       "      <td>1</td>\n",
       "      <td>58.360</td>\n",
       "      <td>0</td>\n",
       "      <td>0</td>\n",
       "      <td>2</td>\n",
       "      <td>38</td>\n",
       "      <td>...</td>\n",
       "      <td>0</td>\n",
       "      <td>5,134.000</td>\n",
       "      <td>0</td>\n",
       "      <td>0.000</td>\n",
       "      <td>0</td>\n",
       "      <td>0</td>\n",
       "      <td>2,708.000</td>\n",
       "      <td>7</td>\n",
       "      <td>0</td>\n",
       "      <td>1.000</td>\n",
       "    </tr>\n",
       "    <tr>\n",
       "      <th>118</th>\n",
       "      <td>953577684b828a</td>\n",
       "      <td>54ce33c41ef9ff</td>\n",
       "      <td>c5d412db6dbee4</td>\n",
       "      <td>2</td>\n",
       "      <td>6</td>\n",
       "      <td>76.110</td>\n",
       "      <td>0</td>\n",
       "      <td>0</td>\n",
       "      <td>12</td>\n",
       "      <td>45</td>\n",
       "      <td>...</td>\n",
       "      <td>1</td>\n",
       "      <td>0.000</td>\n",
       "      <td>0</td>\n",
       "      <td>0.000</td>\n",
       "      <td>0</td>\n",
       "      <td>0</td>\n",
       "      <td>2,635.000</td>\n",
       "      <td>7</td>\n",
       "      <td>0</td>\n",
       "      <td>1.000</td>\n",
       "    </tr>\n",
       "    <tr>\n",
       "      <th>123</th>\n",
       "      <td>174c758156bcf3</td>\n",
       "      <td>a935604c9bb7aa</td>\n",
       "      <td>edc87c8d445823</td>\n",
       "      <td>1</td>\n",
       "      <td>9</td>\n",
       "      <td>626.200</td>\n",
       "      <td>4</td>\n",
       "      <td>3</td>\n",
       "      <td>2</td>\n",
       "      <td>4</td>\n",
       "      <td>...</td>\n",
       "      <td>0</td>\n",
       "      <td>1,045.000</td>\n",
       "      <td>0</td>\n",
       "      <td>0.000</td>\n",
       "      <td>0</td>\n",
       "      <td>0</td>\n",
       "      <td>2,814.000</td>\n",
       "      <td>7</td>\n",
       "      <td>1566</td>\n",
       "      <td>1.000</td>\n",
       "    </tr>\n",
       "    <tr>\n",
       "      <th>186</th>\n",
       "      <td>eb7a3e9f50eca5</td>\n",
       "      <td>fe3d74f737cd10</td>\n",
       "      <td>92338c2233be1a</td>\n",
       "      <td>0</td>\n",
       "      <td>5</td>\n",
       "      <td>778.000</td>\n",
       "      <td>0</td>\n",
       "      <td>3</td>\n",
       "      <td>2</td>\n",
       "      <td>2</td>\n",
       "      <td>...</td>\n",
       "      <td>0</td>\n",
       "      <td>0.000</td>\n",
       "      <td>0</td>\n",
       "      <td>0.000</td>\n",
       "      <td>0</td>\n",
       "      <td>0</td>\n",
       "      <td>2,422.000</td>\n",
       "      <td>5</td>\n",
       "      <td>1506</td>\n",
       "      <td>1.000</td>\n",
       "    </tr>\n",
       "    <tr>\n",
       "      <th rowspan=\"5\" valign=\"top\">winPlacePerc_0</th>\n",
       "      <th>6</th>\n",
       "      <td>95959be0e21ca3</td>\n",
       "      <td>2c485a1ad3d0f1</td>\n",
       "      <td>a8274e903927a2</td>\n",
       "      <td>0</td>\n",
       "      <td>0</td>\n",
       "      <td>0.000</td>\n",
       "      <td>0</td>\n",
       "      <td>0</td>\n",
       "      <td>0</td>\n",
       "      <td>96</td>\n",
       "      <td>...</td>\n",
       "      <td>0</td>\n",
       "      <td>0.000</td>\n",
       "      <td>0</td>\n",
       "      <td>0.000</td>\n",
       "      <td>0</td>\n",
       "      <td>0</td>\n",
       "      <td>13.500</td>\n",
       "      <td>1</td>\n",
       "      <td>1497</td>\n",
       "      <td>0.000</td>\n",
       "    </tr>\n",
       "    <tr>\n",
       "      <th>29</th>\n",
       "      <td>ac5b57ff39979c</td>\n",
       "      <td>857cc55b2b6001</td>\n",
       "      <td>e019e04dee4f19</td>\n",
       "      <td>0</td>\n",
       "      <td>0</td>\n",
       "      <td>0.000</td>\n",
       "      <td>0</td>\n",
       "      <td>0</td>\n",
       "      <td>0</td>\n",
       "      <td>87</td>\n",
       "      <td>...</td>\n",
       "      <td>0</td>\n",
       "      <td>0.000</td>\n",
       "      <td>0</td>\n",
       "      <td>0.000</td>\n",
       "      <td>0</td>\n",
       "      <td>0</td>\n",
       "      <td>0.000</td>\n",
       "      <td>0</td>\n",
       "      <td>0</td>\n",
       "      <td>0.000</td>\n",
       "    </tr>\n",
       "    <tr>\n",
       "      <th>62</th>\n",
       "      <td>eea397f23204bd</td>\n",
       "      <td>19650a810dbdbf</td>\n",
       "      <td>b99cd2f850c233</td>\n",
       "      <td>0</td>\n",
       "      <td>0</td>\n",
       "      <td>100.000</td>\n",
       "      <td>1</td>\n",
       "      <td>0</td>\n",
       "      <td>0</td>\n",
       "      <td>41</td>\n",
       "      <td>...</td>\n",
       "      <td>0</td>\n",
       "      <td>0.000</td>\n",
       "      <td>0</td>\n",
       "      <td>0.000</td>\n",
       "      <td>0</td>\n",
       "      <td>0</td>\n",
       "      <td>9.907</td>\n",
       "      <td>1</td>\n",
       "      <td>1514</td>\n",
       "      <td>0.000</td>\n",
       "    </tr>\n",
       "    <tr>\n",
       "      <th>74</th>\n",
       "      <td>8b3cdbefd1f408</td>\n",
       "      <td>d25fc68b94f38c</td>\n",
       "      <td>128c05e4e54c63</td>\n",
       "      <td>0</td>\n",
       "      <td>0</td>\n",
       "      <td>0.000</td>\n",
       "      <td>0</td>\n",
       "      <td>0</td>\n",
       "      <td>0</td>\n",
       "      <td>91</td>\n",
       "      <td>...</td>\n",
       "      <td>0</td>\n",
       "      <td>0.000</td>\n",
       "      <td>0</td>\n",
       "      <td>0.000</td>\n",
       "      <td>0</td>\n",
       "      <td>0</td>\n",
       "      <td>27.060</td>\n",
       "      <td>1</td>\n",
       "      <td>0</td>\n",
       "      <td>0.000</td>\n",
       "    </tr>\n",
       "    <tr>\n",
       "      <th>103</th>\n",
       "      <td>c4260ce3746cf8</td>\n",
       "      <td>2e3ce1fb9b7812</td>\n",
       "      <td>8fb790bb47a1cc</td>\n",
       "      <td>0</td>\n",
       "      <td>0</td>\n",
       "      <td>0.000</td>\n",
       "      <td>0</td>\n",
       "      <td>0</td>\n",
       "      <td>0</td>\n",
       "      <td>94</td>\n",
       "      <td>...</td>\n",
       "      <td>0</td>\n",
       "      <td>0.000</td>\n",
       "      <td>0</td>\n",
       "      <td>0.000</td>\n",
       "      <td>0</td>\n",
       "      <td>0</td>\n",
       "      <td>68.900</td>\n",
       "      <td>2</td>\n",
       "      <td>0</td>\n",
       "      <td>0.000</td>\n",
       "    </tr>\n",
       "  </tbody>\n",
       "</table>\n",
       "<p>10 rows × 29 columns</p>\n",
       "</div>"
      ],
      "text/plain": [
       "                                Id         groupId         matchId  assists  \\\n",
       "winPlacePerc_1 67   22252be49d4419  37fa7583da2fa2  1ce1cb998f75c7        1   \n",
       "               107  7970b4ea89e81e  abf9e2780b9f48  04832cfd74ff30        1   \n",
       "               118  953577684b828a  54ce33c41ef9ff  c5d412db6dbee4        2   \n",
       "               123  174c758156bcf3  a935604c9bb7aa  edc87c8d445823        1   \n",
       "               186  eb7a3e9f50eca5  fe3d74f737cd10  92338c2233be1a        0   \n",
       "winPlacePerc_0 6    95959be0e21ca3  2c485a1ad3d0f1  a8274e903927a2        0   \n",
       "               29   ac5b57ff39979c  857cc55b2b6001  e019e04dee4f19        0   \n",
       "               62   eea397f23204bd  19650a810dbdbf  b99cd2f850c233        0   \n",
       "               74   8b3cdbefd1f408  d25fc68b94f38c  128c05e4e54c63        0   \n",
       "               103  c4260ce3746cf8  2e3ce1fb9b7812  8fb790bb47a1cc        0   \n",
       "\n",
       "                    boosts  damageDealt  DBNOs  headshotKills  heals  \\\n",
       "winPlacePerc_1 67        5      378.800      2              3      6   \n",
       "               107       1       58.360      0              0      2   \n",
       "               118       6       76.110      0              0     12   \n",
       "               123       9      626.200      4              3      2   \n",
       "               186       5      778.000      0              3      2   \n",
       "winPlacePerc_0 6         0        0.000      0              0      0   \n",
       "               29        0        0.000      0              0      0   \n",
       "               62        0      100.000      1              0      0   \n",
       "               74        0        0.000      0              0      0   \n",
       "               103       0        0.000      0              0      0   \n",
       "\n",
       "                    killPlace  ...  revives  rideDistance  roadKills  \\\n",
       "winPlacePerc_1 67           4  ...        0       317.700          0   \n",
       "               107         38  ...        0     5,134.000          0   \n",
       "               118         45  ...        1         0.000          0   \n",
       "               123          4  ...        0     1,045.000          0   \n",
       "               186          2  ...        0         0.000          0   \n",
       "winPlacePerc_0 6           96  ...        0         0.000          0   \n",
       "               29          87  ...        0         0.000          0   \n",
       "               62          41  ...        0         0.000          0   \n",
       "               74          91  ...        0         0.000          0   \n",
       "               103         94  ...        0         0.000          0   \n",
       "\n",
       "                    swimDistance  teamKills vehicleDestroys  walkDistance  \\\n",
       "winPlacePerc_1 67          0.000          0               1     3,120.000   \n",
       "               107         0.000          0               0     2,708.000   \n",
       "               118         0.000          0               0     2,635.000   \n",
       "               123         0.000          0               0     2,814.000   \n",
       "               186         0.000          0               0     2,422.000   \n",
       "winPlacePerc_0 6           0.000          0               0        13.500   \n",
       "               29          0.000          0               0         0.000   \n",
       "               62          0.000          0               0         9.907   \n",
       "               74          0.000          0               0        27.060   \n",
       "               103         0.000          0               0        68.900   \n",
       "\n",
       "                    weaponsAcquired  winPoints  winPlacePerc  \n",
       "winPlacePerc_1 67                 4          0         1.000  \n",
       "               107                7          0         1.000  \n",
       "               118                7          0         1.000  \n",
       "               123                7       1566         1.000  \n",
       "               186                5       1506         1.000  \n",
       "winPlacePerc_0 6                  1       1497         0.000  \n",
       "               29                 0          0         0.000  \n",
       "               62                 1       1514         0.000  \n",
       "               74                 1          0         0.000  \n",
       "               103                2          0         0.000  \n",
       "\n",
       "[10 rows x 29 columns]"
      ]
     },
     "execution_count": 44,
     "metadata": {},
     "output_type": "execute_result"
    }
   ],
   "source": [
    "pd.concat([train[train['winPlacePerc'] == 1].head(5),\n",
    "           train[train['winPlacePerc'] == 0].head(5)],\n",
    "          keys=['winPlacePerc_1', 'winPlacePerc_0'])"
   ]
  },
  {
   "cell_type": "markdown",
   "metadata": {
    "_uuid": "10564e47a08c8ffeba0ae308c30e4b76d42240b7"
   },
   "source": [
    "## match summary"
   ]
  },
  {
   "cell_type": "code",
   "execution_count": 45,
   "metadata": {
    "_kg_hide-input": true,
    "_uuid": "0c3702726f6309f808b549decbde688528c8307d"
   },
   "outputs": [
    {
     "data": {
      "text/html": [
       "<div>\n",
       "<style scoped>\n",
       "    .dataframe tbody tr th:only-of-type {\n",
       "        vertical-align: middle;\n",
       "    }\n",
       "\n",
       "    .dataframe tbody tr th {\n",
       "        vertical-align: top;\n",
       "    }\n",
       "\n",
       "    .dataframe thead tr th {\n",
       "        text-align: left;\n",
       "    }\n",
       "</style>\n",
       "<table border=\"1\" class=\"dataframe\">\n",
       "  <thead>\n",
       "    <tr>\n",
       "      <th></th>\n",
       "      <th colspan=\"4\" halign=\"left\">solo</th>\n",
       "      <th colspan=\"4\" halign=\"left\">team</th>\n",
       "    </tr>\n",
       "    <tr>\n",
       "      <th></th>\n",
       "      <th>count</th>\n",
       "      <th>min</th>\n",
       "      <th>mean</th>\n",
       "      <th>max</th>\n",
       "      <th>count</th>\n",
       "      <th>min</th>\n",
       "      <th>mean</th>\n",
       "      <th>max</th>\n",
       "    </tr>\n",
       "  </thead>\n",
       "  <tbody>\n",
       "    <tr>\n",
       "      <th>kills</th>\n",
       "      <td>8,094.000</td>\n",
       "      <td>0.000</td>\n",
       "      <td>83.421</td>\n",
       "      <td>786.000</td>\n",
       "      <td>39,870.000</td>\n",
       "      <td>0.000</td>\n",
       "      <td>86.212</td>\n",
       "      <td>687.000</td>\n",
       "    </tr>\n",
       "    <tr>\n",
       "      <th>teamKills</th>\n",
       "      <td>8,094.000</td>\n",
       "      <td>0.000</td>\n",
       "      <td>1.023</td>\n",
       "      <td>15.000</td>\n",
       "      <td>39,870.000</td>\n",
       "      <td>0.000</td>\n",
       "      <td>2.455</td>\n",
       "      <td>76.000</td>\n",
       "    </tr>\n",
       "    <tr>\n",
       "      <th>DBNOs</th>\n",
       "      <td>8,094.000</td>\n",
       "      <td>0.000</td>\n",
       "      <td>0.000</td>\n",
       "      <td>0.000</td>\n",
       "      <td>39,870.000</td>\n",
       "      <td>0.000</td>\n",
       "      <td>73.377</td>\n",
       "      <td>669.000</td>\n",
       "    </tr>\n",
       "    <tr>\n",
       "      <th>revives</th>\n",
       "      <td>8,094.000</td>\n",
       "      <td>0.000</td>\n",
       "      <td>0.000</td>\n",
       "      <td>0.000</td>\n",
       "      <td>39,870.000</td>\n",
       "      <td>0.000</td>\n",
       "      <td>18.366</td>\n",
       "      <td>81.000</td>\n",
       "    </tr>\n",
       "    <tr>\n",
       "      <th>assists</th>\n",
       "      <td>8,094.000</td>\n",
       "      <td>0.000</td>\n",
       "      <td>5.542</td>\n",
       "      <td>219.000</td>\n",
       "      <td>39,870.000</td>\n",
       "      <td>0.000</td>\n",
       "      <td>24.954</td>\n",
       "      <td>275.000</td>\n",
       "    </tr>\n",
       "    <tr>\n",
       "      <th>boosts</th>\n",
       "      <td>8,094.000</td>\n",
       "      <td>0.000</td>\n",
       "      <td>94.373</td>\n",
       "      <td>182.000</td>\n",
       "      <td>39,870.000</td>\n",
       "      <td>0.000</td>\n",
       "      <td>104.302</td>\n",
       "      <td>227.000</td>\n",
       "    </tr>\n",
       "    <tr>\n",
       "      <th>heals</th>\n",
       "      <td>8,094.000</td>\n",
       "      <td>0.000</td>\n",
       "      <td>90.303</td>\n",
       "      <td>395.000</td>\n",
       "      <td>39,870.000</td>\n",
       "      <td>0.000</td>\n",
       "      <td>134.489</td>\n",
       "      <td>424.000</td>\n",
       "    </tr>\n",
       "    <tr>\n",
       "      <th>damageDealt</th>\n",
       "      <td>8,094.000</td>\n",
       "      <td>100.000</td>\n",
       "      <td>10,610.864</td>\n",
       "      <td>80,991.203</td>\n",
       "      <td>39,870.000</td>\n",
       "      <td>0.000</td>\n",
       "      <td>12,425.667</td>\n",
       "      <td>68,960.344</td>\n",
       "    </tr>\n",
       "    <tr>\n",
       "      <th>walkDistance</th>\n",
       "      <td>8,094.000</td>\n",
       "      <td>0.000</td>\n",
       "      <td>85,067.086</td>\n",
       "      <td>156,265.719</td>\n",
       "      <td>39,870.000</td>\n",
       "      <td>0.000</td>\n",
       "      <td>111,468.266</td>\n",
       "      <td>216,150.875</td>\n",
       "    </tr>\n",
       "    <tr>\n",
       "      <th>rideDistance</th>\n",
       "      <td>8,094.000</td>\n",
       "      <td>0.000</td>\n",
       "      <td>41,250.508</td>\n",
       "      <td>207,528.625</td>\n",
       "      <td>39,870.000</td>\n",
       "      <td>0.000</td>\n",
       "      <td>59,229.430</td>\n",
       "      <td>370,542.188</td>\n",
       "    </tr>\n",
       "    <tr>\n",
       "      <th>swimDistance</th>\n",
       "      <td>8,094.000</td>\n",
       "      <td>0.000</td>\n",
       "      <td>452.993</td>\n",
       "      <td>5,222.350</td>\n",
       "      <td>39,870.000</td>\n",
       "      <td>0.000</td>\n",
       "      <td>410.993</td>\n",
       "      <td>9,829.961</td>\n",
       "    </tr>\n",
       "    <tr>\n",
       "      <th>weaponsAcquired</th>\n",
       "      <td>8,094.000</td>\n",
       "      <td>4.000</td>\n",
       "      <td>320.019</td>\n",
       "      <td>1,860.000</td>\n",
       "      <td>39,870.000</td>\n",
       "      <td>0.000</td>\n",
       "      <td>343.312</td>\n",
       "      <td>1,666.000</td>\n",
       "    </tr>\n",
       "  </tbody>\n",
       "</table>\n",
       "</div>"
      ],
      "text/plain": [
       "                     solo                                      team        \\\n",
       "                    count     min       mean         max      count   min   \n",
       "kills           8,094.000   0.000     83.421     786.000 39,870.000 0.000   \n",
       "teamKills       8,094.000   0.000      1.023      15.000 39,870.000 0.000   \n",
       "DBNOs           8,094.000   0.000      0.000       0.000 39,870.000 0.000   \n",
       "revives         8,094.000   0.000      0.000       0.000 39,870.000 0.000   \n",
       "assists         8,094.000   0.000      5.542     219.000 39,870.000 0.000   \n",
       "boosts          8,094.000   0.000     94.373     182.000 39,870.000 0.000   \n",
       "heals           8,094.000   0.000     90.303     395.000 39,870.000 0.000   \n",
       "damageDealt     8,094.000 100.000 10,610.864  80,991.203 39,870.000 0.000   \n",
       "walkDistance    8,094.000   0.000 85,067.086 156,265.719 39,870.000 0.000   \n",
       "rideDistance    8,094.000   0.000 41,250.508 207,528.625 39,870.000 0.000   \n",
       "swimDistance    8,094.000   0.000    452.993   5,222.350 39,870.000 0.000   \n",
       "weaponsAcquired 8,094.000   4.000    320.019   1,860.000 39,870.000 0.000   \n",
       "\n",
       "                                         \n",
       "                       mean         max  \n",
       "kills                86.212     687.000  \n",
       "teamKills             2.455      76.000  \n",
       "DBNOs                73.377     669.000  \n",
       "revives              18.366      81.000  \n",
       "assists              24.954     275.000  \n",
       "boosts              104.302     227.000  \n",
       "heals               134.489     424.000  \n",
       "damageDealt      12,425.667  68,960.344  \n",
       "walkDistance    111,468.266 216,150.875  \n",
       "rideDistance     59,229.430 370,542.188  \n",
       "swimDistance        410.993   9,829.961  \n",
       "weaponsAcquired     343.312   1,666.000  "
      ]
     },
     "execution_count": 45,
     "metadata": {},
     "output_type": "execute_result"
    }
   ],
   "source": [
    "cols = ['kills','teamKills','DBNOs','revives','assists','boosts','heals','damageDealt',\n",
    "    'walkDistance','rideDistance','swimDistance','weaponsAcquired']\n",
    "\n",
    "aggs = ['count','min','mean','max']\n",
    "# summary of solo-match\n",
    "grp = train.loc[train['matchType'].str.contains('solo')].groupby('matchId')\n",
    "grpSolo = grp[cols].sum()\n",
    "# summary of team-match\n",
    "grp = train.loc[~train['matchType'].str.contains('solo')].groupby('matchId')\n",
    "grpTeam = grp[cols].sum()\n",
    "\n",
    "pd.concat([grpSolo.describe().T[aggs], grpTeam.describe().T[aggs]], keys=['solo', 'team'], axis=1)"
   ]
  },
  {
   "cell_type": "code",
   "execution_count": 46,
   "metadata": {
    "_uuid": "09ba6ca78fddd7da61add1136cdbfa3a43fb4528"
   },
   "outputs": [
    {
     "data": {
      "text/html": [
       "<div>\n",
       "<style scoped>\n",
       "    .dataframe tbody tr th:only-of-type {\n",
       "        vertical-align: middle;\n",
       "    }\n",
       "\n",
       "    .dataframe tbody tr th {\n",
       "        vertical-align: top;\n",
       "    }\n",
       "\n",
       "    .dataframe thead th {\n",
       "        text-align: right;\n",
       "    }\n",
       "</style>\n",
       "<table border=\"1\" class=\"dataframe\">\n",
       "  <thead>\n",
       "    <tr style=\"text-align: right;\">\n",
       "      <th></th>\n",
       "      <th>kills</th>\n",
       "      <th>teamKills</th>\n",
       "      <th>DBNOs</th>\n",
       "      <th>revives</th>\n",
       "      <th>assists</th>\n",
       "      <th>boosts</th>\n",
       "      <th>heals</th>\n",
       "      <th>damageDealt</th>\n",
       "      <th>walkDistance</th>\n",
       "      <th>rideDistance</th>\n",
       "      <th>swimDistance</th>\n",
       "      <th>weaponsAcquired</th>\n",
       "    </tr>\n",
       "    <tr>\n",
       "      <th>matchId</th>\n",
       "      <th></th>\n",
       "      <th></th>\n",
       "      <th></th>\n",
       "      <th></th>\n",
       "      <th></th>\n",
       "      <th></th>\n",
       "      <th></th>\n",
       "      <th></th>\n",
       "      <th></th>\n",
       "      <th></th>\n",
       "      <th></th>\n",
       "      <th></th>\n",
       "    </tr>\n",
       "  </thead>\n",
       "  <tbody>\n",
       "    <tr>\n",
       "      <th>cfa2775c9ef944</th>\n",
       "      <td>786.000</td>\n",
       "      <td>1.000</td>\n",
       "      <td>0.000</td>\n",
       "      <td>0.000</td>\n",
       "      <td>185.000</td>\n",
       "      <td>0.000</td>\n",
       "      <td>395.000</td>\n",
       "      <td>80,991.203</td>\n",
       "      <td>15,327.690</td>\n",
       "      <td>17,631.699</td>\n",
       "      <td>0.000</td>\n",
       "      <td>1860</td>\n",
       "    </tr>\n",
       "    <tr>\n",
       "      <th>fe7043ee6221c8</th>\n",
       "      <td>691.000</td>\n",
       "      <td>2.000</td>\n",
       "      <td>0.000</td>\n",
       "      <td>0.000</td>\n",
       "      <td>219.000</td>\n",
       "      <td>18.000</td>\n",
       "      <td>53.000</td>\n",
       "      <td>67,722.703</td>\n",
       "      <td>19,284.920</td>\n",
       "      <td>8,599.500</td>\n",
       "      <td>0.000</td>\n",
       "      <td>1497</td>\n",
       "    </tr>\n",
       "    <tr>\n",
       "      <th>e024bf51bf1799</th>\n",
       "      <td>516.000</td>\n",
       "      <td>3.000</td>\n",
       "      <td>0.000</td>\n",
       "      <td>0.000</td>\n",
       "      <td>159.000</td>\n",
       "      <td>0.000</td>\n",
       "      <td>60.000</td>\n",
       "      <td>52,742.699</td>\n",
       "      <td>14,045.650</td>\n",
       "      <td>7,914.800</td>\n",
       "      <td>0.000</td>\n",
       "      <td>1109</td>\n",
       "    </tr>\n",
       "    <tr>\n",
       "      <th>f900de1ec39fa5</th>\n",
       "      <td>415.000</td>\n",
       "      <td>1.000</td>\n",
       "      <td>0.000</td>\n",
       "      <td>0.000</td>\n",
       "      <td>151.000</td>\n",
       "      <td>0.000</td>\n",
       "      <td>42.000</td>\n",
       "      <td>40,134.000</td>\n",
       "      <td>8,468.610</td>\n",
       "      <td>8,739.500</td>\n",
       "      <td>0.000</td>\n",
       "      <td>877</td>\n",
       "    </tr>\n",
       "    <tr>\n",
       "      <th>5921b55b9e96b5</th>\n",
       "      <td>387.000</td>\n",
       "      <td>0.000</td>\n",
       "      <td>0.000</td>\n",
       "      <td>0.000</td>\n",
       "      <td>110.000</td>\n",
       "      <td>0.000</td>\n",
       "      <td>56.000</td>\n",
       "      <td>40,473.000</td>\n",
       "      <td>11,463.260</td>\n",
       "      <td>4,915.000</td>\n",
       "      <td>0.000</td>\n",
       "      <td>837</td>\n",
       "    </tr>\n",
       "  </tbody>\n",
       "</table>\n",
       "</div>"
      ],
      "text/plain": [
       "                 kills  teamKills  DBNOs  revives  assists  boosts   heals  \\\n",
       "matchId                                                                      \n",
       "cfa2775c9ef944 786.000      1.000  0.000    0.000  185.000   0.000 395.000   \n",
       "fe7043ee6221c8 691.000      2.000  0.000    0.000  219.000  18.000  53.000   \n",
       "e024bf51bf1799 516.000      3.000  0.000    0.000  159.000   0.000  60.000   \n",
       "f900de1ec39fa5 415.000      1.000  0.000    0.000  151.000   0.000  42.000   \n",
       "5921b55b9e96b5 387.000      0.000  0.000    0.000  110.000   0.000  56.000   \n",
       "\n",
       "                damageDealt  walkDistance  rideDistance  swimDistance  \\\n",
       "matchId                                                                 \n",
       "cfa2775c9ef944   80,991.203    15,327.690    17,631.699         0.000   \n",
       "fe7043ee6221c8   67,722.703    19,284.920     8,599.500         0.000   \n",
       "e024bf51bf1799   52,742.699    14,045.650     7,914.800         0.000   \n",
       "f900de1ec39fa5   40,134.000     8,468.610     8,739.500         0.000   \n",
       "5921b55b9e96b5   40,473.000    11,463.260     4,915.000         0.000   \n",
       "\n",
       "                weaponsAcquired  \n",
       "matchId                          \n",
       "cfa2775c9ef944             1860  \n",
       "fe7043ee6221c8             1497  \n",
       "e024bf51bf1799             1109  \n",
       "f900de1ec39fa5              877  \n",
       "5921b55b9e96b5              837  "
      ]
     },
     "execution_count": 46,
     "metadata": {},
     "output_type": "execute_result"
    }
   ],
   "source": [
    "grpSolo.nlargest(5, 'kills')"
   ]
  },
  {
   "cell_type": "code",
   "execution_count": 47,
   "metadata": {
    "_uuid": "e88fbfd48ec822145e04278165c0ca20df2c2764"
   },
   "outputs": [
    {
     "data": {
      "text/html": [
       "<div>\n",
       "<style scoped>\n",
       "    .dataframe tbody tr th:only-of-type {\n",
       "        vertical-align: middle;\n",
       "    }\n",
       "\n",
       "    .dataframe tbody tr th {\n",
       "        vertical-align: top;\n",
       "    }\n",
       "\n",
       "    .dataframe thead th {\n",
       "        text-align: right;\n",
       "    }\n",
       "</style>\n",
       "<table border=\"1\" class=\"dataframe\">\n",
       "  <thead>\n",
       "    <tr style=\"text-align: right;\">\n",
       "      <th></th>\n",
       "      <th>kills</th>\n",
       "      <th>teamKills</th>\n",
       "      <th>DBNOs</th>\n",
       "      <th>revives</th>\n",
       "      <th>assists</th>\n",
       "      <th>boosts</th>\n",
       "      <th>heals</th>\n",
       "      <th>damageDealt</th>\n",
       "      <th>walkDistance</th>\n",
       "      <th>rideDistance</th>\n",
       "      <th>swimDistance</th>\n",
       "      <th>weaponsAcquired</th>\n",
       "    </tr>\n",
       "    <tr>\n",
       "      <th>matchId</th>\n",
       "      <th></th>\n",
       "      <th></th>\n",
       "      <th></th>\n",
       "      <th></th>\n",
       "      <th></th>\n",
       "      <th></th>\n",
       "      <th></th>\n",
       "      <th></th>\n",
       "      <th></th>\n",
       "      <th></th>\n",
       "      <th></th>\n",
       "      <th></th>\n",
       "    </tr>\n",
       "  </thead>\n",
       "  <tbody>\n",
       "    <tr>\n",
       "      <th>6680c7c3d17d48</th>\n",
       "      <td>687.000</td>\n",
       "      <td>7.000</td>\n",
       "      <td>0.000</td>\n",
       "      <td>0.000</td>\n",
       "      <td>232.000</td>\n",
       "      <td>60.000</td>\n",
       "      <td>134.000</td>\n",
       "      <td>65,617.102</td>\n",
       "      <td>11,311.930</td>\n",
       "      <td>8,454.950</td>\n",
       "      <td>0.000</td>\n",
       "      <td>1558</td>\n",
       "    </tr>\n",
       "    <tr>\n",
       "      <th>8a728def0644be</th>\n",
       "      <td>656.000</td>\n",
       "      <td>1.000</td>\n",
       "      <td>669.000</td>\n",
       "      <td>35.000</td>\n",
       "      <td>258.000</td>\n",
       "      <td>0.000</td>\n",
       "      <td>277.000</td>\n",
       "      <td>68,960.344</td>\n",
       "      <td>27,110.521</td>\n",
       "      <td>17,190.260</td>\n",
       "      <td>0.000</td>\n",
       "      <td>1558</td>\n",
       "    </tr>\n",
       "    <tr>\n",
       "      <th>6bf647ecee30da</th>\n",
       "      <td>638.000</td>\n",
       "      <td>12.000</td>\n",
       "      <td>0.000</td>\n",
       "      <td>0.000</td>\n",
       "      <td>157.000</td>\n",
       "      <td>1.000</td>\n",
       "      <td>236.000</td>\n",
       "      <td>64,173.059</td>\n",
       "      <td>67,684.250</td>\n",
       "      <td>33,173.238</td>\n",
       "      <td>0.000</td>\n",
       "      <td>1666</td>\n",
       "    </tr>\n",
       "    <tr>\n",
       "      <th>25830709cb9033</th>\n",
       "      <td>628.000</td>\n",
       "      <td>3.000</td>\n",
       "      <td>0.000</td>\n",
       "      <td>0.000</td>\n",
       "      <td>181.000</td>\n",
       "      <td>0.000</td>\n",
       "      <td>296.000</td>\n",
       "      <td>65,856.797</td>\n",
       "      <td>49,591.730</td>\n",
       "      <td>32,569.000</td>\n",
       "      <td>0.000</td>\n",
       "      <td>1553</td>\n",
       "    </tr>\n",
       "    <tr>\n",
       "      <th>17dea22cefe62a</th>\n",
       "      <td>583.000</td>\n",
       "      <td>3.000</td>\n",
       "      <td>0.000</td>\n",
       "      <td>0.000</td>\n",
       "      <td>181.000</td>\n",
       "      <td>4.000</td>\n",
       "      <td>102.000</td>\n",
       "      <td>61,720.801</td>\n",
       "      <td>15,640.520</td>\n",
       "      <td>20,187.859</td>\n",
       "      <td>0.000</td>\n",
       "      <td>1348</td>\n",
       "    </tr>\n",
       "  </tbody>\n",
       "</table>\n",
       "</div>"
      ],
      "text/plain": [
       "                 kills  teamKills   DBNOs  revives  assists  boosts   heals  \\\n",
       "matchId                                                                       \n",
       "6680c7c3d17d48 687.000      7.000   0.000    0.000  232.000  60.000 134.000   \n",
       "8a728def0644be 656.000      1.000 669.000   35.000  258.000   0.000 277.000   \n",
       "6bf647ecee30da 638.000     12.000   0.000    0.000  157.000   1.000 236.000   \n",
       "25830709cb9033 628.000      3.000   0.000    0.000  181.000   0.000 296.000   \n",
       "17dea22cefe62a 583.000      3.000   0.000    0.000  181.000   4.000 102.000   \n",
       "\n",
       "                damageDealt  walkDistance  rideDistance  swimDistance  \\\n",
       "matchId                                                                 \n",
       "6680c7c3d17d48   65,617.102    11,311.930     8,454.950         0.000   \n",
       "8a728def0644be   68,960.344    27,110.521    17,190.260         0.000   \n",
       "6bf647ecee30da   64,173.059    67,684.250    33,173.238         0.000   \n",
       "25830709cb9033   65,856.797    49,591.730    32,569.000         0.000   \n",
       "17dea22cefe62a   61,720.801    15,640.520    20,187.859         0.000   \n",
       "\n",
       "                weaponsAcquired  \n",
       "matchId                          \n",
       "6680c7c3d17d48             1558  \n",
       "8a728def0644be             1558  \n",
       "6bf647ecee30da             1666  \n",
       "25830709cb9033             1553  \n",
       "17dea22cefe62a             1348  "
      ]
     },
     "execution_count": 47,
     "metadata": {},
     "output_type": "execute_result"
    }
   ],
   "source": [
    "grpTeam.nlargest(5, 'kills')"
   ]
  },
  {
   "cell_type": "code",
   "execution_count": 48,
   "metadata": {
    "_kg_hide-input": true,
    "_kg_hide-output": true,
    "_uuid": "48ef7441702af3caaf305607d27cbabcaec26920"
   },
   "outputs": [],
   "source": [
    "del grpSolo, grpTeam"
   ]
  },
  {
   "cell_type": "markdown",
   "metadata": {
    "_uuid": "b27326bea05f9d71033d8741a05343b8143b4044"
   },
   "source": [
    "## group summary"
   ]
  },
  {
   "cell_type": "code",
   "execution_count": 49,
   "metadata": {
    "_kg_hide-input": true,
    "_uuid": "36fbe1ed7894adbbf3d3333a380a50e95a750336"
   },
   "outputs": [
    {
     "data": {
      "image/png": "[encoded data removed]",
      "text/plain": [
       "<Figure size 864x1296 with 6 Axes>"
      ]
     },
     "metadata": {
      "needs_background": "light"
     },
     "output_type": "display_data"
    }
   ],
   "source": [
    "cols = ['kills','teamKills','DBNOs','revives','assists','boosts','heals','damageDealt',\n",
    "    'walkDistance','rideDistance','swimDistance','weaponsAcquired']\n",
    "cols.extend(['killPlace','winPlacePerc'])\n",
    "group = train.groupby(['matchId','groupId'])[cols]\n",
    "\n",
    "fig, ax = plt.subplots(3, 1, figsize=(12, 18), sharey=True)\n",
    "for df, ax in zip([group.mean(), group.min(), group.max()], ax.ravel()):\n",
    "    sns.heatmap(df.corr(), annot=True, linewidths=.6, fmt='.2f', vmax=1, vmin=-1, center=0, cmap='Blues', ax=ax)\n",
    "\n",
    "del df"
   ]
  },
  {
   "cell_type": "markdown",
   "metadata": {
    "_uuid": "adf609c1ab603a16e5290b5e8f7569c71e3b8598"
   },
   "source": [
    "## any match stats"
   ]
  },
  {
   "cell_type": "code",
   "execution_count": 50,
   "metadata": {
    "_uuid": "00d363a28707d01667e0cde5aed525d4b1605fe2"
   },
   "outputs": [],
   "source": [
    "def printMatchStats(matchIds):\n",
    "    for mid in matchIds:\n",
    "        subMatch = train[train['matchId'] == mid]\n",
    "        print('matchType:', subMatch['matchType'].values[0])\n",
    "\n",
    "        grp1st = subMatch[subMatch['winPlacePerc'] == 1]\n",
    "        grpOther = subMatch[subMatch['winPlacePerc'] != 1]\n",
    "        print('players'.ljust(10), ' total:{:>3}  1st:{:>3}  other:{:>3}'.format(len(subMatch), len(grp1st), len(grpOther)))\n",
    "        for c in ['kills','teamKills','roadKills','DBNOs','revives','assists']:\n",
    "            print(c.ljust(10), ' total:{:>3}  1st:{:>3}  other:{:>3}'.format(subMatch[c].sum(), grp1st[c].sum(), grpOther[c].sum()))\n",
    "        print('-' * 30)"
   ]
  },
  {
   "cell_type": "code",
   "execution_count": 51,
   "metadata": {
    "_kg_hide-input": true,
    "_uuid": "7f9d76b4b2629bb00cc64464d093e29a8ee2d797"
   },
   "outputs": [
    {
     "name": "stdout",
     "output_type": "stream",
     "text": [
      "matchType: squad\n",
      "players     total: 96  1st:  4  other: 92\n",
      "kills       total: 84  1st: 15  other: 69\n",
      "teamKills   total:  4  1st:  0  other:  4\n",
      "roadKills   total:  0  1st:  0  other:  0\n",
      "DBNOs       total: 78  1st: 11  other: 67\n",
      "revives     total: 14  1st:  2  other: 12\n",
      "assists     total: 28  1st:  7  other: 21\n",
      "------------------------------\n",
      "matchType: squad\n",
      "players     total: 91  1st:  4  other: 87\n",
      "kills       total: 83  1st:  7  other: 76\n",
      "teamKills   total:  1  1st:  0  other:  1\n",
      "roadKills   total:  0  1st:  0  other:  0\n",
      "DBNOs       total: 79  1st:  5  other: 74\n",
      "revives     total: 17  1st:  3  other: 14\n",
      "assists     total: 35  1st:  6  other: 29\n",
      "------------------------------\n",
      "matchType: duo\n",
      "players     total: 98  1st:  2  other: 96\n",
      "kills       total: 91  1st:  9  other: 82\n",
      "teamKills   total:  0  1st:  0  other:  0\n",
      "roadKills   total:  0  1st:  0  other:  0\n",
      "DBNOs       total: 52  1st:  4  other: 48\n",
      "revives     total:  7  1st:  2  other:  5\n",
      "assists     total: 20  1st:  3  other: 17\n",
      "------------------------------\n",
      "matchType: squad\n",
      "players     total: 91  1st:  3  other: 88\n",
      "kills       total: 82  1st:  8  other: 74\n",
      "teamKills   total:  3  1st:  0  other:  3\n",
      "roadKills   total:  0  1st:  0  other:  0\n",
      "DBNOs       total: 78  1st:  5  other: 73\n",
      "revives     total: 24  1st:  0  other: 24\n",
      "assists     total: 27  1st:  3  other: 24\n",
      "------------------------------\n",
      "matchType: solo\n",
      "players     total: 97  1st:  1  other: 96\n",
      "kills       total: 91  1st: 11  other: 80\n",
      "teamKills   total:  2  1st:  0  other:  2\n",
      "roadKills   total:  0  1st:  0  other:  0\n",
      "DBNOs       total:  0  1st:  0  other:  0\n",
      "revives     total:  0  1st:  0  other:  0\n",
      "assists     total:  5  1st:  0  other:  5\n",
      "------------------------------\n"
     ]
    }
   ],
   "source": [
    "sampleMid = train['matchId'].unique()[0:5]\n",
    "printMatchStats(sampleMid)"
   ]
  },
  {
   "cell_type": "code",
   "execution_count": 52,
   "metadata": {
    "_uuid": "824de45f321d0d263cef84cb38d61c627ecb4179"
   },
   "outputs": [
    {
     "name": "stdout",
     "output_type": "stream",
     "text": [
      "matchType: duo\n",
      "players     total:100  1st:  2  other: 98\n",
      "kills       total: 95  1st:  6  other: 89\n",
      "teamKills   total:  1  1st:  0  other:  1\n",
      "roadKills   total:  0  1st:  0  other:  0\n",
      "DBNOs       total: 59  1st:  2  other: 57\n",
      "revives     total: 11  1st:  0  other: 11\n",
      "assists     total: 22  1st:  0  other: 22\n",
      "------------------------------\n",
      "matchType: duo\n",
      "players     total:100  1st:  2  other: 98\n",
      "kills       total: 93  1st:  8  other: 85\n",
      "teamKills   total:  3  1st:  0  other:  3\n",
      "roadKills   total:  0  1st:  0  other:  0\n",
      "DBNOs       total: 66  1st:  3  other: 63\n",
      "revives     total: 16  1st:  1  other: 15\n",
      "assists     total: 22  1st:  3  other: 19\n",
      "------------------------------\n",
      "matchType: squad\n",
      "players     total:100  1st:  4  other: 96\n",
      "kills       total: 90  1st: 10  other: 80\n",
      "teamKills   total:  1  1st:  0  other:  1\n",
      "roadKills   total:  0  1st:  0  other:  0\n",
      "DBNOs       total: 89  1st:  8  other: 81\n",
      "revives     total: 21  1st:  2  other: 19\n",
      "assists     total: 35  1st:  6  other: 29\n",
      "------------------------------\n",
      "matchType: squad\n",
      "players     total:100  1st:  4  other: 96\n",
      "kills       total: 93  1st:  4  other: 89\n",
      "teamKills   total:  4  1st:  0  other:  4\n",
      "roadKills   total:  0  1st:  0  other:  0\n",
      "DBNOs       total: 83  1st:  3  other: 80\n",
      "revives     total: 13  1st:  1  other: 12\n",
      "assists     total: 24  1st:  1  other: 23\n",
      "------------------------------\n",
      "matchType: duo\n",
      "players     total:100  1st:  2  other: 98\n",
      "kills       total: 95  1st:  4  other: 91\n",
      "teamKills   total:  1  1st:  0  other:  1\n",
      "roadKills   total:  0  1st:  0  other:  0\n",
      "DBNOs       total: 70  1st:  2  other: 68\n",
      "revives     total: 24  1st:  1  other: 23\n",
      "assists     total: 17  1st:  1  other: 16\n",
      "------------------------------\n"
     ]
    }
   ],
   "source": [
    "match = train.groupby(['matchId'])['Id'].count()\n",
    "fullplayer = match[match == 100].reset_index()\n",
    "sampleMid = fullplayer['matchId'][0:5]\n",
    "printMatchStats(sampleMid)"
   ]
  },
  {
   "cell_type": "code",
   "execution_count": 53,
   "metadata": {
    "_kg_hide-input": true,
    "_kg_hide-output": true,
    "_uuid": "6861d03aaac2195ca9bf9c916f62056c5aa84c3f"
   },
   "outputs": [],
   "source": [
    "#print(pd.DataFrame([[val for val in dir()], [sys.getsizeof(eval(val)) for val in dir()]],\n",
    "#                   index=['name','size']).T.sort_values('size', ascending=False).reset_index(drop=True)[:10])"
   ]
  },
  {
   "cell_type": "markdown",
   "metadata": {
    "_uuid": "c4c2f216b4a5844210786103c0b53325d2621f87"
   },
   "source": [
    "# Feature Engineering"
   ]
  },
  {
   "cell_type": "code",
   "execution_count": 54,
   "metadata": {
    "_uuid": "f380c60d3e7f1d7c30ef85e003cef3e29044df74",
    "scrolled": true
   },
   "outputs": [
    {
     "data": {
      "text/plain": [
       "100"
      ]
     },
     "execution_count": 54,
     "metadata": {},
     "output_type": "execute_result"
    }
   ],
   "source": [
    "all_data = train.append(test, sort=False).reset_index(drop=True)\n",
    "del train, test\n",
    "gc.collect()"
   ]
  },
  {
   "cell_type": "markdown",
   "metadata": {
    "_uuid": "87c64c56e6086e0d3a45ef8f406d3f5ab77264ae"
   },
   "source": [
    "## rank as percent"
   ]
  },
  {
   "cell_type": "code",
   "execution_count": 55,
   "metadata": {
    "_uuid": "ae99340b6dd3ca4eca651532fa721e653f4bb814"
   },
   "outputs": [],
   "source": [
    "match = all_data.groupby('matchId')\n",
    "all_data['killsPerc'] = match['kills'].rank(pct=True).values\n",
    "all_data['killPlacePerc'] = match['killPlace'].rank(pct=True).values\n",
    "all_data['walkDistancePerc'] = match['walkDistance'].rank(pct=True).values\n",
    "#all_data['damageDealtPerc'] = match['damageDealt'].rank(pct=True).values\n",
    "all_data['walkPerc_killsPerc'] = all_data['walkDistancePerc'] / all_data['killsPerc']"
   ]
  },
  {
   "cell_type": "markdown",
   "metadata": {
    "_uuid": "5fe9430f47541ceec4f8f11f6dd6c13fd3d28aab"
   },
   "source": [
    "## distance"
   ]
  },
  {
   "cell_type": "code",
   "execution_count": 56,
   "metadata": {
    "_uuid": "e04031b469e3bc55fa42b0a41f6f93f676523cc3"
   },
   "outputs": [],
   "source": [
    "all_data['_totalDistance'] = all_data['rideDistance'] + all_data['walkDistance'] + all_data['swimDistance']\n",
    "#all_data['_rideBin'] = (all_data['rideDistance'] > 0).astype(int)\n",
    "#all_data['_swimBin'] = (all_data['swimDistance'] > 0).astype(int)"
   ]
  },
  {
   "cell_type": "markdown",
   "metadata": {
    "_uuid": "669b837c115c19d61b40c79a7d3e7e72bb5e3474"
   },
   "source": [
    "## new feature"
   ]
  },
  {
   "cell_type": "code",
   "execution_count": 57,
   "metadata": {
    "_uuid": "5d077f08112b044cc360905361e366cdf1967271"
   },
   "outputs": [],
   "source": [
    "def fillInf(df, val):\n",
    "    numcols = df.select_dtypes(include='number').columns\n",
    "    cols = numcols[numcols != 'winPlacePerc']\n",
    "    df[df == np.Inf] = np.NaN\n",
    "    df[df == np.NINF] = np.NaN\n",
    "    for c in cols: df[c].fillna(val, inplace=True)"
   ]
  },
  {
   "cell_type": "code",
   "execution_count": 58,
   "metadata": {
    "_uuid": "5bc388eab6eaba7077d715460011bc26199be2cb"
   },
   "outputs": [],
   "source": [
    "all_data['_healthItems'] = all_data['heals'] + all_data['boosts']\n",
    "all_data['_headshotKillRate'] = all_data['headshotKills'] / all_data['kills']\n",
    "all_data['_killPlaceOverMaxPlace'] = all_data['killPlace'] / all_data['maxPlace']\n",
    "all_data['_killsOverWalkDistance'] = all_data['kills'] / all_data['walkDistance']\n",
    "#all_data['_killsOverDistance'] = all_data['kills'] / all_data['_totalDistance']\n",
    "#all_data['_walkDistancePerSec'] = all_data['walkDistance'] / all_data['matchDuration']\n",
    "\n",
    "fillInf(all_data, 0)"
   ]
  },
  {
   "cell_type": "markdown",
   "metadata": {
    "_uuid": "26244216aa5995036da9485d3d8188031c43a10d"
   },
   "source": [
    "## drop feature"
   ]
  },
  {
   "cell_type": "code",
   "execution_count": 59,
   "metadata": {
    "_uuid": "1765f2581a9f07e9616ced120cb3aafd6611015c"
   },
   "outputs": [],
   "source": [
    "all_data.drop(['boosts','heals','killStreaks','DBNOs'], axis=1, inplace=True)\n",
    "all_data.drop(['headshotKills','roadKills','vehicleDestroys'], axis=1, inplace=True)\n",
    "all_data.drop(['rideDistance','swimDistance','matchDuration'], axis=1, inplace=True)\n",
    "all_data.drop(['rankPoints','killPoints','winPoints'], axis=1, inplace=True)"
   ]
  },
  {
   "cell_type": "markdown",
   "metadata": {
    "_uuid": "f9ecb5ec4de85e60fde11b1fa9a8e8ec850094c6"
   },
   "source": [
    "## grouping\n",
    "\n",
    "* need to predict the order of places for groups within each match.\n",
    "* train on group-level instead of the user-level"
   ]
  },
  {
   "cell_type": "code",
   "execution_count": 60,
   "metadata": {
    "_uuid": "72b532cda47ca292bd0bfd5e2982f5d9aeab3401"
   },
   "outputs": [
    {
     "name": "stdout",
     "output_type": "stream",
     "text": [
      "['assists', 'damageDealt', 'killPlace', 'kills', 'longestKill', 'revives', 'teamKills', 'walkDistance', 'weaponsAcquired', 'killsPerc', 'killPlacePerc', 'walkDistancePerc', 'walkPerc_killsPerc', '_totalDistance', '_healthItems', '_headshotKillRate', '_killPlaceOverMaxPlace', '_killsOverWalkDistance']\n"
     ]
    }
   ],
   "source": [
    "match = all_data.groupby(['matchId'])\n",
    "group = all_data.groupby(['matchId','groupId','matchType'])\n",
    "\n",
    "# target feature (max, min)\n",
    "agg_col = list(all_data.columns)\n",
    "exclude_agg_col = ['Id' , 'matchId','groupId','matchType','maxPlace','numGroups','winPlacePerc']\n",
    "for c in exclude_agg_col:\n",
    "    agg_col.remove(c)\n",
    "print(agg_col)\n",
    "\n",
    "# target feature (sum)\n",
    "sum_col = ['kills','killPlace','damageDealt','walkDistance','_healthItems']"
   ]
  },
  {
   "cell_type": "code",
   "execution_count": 61,
   "metadata": {
    "_uuid": "5318ce2a99f2960fef819a9793d939032e52c844"
   },
   "outputs": [
    {
     "name": "stdout",
     "output_type": "stream",
     "text": [
      "Memory usage of dataframe is 408.37 MB --> 288.92 MB (Decreased by 29.3%)\n",
      "(2912982, 24)\n"
     ]
    }
   ],
   "source": [
    "''' \n",
    "match sum, match max, match mean, group sum\n",
    "'''\n",
    "match_data = pd.concat([\n",
    "    match.size().to_frame('m.players'), \n",
    "    match[sum_col].sum().rename(columns=lambda s: 'm.sum.' + s), \n",
    "    match[sum_col].max().rename(columns=lambda s: 'm.max.' + s),\n",
    "    match[sum_col].mean().rename(columns=lambda s: 'm.mean.' + s)\n",
    "    ], axis=1).reset_index()\n",
    "match_data = pd.merge(match_data, \n",
    "    group[sum_col].sum().rename(columns=lambda s: 'sum.' + s).reset_index())\n",
    "match_data = reduce_mem_usage(match_data)\n",
    "\n",
    "print(match_data.shape)"
   ]
  },
  {
   "cell_type": "code",
   "execution_count": 62,
   "metadata": {
    "_uuid": "270cbffd8766c34043d209258e64dbaee02a0a96"
   },
   "outputs": [
    {
     "name": "stdout",
     "output_type": "stream",
     "text": [
      "Memory usage of dataframe is 377.81 MB --> 333.36 MB (Decreased by 11.8%)\n",
      "(2912982, 28)\n"
     ]
    }
   ],
   "source": [
    "''' \n",
    "ranking of kills and killPlace in each match\n",
    "'''\n",
    "minKills = all_data.sort_values(['matchId','groupId','kills','killPlace']).groupby(\n",
    "    ['matchId','groupId','kills']).first().reset_index().copy()\n",
    "for n in np.arange(4):\n",
    "    c = 'kills_' + str(n) + '_Place'\n",
    "    nKills = (minKills['kills'] == n)\n",
    "    minKills.loc[nKills, c] = minKills[nKills].groupby(['matchId'])['killPlace'].rank().values\n",
    "    match_data = pd.merge(match_data, minKills[nKills][['matchId','groupId',c]], how='left')\n",
    "    #match_data[c].fillna(0, inplace=True)\n",
    "match_data = reduce_mem_usage(match_data)\n",
    "del minKills, nKills\n",
    "\n",
    "print(match_data.shape)"
   ]
  },
  {
   "cell_type": "code",
   "execution_count": 63,
   "metadata": {
    "_uuid": "d1c3d430bf8e05121ebc2a15628234273e91f778"
   },
   "outputs": [
    {
     "data": {
      "text/html": [
       "<div>\n",
       "<style scoped>\n",
       "    .dataframe tbody tr th:only-of-type {\n",
       "        vertical-align: middle;\n",
       "    }\n",
       "\n",
       "    .dataframe tbody tr th {\n",
       "        vertical-align: top;\n",
       "    }\n",
       "\n",
       "    .dataframe thead th {\n",
       "        text-align: right;\n",
       "    }\n",
       "</style>\n",
       "<table border=\"1\" class=\"dataframe\">\n",
       "  <thead>\n",
       "    <tr style=\"text-align: right;\">\n",
       "      <th></th>\n",
       "      <th>matchId</th>\n",
       "      <th>m.players</th>\n",
       "      <th>m.sum.kills</th>\n",
       "      <th>m.sum.killPlace</th>\n",
       "      <th>m.sum.damageDealt</th>\n",
       "      <th>m.sum.walkDistance</th>\n",
       "      <th>m.sum._healthItems</th>\n",
       "      <th>m.max.kills</th>\n",
       "      <th>m.max.killPlace</th>\n",
       "      <th>m.max.damageDealt</th>\n",
       "      <th>...</th>\n",
       "      <th>matchType</th>\n",
       "      <th>sum.kills</th>\n",
       "      <th>sum.killPlace</th>\n",
       "      <th>sum.damageDealt</th>\n",
       "      <th>sum.walkDistance</th>\n",
       "      <th>sum._healthItems</th>\n",
       "      <th>kills_0_Place</th>\n",
       "      <th>kills_1_Place</th>\n",
       "      <th>kills_2_Place</th>\n",
       "      <th>kills_3_Place</th>\n",
       "    </tr>\n",
       "  </thead>\n",
       "  <tbody>\n",
       "    <tr>\n",
       "      <th>0</th>\n",
       "      <td>0000a43bce5eec</td>\n",
       "      <td>95</td>\n",
       "      <td>90.000</td>\n",
       "      <td>4,560.000</td>\n",
       "      <td>13,539.771</td>\n",
       "      <td>119,082.789</td>\n",
       "      <td>224.000</td>\n",
       "      <td>7</td>\n",
       "      <td>95</td>\n",
       "      <td>983.700</td>\n",
       "      <td>...</td>\n",
       "      <td>squad</td>\n",
       "      <td>2.000</td>\n",
       "      <td>82.000</td>\n",
       "      <td>219.350</td>\n",
       "      <td>263.370</td>\n",
       "      <td>2.000</td>\n",
       "      <td>13.000</td>\n",
       "      <td>nan</td>\n",
       "      <td>6.000</td>\n",
       "      <td>nan</td>\n",
       "    </tr>\n",
       "    <tr>\n",
       "      <th>1</th>\n",
       "      <td>0000a43bce5eec</td>\n",
       "      <td>95</td>\n",
       "      <td>90.000</td>\n",
       "      <td>4,560.000</td>\n",
       "      <td>13,539.771</td>\n",
       "      <td>119,082.789</td>\n",
       "      <td>224.000</td>\n",
       "      <td>7</td>\n",
       "      <td>95</td>\n",
       "      <td>983.700</td>\n",
       "      <td>...</td>\n",
       "      <td>squad</td>\n",
       "      <td>0.000</td>\n",
       "      <td>543.000</td>\n",
       "      <td>287.930</td>\n",
       "      <td>119.591</td>\n",
       "      <td>0.000</td>\n",
       "      <td>21.000</td>\n",
       "      <td>nan</td>\n",
       "      <td>nan</td>\n",
       "      <td>nan</td>\n",
       "    </tr>\n",
       "    <tr>\n",
       "      <th>2</th>\n",
       "      <td>0000a43bce5eec</td>\n",
       "      <td>95</td>\n",
       "      <td>90.000</td>\n",
       "      <td>4,560.000</td>\n",
       "      <td>13,539.771</td>\n",
       "      <td>119,082.789</td>\n",
       "      <td>224.000</td>\n",
       "      <td>7</td>\n",
       "      <td>95</td>\n",
       "      <td>983.700</td>\n",
       "      <td>...</td>\n",
       "      <td>squad</td>\n",
       "      <td>0.000</td>\n",
       "      <td>189.000</td>\n",
       "      <td>0.000</td>\n",
       "      <td>9.636</td>\n",
       "      <td>0.000</td>\n",
       "      <td>22.000</td>\n",
       "      <td>nan</td>\n",
       "      <td>nan</td>\n",
       "      <td>nan</td>\n",
       "    </tr>\n",
       "    <tr>\n",
       "      <th>3</th>\n",
       "      <td>0000a43bce5eec</td>\n",
       "      <td>95</td>\n",
       "      <td>90.000</td>\n",
       "      <td>4,560.000</td>\n",
       "      <td>13,539.771</td>\n",
       "      <td>119,082.789</td>\n",
       "      <td>224.000</td>\n",
       "      <td>7</td>\n",
       "      <td>95</td>\n",
       "      <td>983.700</td>\n",
       "      <td>...</td>\n",
       "      <td>squad</td>\n",
       "      <td>0.000</td>\n",
       "      <td>119.000</td>\n",
       "      <td>23.400</td>\n",
       "      <td>1,118.100</td>\n",
       "      <td>1.000</td>\n",
       "      <td>12.000</td>\n",
       "      <td>nan</td>\n",
       "      <td>nan</td>\n",
       "      <td>nan</td>\n",
       "    </tr>\n",
       "    <tr>\n",
       "      <th>4</th>\n",
       "      <td>0000a43bce5eec</td>\n",
       "      <td>95</td>\n",
       "      <td>90.000</td>\n",
       "      <td>4,560.000</td>\n",
       "      <td>13,539.771</td>\n",
       "      <td>119,082.789</td>\n",
       "      <td>224.000</td>\n",
       "      <td>7</td>\n",
       "      <td>95</td>\n",
       "      <td>983.700</td>\n",
       "      <td>...</td>\n",
       "      <td>squad</td>\n",
       "      <td>6.000</td>\n",
       "      <td>28.000</td>\n",
       "      <td>681.900</td>\n",
       "      <td>6,585.000</td>\n",
       "      <td>9.000</td>\n",
       "      <td>nan</td>\n",
       "      <td>1.000</td>\n",
       "      <td>nan</td>\n",
       "      <td>nan</td>\n",
       "    </tr>\n",
       "  </tbody>\n",
       "</table>\n",
       "<p>5 rows × 28 columns</p>\n",
       "</div>"
      ],
      "text/plain": [
       "          matchId  m.players  m.sum.kills  m.sum.killPlace  m.sum.damageDealt  \\\n",
       "0  0000a43bce5eec         95       90.000        4,560.000         13,539.771   \n",
       "1  0000a43bce5eec         95       90.000        4,560.000         13,539.771   \n",
       "2  0000a43bce5eec         95       90.000        4,560.000         13,539.771   \n",
       "3  0000a43bce5eec         95       90.000        4,560.000         13,539.771   \n",
       "4  0000a43bce5eec         95       90.000        4,560.000         13,539.771   \n",
       "\n",
       "   m.sum.walkDistance  m.sum._healthItems  m.max.kills  m.max.killPlace  \\\n",
       "0         119,082.789             224.000            7               95   \n",
       "1         119,082.789             224.000            7               95   \n",
       "2         119,082.789             224.000            7               95   \n",
       "3         119,082.789             224.000            7               95   \n",
       "4         119,082.789             224.000            7               95   \n",
       "\n",
       "   m.max.damageDealt  ...  matchType  sum.kills  sum.killPlace  \\\n",
       "0            983.700  ...      squad      2.000         82.000   \n",
       "1            983.700  ...      squad      0.000        543.000   \n",
       "2            983.700  ...      squad      0.000        189.000   \n",
       "3            983.700  ...      squad      0.000        119.000   \n",
       "4            983.700  ...      squad      6.000         28.000   \n",
       "\n",
       "   sum.damageDealt  sum.walkDistance  sum._healthItems  kills_0_Place  \\\n",
       "0          219.350           263.370             2.000         13.000   \n",
       "1          287.930           119.591             0.000         21.000   \n",
       "2            0.000             9.636             0.000         22.000   \n",
       "3           23.400         1,118.100             1.000         12.000   \n",
       "4          681.900         6,585.000             9.000            nan   \n",
       "\n",
       "  kills_1_Place kills_2_Place  kills_3_Place  \n",
       "0           nan         6.000            nan  \n",
       "1           nan           nan            nan  \n",
       "2           nan           nan            nan  \n",
       "3           nan           nan            nan  \n",
       "4         1.000           nan            nan  \n",
       "\n",
       "[5 rows x 28 columns]"
      ]
     },
     "execution_count": 63,
     "metadata": {},
     "output_type": "execute_result"
    }
   ],
   "source": [
    "match_data.head()"
   ]
  },
  {
   "cell_type": "code",
   "execution_count": 64,
   "metadata": {
    "_uuid": "8ab91d60f601ab7bc4a997de22a7e60a0cd5ea07"
   },
   "outputs": [
    {
     "name": "stdout",
     "output_type": "stream",
     "text": [
      "Memory usage of dataframe is 911.20 MB --> 591.72 MB (Decreased by 35.1%)\n",
      "(2912982, 61)\n"
     ]
    }
   ],
   "source": [
    "''' \n",
    "group mean, max, min\n",
    "'''\n",
    "all_data = pd.concat([\n",
    "    group.size().to_frame('players'),\n",
    "    group.mean(),\n",
    "    group[agg_col].max().rename(columns=lambda s: 'max.' + s),\n",
    "    group[agg_col].min().rename(columns=lambda s: 'min.' + s),\n",
    "    ], axis=1).reset_index()\n",
    "all_data = reduce_mem_usage(all_data)\n",
    "\n",
    "print(all_data.shape)"
   ]
  },
  {
   "cell_type": "code",
   "execution_count": 65,
   "metadata": {
    "_uuid": "04479a224cf54bb3c946e1c8388225082315f164"
   },
   "outputs": [],
   "source": [
    "# suicide: solo and teamKills > 0\n",
    "#all_data['_suicide'] = ((all_data['players'] == 1) & (all_data['teamKills'] > 0)).astype(int)"
   ]
  },
  {
   "cell_type": "markdown",
   "metadata": {
    "_uuid": "dbe45939855acb980439ea2f83ed7c6f2d87e95d"
   },
   "source": [
    "## aggregate feature"
   ]
  },
  {
   "cell_type": "code",
   "execution_count": 66,
   "metadata": {
    "_uuid": "a4bc443565321a07a9ce0c161ec8f9924b83d2d5"
   },
   "outputs": [],
   "source": [
    "numcols = all_data.select_dtypes(include='number').columns.values\n",
    "numcols = numcols[numcols != 'winPlacePerc']"
   ]
  },
  {
   "cell_type": "code",
   "execution_count": 67,
   "metadata": {
    "_uuid": "2dac1842b61335675367c7a4ac180c6b3dbc42bb"
   },
   "outputs": [
    {
     "name": "stdout",
     "output_type": "stream",
     "text": [
      "(2912982, 87)\n"
     ]
    }
   ],
   "source": [
    "''' \n",
    "match summary, max\n",
    "'''\n",
    "all_data = pd.merge(all_data, match_data)\n",
    "del match_data\n",
    "gc.collect()\n",
    "\n",
    "all_data['enemy.players'] = all_data['m.players'] - all_data['players']\n",
    "for c in sum_col:\n",
    "    #all_data['enemy.' + c] = (all_data['m.sum.' + c] - all_data['sum.' + c]) / all_data['enemy.players']\n",
    "    #all_data['p.sum_msum.' + c] = all_data['sum.' + c] / all_data['m.sum.' + c]\n",
    "    #all_data['p.max_mmean.' + c] = all_data['max.' + c] / all_data['m.mean.' + c]\n",
    "    all_data['p.max_msum.' + c] = all_data['max.' + c] / all_data['m.sum.' + c]\n",
    "    all_data['p.max_mmax.' + c] = all_data['max.' + c] / all_data['m.max.' + c]\n",
    "    all_data.drop(['m.sum.' + c, 'm.max.' + c], axis=1, inplace=True)\n",
    "    \n",
    "fillInf(all_data, 0)\n",
    "print(all_data.shape)"
   ]
  },
  {
   "cell_type": "code",
   "execution_count": 68,
   "metadata": {
    "_uuid": "d63ccf63773c949805683f5aee3c3699f1f3aeb7"
   },
   "outputs": [
    {
     "name": "stdout",
     "output_type": "stream",
     "text": [
      "Memory usage of dataframe is 2186.31 MB --> 1519.59 MB (Decreased by 30.5%)\n",
      "(2912982, 144)\n"
     ]
    }
   ],
   "source": [
    "''' \n",
    "match rank\n",
    "'''\n",
    "match = all_data.groupby('matchId')\n",
    "matchRank = match[numcols].rank(pct=True).rename(columns=lambda s: 'rank.' + s)\n",
    "all_data = reduce_mem_usage(pd.concat([all_data, matchRank], axis=1))\n",
    "rank_col = matchRank.columns\n",
    "del matchRank\n",
    "gc.collect()\n",
    "\n",
    "# instead of rank(pct=True, method='dense')\n",
    "match = all_data.groupby('matchId')\n",
    "matchRank = match[rank_col].max().rename(columns=lambda s: 'max.' + s).reset_index()\n",
    "all_data = pd.merge(all_data, matchRank)\n",
    "for c in numcols:\n",
    "    all_data['rank.' + c] = all_data['rank.' + c] / all_data['max.rank.' + c]\n",
    "    all_data.drop(['max.rank.' + c], axis=1, inplace=True)\n",
    "del matchRank\n",
    "gc.collect()\n",
    "\n",
    "print(all_data.shape)"
   ]
  },
  {
   "cell_type": "markdown",
   "metadata": {
    "_uuid": "dd2cfbf18321ea2e8d64c47a392c70c10556b7a2"
   },
   "source": [
    "## killPlace rank of group and kills"
   ]
  },
  {
   "cell_type": "code",
   "execution_count": 69,
   "metadata": {
    "_uuid": "a70258951066929394045448888ed0b5396d6c84"
   },
   "outputs": [
    {
     "data": {
      "text/plain": [
       "70"
      ]
     },
     "execution_count": 69,
     "metadata": {},
     "output_type": "execute_result"
    }
   ],
   "source": [
    "''' TODO: incomplete\n",
    "''' \n",
    "killMinorRank = all_data[['matchId','min.kills','max.killPlace']].copy()\n",
    "group = killMinorRank.groupby(['matchId','min.kills'])\n",
    "killMinorRank['rank.minor.maxKillPlace'] = group.rank(pct=True).values\n",
    "all_data = pd.merge(all_data, killMinorRank)\n",
    "\n",
    "killMinorRank = all_data[['matchId','max.kills','min.killPlace']].copy()\n",
    "group = killMinorRank.groupby(['matchId','max.kills'])\n",
    "killMinorRank['rank.minor.minKillPlace'] = group.rank(pct=True).values\n",
    "all_data = pd.merge(all_data, killMinorRank)\n",
    "\n",
    "del killMinorRank\n",
    "gc.collect()"
   ]
  },
  {
   "cell_type": "markdown",
   "metadata": {
    "_uuid": "7ff6408d747855db53b14d6872aff2ba90521be3"
   },
   "source": [
    "## delete feature"
   ]
  },
  {
   "cell_type": "code",
   "execution_count": 70,
   "metadata": {
    "_uuid": "1e65a2de00d692f724ae1eaec6f9ef30ff9e9663"
   },
   "outputs": [
    {
     "name": "stdout",
     "output_type": "stream",
     "text": [
      "drop columns: ['rank.maxPlace', 'rank.numGroups']\n"
     ]
    }
   ],
   "source": [
    "# drop constant column\n",
    "constant_column = [col for col in all_data.columns if all_data[col].nunique() == 1]\n",
    "print('drop columns:', constant_column)\n",
    "all_data.drop(constant_column, axis=1, inplace=True)"
   ]
  },
  {
   "cell_type": "markdown",
   "metadata": {
    "_uuid": "4260c2df241609760f64056be3bd01615bae2a95"
   },
   "source": [
    "## encode"
   ]
  },
  {
   "cell_type": "code",
   "execution_count": 71,
   "metadata": {
    "_uuid": "62b3e7f76ed405f53608d1f451a030707a8936fe"
   },
   "outputs": [],
   "source": [
    "'''\n",
    "solo  <-- solo,solo-fpp,normal-solo,normal-solo-fpp\n",
    "duo   <-- duo,duo-fpp,normal-duo,normal-duo-fpp,crashfpp,crashtpp\n",
    "squad <-- squad,squad-fpp,normal-squad,normal-squad-fpp,flarefpp,flaretpp\n",
    "'''\n",
    "all_data['matchType'] = all_data['matchType'].apply(mapper)\n",
    "\n",
    "all_data = pd.concat([all_data, pd.get_dummies(all_data['matchType'])], axis=1)\n",
    "all_data.drop(['matchType'], axis=1, inplace=True)\n",
    "\n",
    "all_data['matchId'] = all_data['matchId'].apply(lambda x: int(x,16))\n",
    "all_data['groupId'] = all_data['groupId'].apply(lambda x: int(x,16))"
   ]
  },
  {
   "cell_type": "code",
   "execution_count": 72,
   "metadata": {
    "_uuid": "9baea764a8acff2c2ab49226098fc0c11c8a668a"
   },
   "outputs": [
    {
     "name": "stdout",
     "output_type": "stream",
     "text": [
      "winPlacePerc    886238\n",
      "dtype: int64\n"
     ]
    }
   ],
   "source": [
    "null_cnt = all_data.isnull().sum().sort_values()\n",
    "print(null_cnt[null_cnt > 0])"
   ]
  },
  {
   "cell_type": "code",
   "execution_count": 73,
   "metadata": {
    "_uuid": "f7138c7995f98a6704d0f9952774917a075b7c14"
   },
   "outputs": [
    {
     "name": "stdout",
     "output_type": "stream",
     "text": [
      "Memory usage of dataframe is 1527.92 MB --> 1530.70 MB (Decreased by -0.2%)\n"
     ]
    },
    {
     "data": {
      "text/html": [
       "<div>\n",
       "<style scoped>\n",
       "    .dataframe tbody tr th:only-of-type {\n",
       "        vertical-align: middle;\n",
       "    }\n",
       "\n",
       "    .dataframe tbody tr th {\n",
       "        vertical-align: top;\n",
       "    }\n",
       "\n",
       "    .dataframe thead th {\n",
       "        text-align: right;\n",
       "    }\n",
       "</style>\n",
       "<table border=\"1\" class=\"dataframe\">\n",
       "  <thead>\n",
       "    <tr style=\"text-align: right;\">\n",
       "      <th></th>\n",
       "      <th>matchId</th>\n",
       "      <th>groupId</th>\n",
       "      <th>players</th>\n",
       "      <th>assists</th>\n",
       "      <th>damageDealt</th>\n",
       "      <th>killPlace</th>\n",
       "      <th>kills</th>\n",
       "      <th>longestKill</th>\n",
       "      <th>maxPlace</th>\n",
       "      <th>numGroups</th>\n",
       "      <th>...</th>\n",
       "      <th>rank.min._totalDistance</th>\n",
       "      <th>rank.min._healthItems</th>\n",
       "      <th>rank.min._headshotKillRate</th>\n",
       "      <th>rank.min._killPlaceOverMaxPlace</th>\n",
       "      <th>rank.min._killsOverWalkDistance</th>\n",
       "      <th>rank.minor.maxKillPlace</th>\n",
       "      <th>rank.minor.minKillPlace</th>\n",
       "      <th>duo</th>\n",
       "      <th>solo</th>\n",
       "      <th>squad</th>\n",
       "    </tr>\n",
       "  </thead>\n",
       "  <tbody>\n",
       "    <tr>\n",
       "      <th>0</th>\n",
       "      <td>705378017004</td>\n",
       "      <td>6950488777545910</td>\n",
       "      <td>2</td>\n",
       "      <td>0.000</td>\n",
       "      <td>109.675</td>\n",
       "      <td>41.000</td>\n",
       "      <td>1.000</td>\n",
       "      <td>6.275</td>\n",
       "      <td>28.000</td>\n",
       "      <td>28.000</td>\n",
       "      <td>...</td>\n",
       "      <td>0.286</td>\n",
       "      <td>0.625</td>\n",
       "      <td>0.500</td>\n",
       "      <td>0.429</td>\n",
       "      <td>0.411</td>\n",
       "      <td>0.591</td>\n",
       "      <td>1.000</td>\n",
       "      <td>0.000</td>\n",
       "      <td>0.000</td>\n",
       "      <td>1.000</td>\n",
       "    </tr>\n",
       "    <tr>\n",
       "      <th>1</th>\n",
       "      <td>705378017004</td>\n",
       "      <td>9968970908074425</td>\n",
       "      <td>6</td>\n",
       "      <td>0.000</td>\n",
       "      <td>47.988</td>\n",
       "      <td>90.500</td>\n",
       "      <td>0.000</td>\n",
       "      <td>0.000</td>\n",
       "      <td>28.000</td>\n",
       "      <td>28.000</td>\n",
       "      <td>...</td>\n",
       "      <td>0.054</td>\n",
       "      <td>0.286</td>\n",
       "      <td>0.500</td>\n",
       "      <td>0.964</td>\n",
       "      <td>0.411</td>\n",
       "      <td>0.955</td>\n",
       "      <td>0.900</td>\n",
       "      <td>0.000</td>\n",
       "      <td>0.000</td>\n",
       "      <td>1.000</td>\n",
       "    </tr>\n",
       "    <tr>\n",
       "      <th>2</th>\n",
       "      <td>705378017004</td>\n",
       "      <td>16443050264754488</td>\n",
       "      <td>2</td>\n",
       "      <td>0.000</td>\n",
       "      <td>0.000</td>\n",
       "      <td>94.500</td>\n",
       "      <td>0.000</td>\n",
       "      <td>0.000</td>\n",
       "      <td>28.000</td>\n",
       "      <td>28.000</td>\n",
       "      <td>...</td>\n",
       "      <td>0.054</td>\n",
       "      <td>0.286</td>\n",
       "      <td>0.500</td>\n",
       "      <td>1.000</td>\n",
       "      <td>0.411</td>\n",
       "      <td>1.000</td>\n",
       "      <td>1.000</td>\n",
       "      <td>0.000</td>\n",
       "      <td>0.000</td>\n",
       "      <td>1.000</td>\n",
       "    </tr>\n",
       "    <tr>\n",
       "      <th>3</th>\n",
       "      <td>705378017004</td>\n",
       "      <td>21374959510965402</td>\n",
       "      <td>2</td>\n",
       "      <td>0.000</td>\n",
       "      <td>11.700</td>\n",
       "      <td>59.500</td>\n",
       "      <td>0.000</td>\n",
       "      <td>0.000</td>\n",
       "      <td>28.000</td>\n",
       "      <td>28.000</td>\n",
       "      <td>...</td>\n",
       "      <td>0.429</td>\n",
       "      <td>0.286</td>\n",
       "      <td>0.500</td>\n",
       "      <td>0.821</td>\n",
       "      <td>0.411</td>\n",
       "      <td>0.545</td>\n",
       "      <td>0.500</td>\n",
       "      <td>0.000</td>\n",
       "      <td>0.000</td>\n",
       "      <td>1.000</td>\n",
       "    </tr>\n",
       "    <tr>\n",
       "      <th>4</th>\n",
       "      <td>705378017004</td>\n",
       "      <td>21704066427752580</td>\n",
       "      <td>2</td>\n",
       "      <td>1.000</td>\n",
       "      <td>340.950</td>\n",
       "      <td>14.000</td>\n",
       "      <td>3.000</td>\n",
       "      <td>25.230</td>\n",
       "      <td>28.000</td>\n",
       "      <td>28.000</td>\n",
       "      <td>...</td>\n",
       "      <td>0.964</td>\n",
       "      <td>0.839</td>\n",
       "      <td>1.000</td>\n",
       "      <td>0.143</td>\n",
       "      <td>0.821</td>\n",
       "      <td>0.333</td>\n",
       "      <td>1.000</td>\n",
       "      <td>0.000</td>\n",
       "      <td>0.000</td>\n",
       "      <td>1.000</td>\n",
       "    </tr>\n",
       "  </tbody>\n",
       "</table>\n",
       "<p>5 rows × 146 columns</p>\n",
       "</div>"
      ],
      "text/plain": [
       "        matchId            groupId  players  assists  damageDealt  killPlace  \\\n",
       "0  705378017004   6950488777545910        2    0.000      109.675     41.000   \n",
       "1  705378017004   9968970908074425        6    0.000       47.988     90.500   \n",
       "2  705378017004  16443050264754488        2    0.000        0.000     94.500   \n",
       "3  705378017004  21374959510965402        2    0.000       11.700     59.500   \n",
       "4  705378017004  21704066427752580        2    1.000      340.950     14.000   \n",
       "\n",
       "   kills  longestKill  maxPlace  numGroups  ...  rank.min._totalDistance  \\\n",
       "0  1.000        6.275    28.000     28.000  ...                    0.286   \n",
       "1  0.000        0.000    28.000     28.000  ...                    0.054   \n",
       "2  0.000        0.000    28.000     28.000  ...                    0.054   \n",
       "3  0.000        0.000    28.000     28.000  ...                    0.429   \n",
       "4  3.000       25.230    28.000     28.000  ...                    0.964   \n",
       "\n",
       "   rank.min._healthItems  rank.min._headshotKillRate  \\\n",
       "0                  0.625                       0.500   \n",
       "1                  0.286                       0.500   \n",
       "2                  0.286                       0.500   \n",
       "3                  0.286                       0.500   \n",
       "4                  0.839                       1.000   \n",
       "\n",
       "   rank.min._killPlaceOverMaxPlace  rank.min._killsOverWalkDistance  \\\n",
       "0                            0.429                            0.411   \n",
       "1                            0.964                            0.411   \n",
       "2                            1.000                            0.411   \n",
       "3                            0.821                            0.411   \n",
       "4                            0.143                            0.821   \n",
       "\n",
       "   rank.minor.maxKillPlace  rank.minor.minKillPlace   duo  solo  squad  \n",
       "0                    0.591                    1.000 0.000 0.000  1.000  \n",
       "1                    0.955                    0.900 0.000 0.000  1.000  \n",
       "2                    1.000                    1.000 0.000 0.000  1.000  \n",
       "3                    0.545                    0.500 0.000 0.000  1.000  \n",
       "4                    0.333                    1.000 0.000 0.000  1.000  \n",
       "\n",
       "[5 rows x 146 columns]"
      ]
     },
     "execution_count": 73,
     "metadata": {},
     "output_type": "execute_result"
    }
   ],
   "source": [
    "# all_data.drop([],axis=1,inplace=True)\n",
    "\n",
    "cols = [col for col in all_data.columns if col not in ['Id','matchId','groupId']]\n",
    "for i, t in all_data.loc[:, cols].dtypes.iteritems():\n",
    "    if t == object:\n",
    "        all_data[i] = pd.factorize(all_data[i])[0]\n",
    "\n",
    "all_data = reduce_mem_usage(all_data)\n",
    "all_data.head()"
   ]
  },
  {
   "cell_type": "code",
   "execution_count": 75,
   "metadata": {},
   "outputs": [
    {
     "data": {
      "text/plain": [
       "(2912982, 146)"
      ]
     },
     "execution_count": 75,
     "metadata": {},
     "output_type": "execute_result"
    }
   ],
   "source": [
    "all_data.shape"
   ]
  },
  {
   "cell_type": "markdown",
   "metadata": {
    "_uuid": "8db28f0dcc9d2a0de93238de1a6eb76bb7f6331b"
   },
   "source": [
    "# Predict"
   ]
  },
  {
   "cell_type": "code",
   "execution_count": 76,
   "metadata": {
    "_uuid": "c9638c50680633d176596da0dbb085ca31bacf19"
   },
   "outputs": [
    {
     "name": "stdout",
     "output_type": "stream",
     "text": [
      "(2026744, 143) (886238, 143)\n"
     ]
    }
   ],
   "source": [
    "X_train = all_data[all_data['winPlacePerc'].notnull()].reset_index(drop=True)\n",
    "X_test = all_data[all_data['winPlacePerc'].isnull()].drop(['winPlacePerc'], axis=1).reset_index(drop=True)\n",
    "del all_data\n",
    "gc.collect()\n",
    "\n",
    "Y_train = X_train.pop('winPlacePerc')\n",
    "X_test_grp = X_test[['matchId','groupId']].copy()\n",
    "train_matchId = X_train['matchId']\n",
    "\n",
    "# drop matchId,groupId\n",
    "X_train.drop(['matchId','groupId'], axis=1, inplace=True)\n",
    "X_test.drop(['matchId','groupId'], axis=1, inplace=True)\n",
    "\n",
    "print(X_train.shape, X_test.shape)"
   ]
  },
  {
   "cell_type": "code",
   "execution_count": 77,
   "metadata": {
    "_uuid": "e777c101f7ce2cec11e284daabd4c1f94edae41d"
   },
   "outputs": [
    {
     "name": "stdout",
     "output_type": "stream",
     "text": [
      "            name        size\n",
      "0        X_train  1059987216\n",
      "1         X_test   463502578\n",
      "2  train_matchId    16214056\n",
      "3     X_test_grp    14179912\n",
      "4        Y_train     8107080\n",
      "5            sub      401089\n",
      "6     fullplayer      111810\n",
      "7         subset       33974\n",
      "8       subMatch       33749\n",
      "9       null_cnt       27653\n"
     ]
    }
   ],
   "source": [
    "print(pd.DataFrame([[val for val in dir()], [sys.getsizeof(eval(val)) for val in dir()]],\n",
    "                   index=['name','size']).T.sort_values('size', ascending=False).reset_index(drop=True)[:10])\n",
    "stop = stop"
   ]
  },
  {
   "cell_type": "code",
   "execution_count": null,
   "metadata": {
    "_uuid": "dc48e7700f42ba20351ac2ef4900fb8909cf6f6a"
   },
   "outputs": [],
   "source": [
    "from sklearn.model_selection import GroupKFold\n",
    "from sklearn.preprocessing import minmax_scale\n",
    "import lightgbm as lgb\n",
    "\n",
    "params={'learning_rate': 0.05,\n",
    "        'objective':'mae',\n",
    "        'metric':'mae',\n",
    "        'num_leaves': 128,\n",
    "        'verbose': 1,\n",
    "        'random_state':42,\n",
    "        'bagging_fraction': 0.7,\n",
    "        'feature_fraction': 0.7\n",
    "       }\n",
    "\n",
    "reg = lgb.LGBMRegressor(**params, n_estimators=10000)\n",
    "reg.fit(X_train, Y_train)\n",
    "pred = reg.predict(X_test, num_iteration=reg.best_iteration_)"
   ]
  },
  {
   "cell_type": "code",
   "execution_count": null,
   "metadata": {
    "_uuid": "dcbae65430ef43f08591ccd200fe33f802d938a6",
    "scrolled": true
   },
   "outputs": [],
   "source": [
    "# Plot feature importance\n",
    "feature_importance = reg.feature_importances_\n",
    "feature_importance = 100.0 * (feature_importance / feature_importance.max())\n",
    "sorted_idx = np.argsort(feature_importance)\n",
    "sorted_idx = sorted_idx[len(feature_importance) - 30:]\n",
    "pos = np.arange(sorted_idx.shape[0]) + .5\n",
    "\n",
    "plt.figure(figsize=(12,8))\n",
    "plt.barh(pos, feature_importance[sorted_idx], align='center')\n",
    "plt.yticks(pos, X_train.columns[sorted_idx])\n",
    "plt.xlabel('Relative Importance')\n",
    "plt.title('Variable Importance')\n",
    "plt.show()"
   ]
  },
  {
   "cell_type": "code",
   "execution_count": null,
   "metadata": {
    "_uuid": "1eb81894fc2d9ac46827fcdfef367e09772d080f",
    "scrolled": false
   },
   "outputs": [],
   "source": [
    "X_train.columns[np.argsort(-feature_importance)].values"
   ]
  },
  {
   "cell_type": "code",
   "execution_count": null,
   "metadata": {
    "_uuid": "605701ae5d89d21ac56ac3ddcf69175f936e3b18"
   },
   "outputs": [],
   "source": [
    "X_test_grp['_nofit.winPlacePerc'] = pred\n",
    "\n",
    "group = X_test_grp.groupby(['matchId'])\n",
    "X_test_grp['winPlacePerc'] = pred\n",
    "X_test_grp['_rank.winPlacePerc'] = group['winPlacePerc'].rank(method='min')\n",
    "X_test = pd.concat([X_test, X_test_grp], axis=1)"
   ]
  },
  {
   "cell_type": "code",
   "execution_count": null,
   "metadata": {
    "_uuid": "ae29276c07cdd5c255205eb4cae731bad1596521",
    "scrolled": false
   },
   "outputs": [],
   "source": [
    "fullgroup = (X_test['numGroups'] == X_test['maxPlace'])\n",
    "\n",
    "# full group (201366) --> calculate from rank\n",
    "subset = X_test.loc[fullgroup]\n",
    "X_test.loc[fullgroup, 'winPlacePerc'] = (subset['_rank.winPlacePerc'].values - 1) / (subset['maxPlace'].values - 1)\n",
    "\n",
    "# not full group (684872) --> align with maxPlace\n",
    "subset = X_test.loc[~fullgroup]\n",
    "gap = 1.0 / (subset['maxPlace'].values - 1)\n",
    "new_perc = np.around(subset['winPlacePerc'].values / gap) * gap  # half&up\n",
    "X_test.loc[~fullgroup, 'winPlacePerc'] = new_perc\n",
    "\n",
    "X_test['winPlacePerc'] = X_test['winPlacePerc'].clip(lower=0,upper=1)"
   ]
  },
  {
   "cell_type": "code",
   "execution_count": null,
   "metadata": {
    "_uuid": "120892921b6952de5751237c07ebb3e6c9090d82"
   },
   "outputs": [],
   "source": [
    "_='''\n",
    "subset = X_test.loc[~fullgroup].groupby(['matchId','_pred.winPlace']).filter(lambda x: len(x)>1)\n",
    "\n",
    "rank1p, rank1m = list(), list()\n",
    "for n, df in subset.groupby(['matchId','_pred.winPlace']):\n",
    "    matchId, rank = n[0], n[1]\n",
    "    matchRanks = X_test[X_test['matchId'] == matchId]['_pred.winPlace'].values\n",
    "    df = df.sort_values(['_rank.winPlacePerc'])\n",
    "    dupCount = len(df)\n",
    "    \n",
    "    hasUpper = (rank == 1) or ((rank - 1) in matchRanks)\n",
    "    hasLower = (rank == df['maxPlace'].values[0]) or ((rank + 1) in matchRanks)\n",
    "    if hasUpper and not hasLower:\n",
    "        rank1p.append(df.index[dupCount-1])\n",
    "    elif not hasUpper and hasLower:\n",
    "        rank1m.append(df.index[0])\n",
    "    elif not hasUpper and not hasLower:\n",
    "        if (dupCount > 2):\n",
    "            rank1p.append(df.index[dupCount-1])\n",
    "            rank1m.append(df.index[0])\n",
    "        else:\n",
    "            base = 1.0 / (df['maxPlace'].values[0] - 1) * rank\n",
    "            percs = df['_nofit.winPlacePerc'].values\n",
    "            if abs(percs[0] - base) < abs(percs[dupCount-1] - base):\n",
    "                rank1p.append(df.index[dupCount-1])\n",
    "            else:\n",
    "                rank1m.append(df.index[0])\n",
    "                                \n",
    "X_test.loc[rank1p, '_pred.winPlace'] = X_test.loc[rank1p, '_pred.winPlace'] + 1\n",
    "X_test.loc[rank1m, '_pred.winPlace'] = X_test.loc[rank1m, '_pred.winPlace'] - 1\n",
    "print(len(rank1p),len(rank1m))\n",
    "\n",
    "subset = X_test.loc[~fullgroup]\n",
    "gap = 1.0 / (subset['maxPlace'].values - 1)\n",
    "new_perc = (subset['_pred.winPlace'].values - 1) * gap\n",
    "X_test.loc[~fullgroup, 'winPlacePerc'] = new_perc\n",
    "'''"
   ]
  },
  {
   "cell_type": "code",
   "execution_count": null,
   "metadata": {
    "_uuid": "2ab07f991a8d6cd17ba36c0510a2a507acb808f4"
   },
   "outputs": [],
   "source": [
    "# edge cases\n",
    "X_test.loc[X_test['maxPlace'] == 0, 'winPlacePerc'] = 0\n",
    "X_test.loc[X_test['maxPlace'] == 1, 'winPlacePerc'] = 1  # nothing\n",
    "X_test.loc[(X_test['maxPlace'] > 1) & (X_test['numGroups'] == 1), 'winPlacePerc'] = 0\n",
    "X_test['winPlacePerc'].describe()"
   ]
  },
  {
   "cell_type": "markdown",
   "metadata": {
    "_uuid": "86209503fc7f68f37024f82057cf10819ef75634"
   },
   "source": [
    "## Submit"
   ]
  },
  {
   "cell_type": "code",
   "execution_count": null,
   "metadata": {
    "_uuid": "7cd3bf14e3d8d03d9ebfa45826acbbb38cb421e4"
   },
   "outputs": [],
   "source": [
    "abc = cba\n",
    "test = pd.read_csv('../input/test_V2.csv')\n",
    "test['matchId'] = test['matchId'].apply(lambda x: int(x,16))\n",
    "test['groupId'] = test['groupId'].apply(lambda x: int(x,16))\n",
    "\n",
    "submission = pd.merge(test, X_test[['matchId','groupId','winPlacePerc']])\n",
    "submission = submission[['Id','winPlacePerc']]\n",
    "submission.to_csv(\"submission.csv\", index=False)"
   ]
  },
  {
   "cell_type": "code",
   "execution_count": null,
   "metadata": {
    "_uuid": "2527e0ed0735c2b09a7f00880265d19da515eb74"
   },
   "outputs": [],
   "source": []
  }
 ],
 "metadata": {
  "kernelspec": {
   "display_name": "Python 3",
   "language": "python",
   "name": "python3"
  },
  "language_info": {
   "codemirror_mode": {
    "name": "ipython",
    "version": 3
   },
   "file_extension": ".py",
   "mimetype": "text/x-python",
   "name": "python",
   "nbconvert_exporter": "python",
   "pygments_lexer": "ipython3",
   "version": "3.7.3"
  }
 },
 "nbformat": 4,
 "nbformat_minor": 1
}
